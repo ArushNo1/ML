{
 "cells": [
  {
   "cell_type": "markdown",
   "metadata": {},
   "source": [
    "# Extracting sentiment from Movie Review Text"
   ]
  },
  {
   "cell_type": "markdown",
   "metadata": {},
   "source": [
    "The dataset can be downloaded here: <a href = https://ai.stanford.edu/~amaas/data/sentiment/aclImdb_v1.tar.gz>https://ai.stanford.edu/~amaas/data/sentiment/aclImdb_v1.tar.gz</a> "
   ]
  },
  {
   "cell_type": "markdown",
   "metadata": {},
   "source": [
    "This dataset is a collection of movie reviews from IMDb. The reviews are all highly positive or negative, and no more than 30 reviews from the same movie are in the dataset. I'm going to try to analyze the text using bag of words and tfidf then using basic SVM. Then, I will try some ensemble models such as random forest, gradient boosting, and stacking with pipelines to improve the models. <span style='color:red'>Finish Later With final Results</span>"
   ]
  },
  {
   "cell_type": "markdown",
   "metadata": {},
   "source": [
    "## The Data"
   ]
  },
  {
   "cell_type": "markdown",
   "metadata": {},
   "source": [
    "Here I am defining a method to convert the giant folder archive into a large dataframe that I can work with easier. I also pickle the dataframe for fast retrieval later."
   ]
  },
  {
   "cell_type": "code",
   "execution_count": 8,
   "metadata": {},
   "outputs": [],
   "source": [
    "import os\n",
    "import pandas as pd\n",
    "import pickle\n",
    "import numpy as np\n",
    "import matplotlib.pyplot as plt\n",
    "from sklearn.model_selection import train_test_split, cross_val_score\n",
    "from sklearn.feature_extraction.text import CountVectorizer, TfidfVectorizer\n",
    "from sklearn.neighbors import KNeighborsClassifier"
   ]
  },
  {
   "cell_type": "code",
   "execution_count": 9,
   "metadata": {},
   "outputs": [],
   "source": [
    "def read_dataset(firstTime = False):\n",
    "    if not firstTime:\n",
    "        return pickle.load(open('data/IMDb.pkl', 'rb'))\n",
    "    \n",
    "    headers = [\"id\", \"rating\", \"text\", \"sentiment\"]\n",
    "    data = []\n",
    "    for file in os.listdir(\"aclImdb/train/pos\"):\n",
    "        id, rating = file.split(\"_\")\n",
    "        rating, _ = rating.split(\".\")\n",
    "        text = open(\"aclImdb/train/pos/\" + file).read()\n",
    "        id = int(id)\n",
    "        rating = int(rating)\n",
    "        data.append([id, rating, text, 1])\n",
    "    \n",
    "    for file in os.listdir(\"aclImdb/train/neg\"):\n",
    "        id, rating = file.split(\"_\")\n",
    "        rating, _ = rating.split(\".\")\n",
    "        text = open(\"aclImdb/train/neg/\" + file).read()\n",
    "        id = int(id)\n",
    "        rating = int(rating)\n",
    "        data.append([id, rating, text, 0])\n",
    "        \n",
    "    for file in os.listdir(\"aclImdb/test/pos\"):\n",
    "        id, rating = file.split(\"_\")\n",
    "        rating, _ = rating.split(\".\")\n",
    "        text = open(\"aclImdb/test/pos/\" + file).read()\n",
    "        id = int(id)\n",
    "        rating = int(rating)\n",
    "        data.append([id, rating, text, 1])\n",
    "    \n",
    "    for file in os.listdir(\"aclImdb/test/neg\"):\n",
    "        id, rating = file.split(\"_\")\n",
    "        rating, _ = rating.split(\".\")\n",
    "        text = open(\"aclImdb/test/neg/\" + file).read()\n",
    "        id = int(id)\n",
    "        rating = int(rating)\n",
    "        data.append([id, rating, text, 0])\n",
    "    \n",
    "    df = pd.DataFrame(data, columns=headers)\n",
    "    pickle.dump(df, open('data/IMDb.pkl', 'wb'))\n",
    "    return df"
   ]
  },
  {
   "cell_type": "code",
   "execution_count": 10,
   "metadata": {},
   "outputs": [],
   "source": [
    "data = read_dataset()"
   ]
  },
  {
   "cell_type": "markdown",
   "metadata": {},
   "source": [
    "Here's the structure of the archive, as described by the authors:\n",
    "\n",
    "```bash\n",
    "aclImdb\n",
    "├──test\n",
    "│   ├──pos\n",
    "│   └──neg\n",
    "├──train\n",
    "│   ├──pos\n",
    "│   ├──neg\n",
    "│   └──unsup\n",
    "\n",
    "```\n",
    "\n",
    "A 50-50 test-train split has already been made, but I want an 80-20 split so I'm going to combine both folders. The \"pos\" and \"neg\" folders inside the test and train contain pre-classified reviews, which is what I use to assign column values in the read_dataset method above. The file names contain additional info about the actual rating and the ID of the review."
   ]
  },
  {
   "cell_type": "markdown",
   "metadata": {},
   "source": [
    "The features in the dataset are:\n",
    "  - text\n",
    "  - sentiment: whether the review was positive (1) or negative (0)\n",
    "  - rating: the rating of the review (1-10)\n",
    "  - id: the ID of the review"
   ]
  },
  {
   "cell_type": "code",
   "execution_count": 11,
   "metadata": {},
   "outputs": [
    {
     "data": {
      "text/plain": [
       "id           0\n",
       "rating       0\n",
       "text         0\n",
       "sentiment    0\n",
       "dtype: int64"
      ]
     },
     "execution_count": 11,
     "metadata": {},
     "output_type": "execute_result"
    }
   ],
   "source": [
    "data.isna().sum()"
   ]
  },
  {
   "cell_type": "markdown",
   "metadata": {},
   "source": [
    "Looks like there's no missing data or anything. I'll check the distribution of the sentiment column to see if there's any imbalance."
   ]
  },
  {
   "cell_type": "code",
   "execution_count": 12,
   "metadata": {},
   "outputs": [
    {
     "data": {
      "image/png": "[encoded data removed]",
      "text/plain": [
       "<Figure size 640x480 with 1 Axes>"
      ]
     },
     "metadata": {},
     "output_type": "display_data"
    },
    {
     "name": "stdout",
     "output_type": "stream",
     "text": [
      "Positive percentage: 0.5\n"
     ]
    }
   ],
   "source": [
    "pos = data[data['sentiment'] == 1]\n",
    "neg = data[data['sentiment'] == 0]\n",
    "\n",
    "plt.title(\"Sentiment Distribution\")\n",
    "plt.bar(['Positive', 'Negative'], [pos.shape[0], neg.shape[0]])\n",
    "plt.show()\n",
    "\n",
    "print(f\"Positive percentage: {data.sentiment.mean()}\")"
   ]
  },
  {
   "cell_type": "markdown",
   "metadata": {},
   "source": [
    "The dataset is perfectly balanced, which is great. There's no real preprocessing to do here because of how clean the dataset is already."
   ]
  },
  {
   "cell_type": "markdown",
   "metadata": {},
   "source": [
    "## Feature Extraction"
   ]
  },
  {
   "cell_type": "markdown",
   "metadata": {},
   "source": [
    "I'll start with CountVectorizer to do bag of words encoding on the review texts, and then see how it performs with a subset of the data using KNN."
   ]
  },
  {
   "cell_type": "code",
   "execution_count": 13,
   "metadata": {},
   "outputs": [],
   "source": [
    "reduced_data = data[::25]\n",
    "X_train_raw, X_test_raw, y_train, y_test = train_test_split(reduced_data['text'], reduced_data['sentiment'], test_size=0.2, random_state=102)\n",
    "\n",
    "vectorizer = CountVectorizer()\n",
    "vectorizer.fit(reduced_data['text'])\n",
    "X_train = vectorizer.transform(X_train_raw)\n",
    "X_test = vectorizer.transform(X_test_raw)"
   ]
  },
  {
   "cell_type": "code",
   "execution_count": 14,
   "metadata": {},
   "outputs": [
    {
     "data": {
      "text/plain": [
       "array([0.603125, 0.546875, 0.56875 , 0.603125, 0.621875])"
      ]
     },
     "execution_count": 14,
     "metadata": {},
     "output_type": "execute_result"
    }
   ],
   "source": [
    "bowmodel = KNeighborsClassifier()\n",
    "bowmodel.fit(X_train, y_train)\n",
    "\n",
    "cvscore = cross_val_score(bowmodel, X_train, y_train, cv=5)\n",
    "print(f\"Accuracy: {np.mean(cvscore)} ± {np.stdev(cvscore)}\")"
   ]
  },
  {
   "cell_type": "code",
   "execution_count": null,
   "metadata": {},
   "outputs": [],
   "source": [
    " "
   ]
  }
 ],
 "metadata": {
  "kernelspec": {
   "display_name": "env",
   "language": "python",
   "name": "python3"
  },
  "language_info": {
   "codemirror_mode": {
    "name": "ipython",
    "version": 3
   },
   "file_extension": ".py",
   "mimetype": "text/x-python",
   "name": "python",
   "nbconvert_exporter": "python",
   "pygments_lexer": "ipython3",
   "version": "3.11.9"
  }
 },
 "nbformat": 4,
 "nbformat_minor": 4
}
