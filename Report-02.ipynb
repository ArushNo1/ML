{
 "cells": [
  {
   "cell_type": "markdown",
   "metadata": {},
   "source": [
    "  - Grid Search\n",
    "  - Cross Validation\n",
    "  - Bagging\n",
    "  - Boosting\n",
    "  - Stacking\n",
    "  - Voting"
   ]
  },
  {
   "cell_type": "markdown",
   "metadata": {},
   "source": []
  }
 ],
 "metadata": {
  "language_info": {
   "name": "python"
  }
 },
 "nbformat": 4,
 "nbformat_minor": 2
}
