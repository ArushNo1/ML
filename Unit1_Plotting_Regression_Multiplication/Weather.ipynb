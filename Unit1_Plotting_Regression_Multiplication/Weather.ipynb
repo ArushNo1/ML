{
 "cells": [
  {
   "cell_type": "markdown",
   "id": "d3427101-fc24-4685-9573-8f841230bb52",
   "metadata": {},
   "source": [
    "# Weather In London Over The Years"
   ]
  },
  {
   "cell_type": "code",
   "execution_count": 2,
   "id": "fecbe6ac-4f6a-44c1-baa0-6075b85b08e7",
   "metadata": {},
   "outputs": [],
   "source": [
    "import pandas as pd\n",
    "import matplotlib"
   ]
  },
  {
   "cell_type": "markdown",
   "id": "aaeccf60-04ac-431c-a93f-8adcad90d3e1",
   "metadata": {},
   "source": [
    "Analyze Weather data"
   ]
  },
  {
   "cell_type": "code",
   "execution_count": 3,
   "id": "53c80434-def4-4fdc-815b-266e959c6589",
   "metadata": {},
   "outputs": [
    {
     "data": {
      "text/html": [
       "<div>\n",
       "<style scoped>\n",
       "    .dataframe tbody tr th:only-of-type {\n",
       "        vertical-align: middle;\n",
       "    }\n",
       "\n",
       "    .dataframe tbody tr th {\n",
       "        vertical-align: top;\n",
       "    }\n",
       "\n",
       "    .dataframe thead th {\n",
       "        text-align: right;\n",
       "    }\n",
       "</style>\n",
       "<table border=\"1\" class=\"dataframe\">\n",
       "  <thead>\n",
       "    <tr style=\"text-align: right;\">\n",
       "      <th></th>\n",
       "      <th>date</th>\n",
       "      <th>cloud_cover</th>\n",
       "      <th>sunshine</th>\n",
       "      <th>global_radiation</th>\n",
       "      <th>max_temp</th>\n",
       "      <th>mean_temp</th>\n",
       "      <th>min_temp</th>\n",
       "      <th>precipitation</th>\n",
       "      <th>pressure</th>\n",
       "      <th>snow_depth</th>\n",
       "      <th>year</th>\n",
       "      <th>month</th>\n",
       "      <th>day</th>\n",
       "    </tr>\n",
       "  </thead>\n",
       "  <tbody>\n",
       "    <tr>\n",
       "      <th>0</th>\n",
       "      <td>19790101</td>\n",
       "      <td>2.0</td>\n",
       "      <td>7.0</td>\n",
       "      <td>52.0</td>\n",
       "      <td>2.3</td>\n",
       "      <td>-4.1</td>\n",
       "      <td>-7.5</td>\n",
       "      <td>0.4</td>\n",
       "      <td>101900.0</td>\n",
       "      <td>9.0</td>\n",
       "      <td>1979</td>\n",
       "      <td>1</td>\n",
       "      <td>1</td>\n",
       "    </tr>\n",
       "    <tr>\n",
       "      <th>1</th>\n",
       "      <td>19790102</td>\n",
       "      <td>6.0</td>\n",
       "      <td>1.7</td>\n",
       "      <td>27.0</td>\n",
       "      <td>1.6</td>\n",
       "      <td>-2.6</td>\n",
       "      <td>-7.5</td>\n",
       "      <td>0.0</td>\n",
       "      <td>102530.0</td>\n",
       "      <td>8.0</td>\n",
       "      <td>1979</td>\n",
       "      <td>1</td>\n",
       "      <td>2</td>\n",
       "    </tr>\n",
       "    <tr>\n",
       "      <th>2</th>\n",
       "      <td>19790103</td>\n",
       "      <td>5.0</td>\n",
       "      <td>0.0</td>\n",
       "      <td>13.0</td>\n",
       "      <td>1.3</td>\n",
       "      <td>-2.8</td>\n",
       "      <td>-7.2</td>\n",
       "      <td>0.0</td>\n",
       "      <td>102050.0</td>\n",
       "      <td>4.0</td>\n",
       "      <td>1979</td>\n",
       "      <td>1</td>\n",
       "      <td>3</td>\n",
       "    </tr>\n",
       "    <tr>\n",
       "      <th>3</th>\n",
       "      <td>19790104</td>\n",
       "      <td>8.0</td>\n",
       "      <td>0.0</td>\n",
       "      <td>13.0</td>\n",
       "      <td>-0.3</td>\n",
       "      <td>-2.6</td>\n",
       "      <td>-6.5</td>\n",
       "      <td>0.0</td>\n",
       "      <td>100840.0</td>\n",
       "      <td>2.0</td>\n",
       "      <td>1979</td>\n",
       "      <td>1</td>\n",
       "      <td>4</td>\n",
       "    </tr>\n",
       "    <tr>\n",
       "      <th>4</th>\n",
       "      <td>19790105</td>\n",
       "      <td>6.0</td>\n",
       "      <td>2.0</td>\n",
       "      <td>29.0</td>\n",
       "      <td>5.6</td>\n",
       "      <td>-0.8</td>\n",
       "      <td>-1.4</td>\n",
       "      <td>0.0</td>\n",
       "      <td>102250.0</td>\n",
       "      <td>1.0</td>\n",
       "      <td>1979</td>\n",
       "      <td>1</td>\n",
       "      <td>5</td>\n",
       "    </tr>\n",
       "    <tr>\n",
       "      <th>...</th>\n",
       "      <td>...</td>\n",
       "      <td>...</td>\n",
       "      <td>...</td>\n",
       "      <td>...</td>\n",
       "      <td>...</td>\n",
       "      <td>...</td>\n",
       "      <td>...</td>\n",
       "      <td>...</td>\n",
       "      <td>...</td>\n",
       "      <td>...</td>\n",
       "      <td>...</td>\n",
       "      <td>...</td>\n",
       "      <td>...</td>\n",
       "    </tr>\n",
       "    <tr>\n",
       "      <th>15336</th>\n",
       "      <td>20201227</td>\n",
       "      <td>1.0</td>\n",
       "      <td>0.9</td>\n",
       "      <td>32.0</td>\n",
       "      <td>7.5</td>\n",
       "      <td>7.5</td>\n",
       "      <td>7.6</td>\n",
       "      <td>2.0</td>\n",
       "      <td>98000.0</td>\n",
       "      <td>NaN</td>\n",
       "      <td>2020</td>\n",
       "      <td>12</td>\n",
       "      <td>27</td>\n",
       "    </tr>\n",
       "    <tr>\n",
       "      <th>15337</th>\n",
       "      <td>20201228</td>\n",
       "      <td>7.0</td>\n",
       "      <td>3.7</td>\n",
       "      <td>38.0</td>\n",
       "      <td>3.6</td>\n",
       "      <td>1.1</td>\n",
       "      <td>-1.3</td>\n",
       "      <td>0.2</td>\n",
       "      <td>97370.0</td>\n",
       "      <td>NaN</td>\n",
       "      <td>2020</td>\n",
       "      <td>12</td>\n",
       "      <td>28</td>\n",
       "    </tr>\n",
       "    <tr>\n",
       "      <th>15338</th>\n",
       "      <td>20201229</td>\n",
       "      <td>7.0</td>\n",
       "      <td>0.0</td>\n",
       "      <td>21.0</td>\n",
       "      <td>4.1</td>\n",
       "      <td>2.6</td>\n",
       "      <td>1.1</td>\n",
       "      <td>0.0</td>\n",
       "      <td>98830.0</td>\n",
       "      <td>NaN</td>\n",
       "      <td>2020</td>\n",
       "      <td>12</td>\n",
       "      <td>29</td>\n",
       "    </tr>\n",
       "    <tr>\n",
       "      <th>15339</th>\n",
       "      <td>20201230</td>\n",
       "      <td>6.0</td>\n",
       "      <td>0.4</td>\n",
       "      <td>22.0</td>\n",
       "      <td>5.6</td>\n",
       "      <td>2.7</td>\n",
       "      <td>-0.1</td>\n",
       "      <td>0.0</td>\n",
       "      <td>100200.0</td>\n",
       "      <td>NaN</td>\n",
       "      <td>2020</td>\n",
       "      <td>12</td>\n",
       "      <td>30</td>\n",
       "    </tr>\n",
       "    <tr>\n",
       "      <th>15340</th>\n",
       "      <td>20201231</td>\n",
       "      <td>7.0</td>\n",
       "      <td>1.3</td>\n",
       "      <td>34.0</td>\n",
       "      <td>1.5</td>\n",
       "      <td>-0.8</td>\n",
       "      <td>-3.1</td>\n",
       "      <td>0.0</td>\n",
       "      <td>100500.0</td>\n",
       "      <td>NaN</td>\n",
       "      <td>2020</td>\n",
       "      <td>12</td>\n",
       "      <td>31</td>\n",
       "    </tr>\n",
       "  </tbody>\n",
       "</table>\n",
       "<p>15341 rows × 13 columns</p>\n",
       "</div>"
      ],
      "text/plain": [
       "           date  cloud_cover  sunshine  global_radiation  max_temp  mean_temp  \\\n",
       "0      19790101          2.0       7.0              52.0       2.3       -4.1   \n",
       "1      19790102          6.0       1.7              27.0       1.6       -2.6   \n",
       "2      19790103          5.0       0.0              13.0       1.3       -2.8   \n",
       "3      19790104          8.0       0.0              13.0      -0.3       -2.6   \n",
       "4      19790105          6.0       2.0              29.0       5.6       -0.8   \n",
       "...         ...          ...       ...               ...       ...        ...   \n",
       "15336  20201227          1.0       0.9              32.0       7.5        7.5   \n",
       "15337  20201228          7.0       3.7              38.0       3.6        1.1   \n",
       "15338  20201229          7.0       0.0              21.0       4.1        2.6   \n",
       "15339  20201230          6.0       0.4              22.0       5.6        2.7   \n",
       "15340  20201231          7.0       1.3              34.0       1.5       -0.8   \n",
       "\n",
       "       min_temp  precipitation  pressure  snow_depth  year  month  day  \n",
       "0          -7.5            0.4  101900.0         9.0  1979      1    1  \n",
       "1          -7.5            0.0  102530.0         8.0  1979      1    2  \n",
       "2          -7.2            0.0  102050.0         4.0  1979      1    3  \n",
       "3          -6.5            0.0  100840.0         2.0  1979      1    4  \n",
       "4          -1.4            0.0  102250.0         1.0  1979      1    5  \n",
       "...         ...            ...       ...         ...   ...    ...  ...  \n",
       "15336       7.6            2.0   98000.0         NaN  2020     12   27  \n",
       "15337      -1.3            0.2   97370.0         NaN  2020     12   28  \n",
       "15338       1.1            0.0   98830.0         NaN  2020     12   29  \n",
       "15339      -0.1            0.0  100200.0         NaN  2020     12   30  \n",
       "15340      -3.1            0.0  100500.0         NaN  2020     12   31  \n",
       "\n",
       "[15341 rows x 13 columns]"
      ]
     },
     "execution_count": 3,
     "metadata": {},
     "output_type": "execute_result"
    }
   ],
   "source": [
    "df = pd.read_csv('london_weather.csv')\n",
    "df['year'] = df['date']//10000\n",
    "df['month'] = (df['date']//100) % 100\n",
    "df['day'] = df['date'] % 100\n",
    "df"
   ]
  },
  {
   "cell_type": "code",
   "execution_count": 4,
   "id": "392a30c2-898d-4848-bcbe-afea58e8da94",
   "metadata": {},
   "outputs": [
    {
     "data": {
      "text/html": [
       "<div>\n",
       "<style scoped>\n",
       "    .dataframe tbody tr th:only-of-type {\n",
       "        vertical-align: middle;\n",
       "    }\n",
       "\n",
       "    .dataframe tbody tr th {\n",
       "        vertical-align: top;\n",
       "    }\n",
       "\n",
       "    .dataframe thead th {\n",
       "        text-align: right;\n",
       "    }\n",
       "</style>\n",
       "<table border=\"1\" class=\"dataframe\">\n",
       "  <thead>\n",
       "    <tr style=\"text-align: right;\">\n",
       "      <th></th>\n",
       "      <th>date</th>\n",
       "      <th>cloud_cover</th>\n",
       "      <th>sunshine</th>\n",
       "      <th>global_radiation</th>\n",
       "      <th>max_temp</th>\n",
       "      <th>mean_temp</th>\n",
       "      <th>min_temp</th>\n",
       "      <th>precipitation</th>\n",
       "      <th>pressure</th>\n",
       "      <th>snow_depth</th>\n",
       "      <th>year</th>\n",
       "      <th>month</th>\n",
       "      <th>day</th>\n",
       "    </tr>\n",
       "  </thead>\n",
       "  <tbody>\n",
       "    <tr>\n",
       "      <th>count</th>\n",
       "      <td>1.534100e+04</td>\n",
       "      <td>15322.000000</td>\n",
       "      <td>15341.000000</td>\n",
       "      <td>15322.000000</td>\n",
       "      <td>15335.000000</td>\n",
       "      <td>15305.000000</td>\n",
       "      <td>15339.000000</td>\n",
       "      <td>15335.000000</td>\n",
       "      <td>15337.000000</td>\n",
       "      <td>13900.000000</td>\n",
       "      <td>15341.000000</td>\n",
       "      <td>15341.000000</td>\n",
       "      <td>15341.000000</td>\n",
       "    </tr>\n",
       "    <tr>\n",
       "      <th>mean</th>\n",
       "      <td>1.999567e+07</td>\n",
       "      <td>5.268242</td>\n",
       "      <td>4.350238</td>\n",
       "      <td>118.756951</td>\n",
       "      <td>15.388777</td>\n",
       "      <td>11.475511</td>\n",
       "      <td>7.559867</td>\n",
       "      <td>1.668634</td>\n",
       "      <td>101536.605594</td>\n",
       "      <td>0.037986</td>\n",
       "      <td>1999.500359</td>\n",
       "      <td>6.522782</td>\n",
       "      <td>15.730070</td>\n",
       "    </tr>\n",
       "    <tr>\n",
       "      <th>std</th>\n",
       "      <td>1.212176e+05</td>\n",
       "      <td>2.070072</td>\n",
       "      <td>4.028339</td>\n",
       "      <td>88.898272</td>\n",
       "      <td>6.554754</td>\n",
       "      <td>5.729709</td>\n",
       "      <td>5.326756</td>\n",
       "      <td>3.738540</td>\n",
       "      <td>1049.722604</td>\n",
       "      <td>0.545633</td>\n",
       "      <td>12.121708</td>\n",
       "      <td>3.448856</td>\n",
       "      <td>8.800562</td>\n",
       "    </tr>\n",
       "    <tr>\n",
       "      <th>min</th>\n",
       "      <td>1.979010e+07</td>\n",
       "      <td>0.000000</td>\n",
       "      <td>0.000000</td>\n",
       "      <td>8.000000</td>\n",
       "      <td>-6.200000</td>\n",
       "      <td>-7.600000</td>\n",
       "      <td>-11.800000</td>\n",
       "      <td>0.000000</td>\n",
       "      <td>95960.000000</td>\n",
       "      <td>0.000000</td>\n",
       "      <td>1979.000000</td>\n",
       "      <td>1.000000</td>\n",
       "      <td>1.000000</td>\n",
       "    </tr>\n",
       "    <tr>\n",
       "      <th>25%</th>\n",
       "      <td>1.989070e+07</td>\n",
       "      <td>4.000000</td>\n",
       "      <td>0.500000</td>\n",
       "      <td>41.000000</td>\n",
       "      <td>10.500000</td>\n",
       "      <td>7.000000</td>\n",
       "      <td>3.500000</td>\n",
       "      <td>0.000000</td>\n",
       "      <td>100920.000000</td>\n",
       "      <td>0.000000</td>\n",
       "      <td>1989.000000</td>\n",
       "      <td>4.000000</td>\n",
       "      <td>8.000000</td>\n",
       "    </tr>\n",
       "    <tr>\n",
       "      <th>50%</th>\n",
       "      <td>2.000010e+07</td>\n",
       "      <td>6.000000</td>\n",
       "      <td>3.500000</td>\n",
       "      <td>95.000000</td>\n",
       "      <td>15.000000</td>\n",
       "      <td>11.400000</td>\n",
       "      <td>7.800000</td>\n",
       "      <td>0.000000</td>\n",
       "      <td>101620.000000</td>\n",
       "      <td>0.000000</td>\n",
       "      <td>2000.000000</td>\n",
       "      <td>7.000000</td>\n",
       "      <td>16.000000</td>\n",
       "    </tr>\n",
       "    <tr>\n",
       "      <th>75%</th>\n",
       "      <td>2.010070e+07</td>\n",
       "      <td>7.000000</td>\n",
       "      <td>7.200000</td>\n",
       "      <td>186.000000</td>\n",
       "      <td>20.300000</td>\n",
       "      <td>16.000000</td>\n",
       "      <td>11.800000</td>\n",
       "      <td>1.600000</td>\n",
       "      <td>102240.000000</td>\n",
       "      <td>0.000000</td>\n",
       "      <td>2010.000000</td>\n",
       "      <td>10.000000</td>\n",
       "      <td>23.000000</td>\n",
       "    </tr>\n",
       "    <tr>\n",
       "      <th>max</th>\n",
       "      <td>2.020123e+07</td>\n",
       "      <td>9.000000</td>\n",
       "      <td>16.000000</td>\n",
       "      <td>402.000000</td>\n",
       "      <td>37.900000</td>\n",
       "      <td>29.000000</td>\n",
       "      <td>22.300000</td>\n",
       "      <td>61.800000</td>\n",
       "      <td>104820.000000</td>\n",
       "      <td>22.000000</td>\n",
       "      <td>2020.000000</td>\n",
       "      <td>12.000000</td>\n",
       "      <td>31.000000</td>\n",
       "    </tr>\n",
       "  </tbody>\n",
       "</table>\n",
       "</div>"
      ],
      "text/plain": [
       "               date   cloud_cover      sunshine  global_radiation  \\\n",
       "count  1.534100e+04  15322.000000  15341.000000      15322.000000   \n",
       "mean   1.999567e+07      5.268242      4.350238        118.756951   \n",
       "std    1.212176e+05      2.070072      4.028339         88.898272   \n",
       "min    1.979010e+07      0.000000      0.000000          8.000000   \n",
       "25%    1.989070e+07      4.000000      0.500000         41.000000   \n",
       "50%    2.000010e+07      6.000000      3.500000         95.000000   \n",
       "75%    2.010070e+07      7.000000      7.200000        186.000000   \n",
       "max    2.020123e+07      9.000000     16.000000        402.000000   \n",
       "\n",
       "           max_temp     mean_temp      min_temp  precipitation       pressure  \\\n",
       "count  15335.000000  15305.000000  15339.000000   15335.000000   15337.000000   \n",
       "mean      15.388777     11.475511      7.559867       1.668634  101536.605594   \n",
       "std        6.554754      5.729709      5.326756       3.738540    1049.722604   \n",
       "min       -6.200000     -7.600000    -11.800000       0.000000   95960.000000   \n",
       "25%       10.500000      7.000000      3.500000       0.000000  100920.000000   \n",
       "50%       15.000000     11.400000      7.800000       0.000000  101620.000000   \n",
       "75%       20.300000     16.000000     11.800000       1.600000  102240.000000   \n",
       "max       37.900000     29.000000     22.300000      61.800000  104820.000000   \n",
       "\n",
       "         snow_depth          year         month           day  \n",
       "count  13900.000000  15341.000000  15341.000000  15341.000000  \n",
       "mean       0.037986   1999.500359      6.522782     15.730070  \n",
       "std        0.545633     12.121708      3.448856      8.800562  \n",
       "min        0.000000   1979.000000      1.000000      1.000000  \n",
       "25%        0.000000   1989.000000      4.000000      8.000000  \n",
       "50%        0.000000   2000.000000      7.000000     16.000000  \n",
       "75%        0.000000   2010.000000     10.000000     23.000000  \n",
       "max       22.000000   2020.000000     12.000000     31.000000  "
      ]
     },
     "execution_count": 4,
     "metadata": {},
     "output_type": "execute_result"
    }
   ],
   "source": [
    "df.describe()"
   ]
  },
  {
   "cell_type": "code",
   "execution_count": 5,
   "id": "54cb3032",
   "metadata": {},
   "outputs": [
    {
     "data": {
      "text/plain": [
       "(15341, 13)"
      ]
     },
     "execution_count": 5,
     "metadata": {},
     "output_type": "execute_result"
    }
   ],
   "source": [
    "df.shape"
   ]
  },
  {
   "cell_type": "code",
   "execution_count": 6,
   "id": "f315ff76",
   "metadata": {},
   "outputs": [
    {
     "data": {
      "text/plain": [
       "(19, 13)"
      ]
     },
     "execution_count": 6,
     "metadata": {},
     "output_type": "execute_result"
    }
   ],
   "source": [
    "df[df['global_radiation'].isna()].shape"
   ]
  },
  {
   "cell_type": "code",
   "execution_count": 7,
   "id": "bf8bbf5c",
   "metadata": {
    "scrolled": true
   },
   "outputs": [
    {
     "data": {
      "text/plain": [
       "precipitation\n",
       "0.0     7963\n",
       "0.2     1021\n",
       "0.4      461\n",
       "0.1      324\n",
       "0.6      302\n",
       "        ... \n",
       "27.4       1\n",
       "36.8       1\n",
       "22.4       1\n",
       "30.0       1\n",
       "31.0       1\n",
       "Name: count, Length: 262, dtype: int64"
      ]
     },
     "execution_count": 7,
     "metadata": {},
     "output_type": "execute_result"
    }
   ],
   "source": [
    "df['precipitation'].value_counts()"
   ]
  },
  {
   "cell_type": "code",
   "execution_count": 8,
   "id": "03c0ae14",
   "metadata": {},
   "outputs": [],
   "source": [
    "#df[(df['skyc1']=='CLR')].shape"
   ]
  },
  {
   "cell_type": "code",
   "execution_count": 9,
   "id": "c768eed7",
   "metadata": {},
   "outputs": [],
   "source": [
    "#df[(df['skyc1']=='CLR') & (df['p01i']>0)].shape"
   ]
  },
  {
   "cell_type": "code",
   "execution_count": 10,
   "id": "ffdf6867",
   "metadata": {},
   "outputs": [
    {
     "data": {
      "text/plain": [
       "0.4807303553961526"
      ]
     },
     "execution_count": 10,
     "metadata": {},
     "output_type": "execute_result"
    }
   ],
   "source": [
    "df[df['precipitation']>0].shape[0] / df[df['precipitation']>=0].shape[0]"
   ]
  },
  {
   "cell_type": "code",
   "execution_count": 11,
   "id": "7d2ed01c-c7d6-4438-acec-1cda359dbb92",
   "metadata": {},
   "outputs": [],
   "source": [
    "#for c in ['skyc1', 'skyc2', 'skyc3', 'skyc4']:\n",
    "#\tprint(c,df[df[c].isna()].shape)"
   ]
  },
  {
   "cell_type": "code",
   "execution_count": 12,
   "id": "b9d547bc-2ebf-4ece-8e82-ff658bbc3dda",
   "metadata": {},
   "outputs": [],
   "source": [
    "#df[(df['skyc1'] != df['skyc2']) & (df['skyc1']=='CLR')][['skyc1','skyc2']]"
   ]
  },
  {
   "cell_type": "code",
   "execution_count": 13,
   "id": "9738b2d2-d3c8-4060-a6a5-3cea73726d9b",
   "metadata": {},
   "outputs": [],
   "source": [
    "#df[(df['skyc1'] != df['skyc2'])][['skyc1','skyc2']].value_counts()"
   ]
  },
  {
   "cell_type": "code",
   "execution_count": 14,
   "id": "5ba92385-7cda-4b2d-9af2-4a47c3aeb020",
   "metadata": {},
   "outputs": [],
   "source": [
    "#total_p01i_per_day_et_new = df.groupby('Day Of Week ET')['p01i'].sum()"
   ]
  },
  {
   "cell_type": "code",
   "execution_count": 15,
   "id": "b2de5b8d-dc76-4f89-a59a-f318ac70f40a",
   "metadata": {},
   "outputs": [],
   "source": [
    "#total_p01i_per_day_et_new"
   ]
  },
  {
   "cell_type": "code",
   "execution_count": null,
   "id": "7d57e3dc-ae32-4687-8b8c-80892f9fdaa5",
   "metadata": {},
   "outputs": [],
   "source": []
  },
  {
   "cell_type": "code",
   "execution_count": 16,
   "id": "0a8d5643-2684-4b40-9da5-1151aaf5d981",
   "metadata": {},
   "outputs": [],
   "source": [
    "rain_by_year = df.groupby('year')['precipitation'].sum()\n",
    "sunshine_by_year = df.groupby('year')['precipitation'].sum()\n",
    "pdf = pd.DataFrame(columns=[rain_by_year,sunshine_by_year])"
   ]
  },
  {
   "cell_type": "markdown",
   "id": "fd16f9ae",
   "metadata": {},
   "source": [
    "We would like to count the number of clear observations per day. We can do this with a `groupby` followed by a `size()` function"
   ]
  },
  {
   "cell_type": "code",
   "execution_count": null,
   "id": "065d2441",
   "metadata": {},
   "outputs": [],
   "source": [
    "#df[df['skyc1'] == 'CLR'].groupby('Day Of Week ET').size()"
   ]
  },
  {
   "cell_type": "code",
   "execution_count": null,
   "id": "c4c73384",
   "metadata": {},
   "outputs": [],
   "source": [
    "#df[df['skyc1'] == 'CLR'].groupby('Day Of Week ET').size().plot(kind=\"bar\")"
   ]
  },
  {
   "cell_type": "markdown",
   "id": "f21d4e06",
   "metadata": {},
   "source": [
    "Does every day have the same number of recorded observations?"
   ]
  },
  {
   "cell_type": "code",
   "execution_count": null,
   "id": "9bc00148",
   "metadata": {},
   "outputs": [],
   "source": [
    "df.groupby('Day Of Week ET').size().plot(kind=\"bar\")"
   ]
  },
  {
   "cell_type": "code",
   "execution_count": null,
   "id": "3d4acaae-ab8e-4204-9fb3-e6a1ce27ce82",
   "metadata": {},
   "outputs": [],
   "source": [
    "percentage_clr_days_et_new = (df[df['skyc1'] == 'CLR'].groupby('Day Of Week ET').size() / df.groupby('Day Of Week ET').size()) * 100"
   ]
  },
  {
   "cell_type": "code",
   "execution_count": null,
   "id": "6f895b51-182a-448a-8c67-3ad5f7e0af52",
   "metadata": {},
   "outputs": [],
   "source": [
    "percentage_clr_days_et_new"
   ]
  },
  {
   "cell_type": "code",
   "execution_count": null,
   "id": "e99e6f1d-5e5b-42a7-986d-e5e98cbb44ce",
   "metadata": {},
   "outputs": [],
   "source": [
    "percentage_clr_days_et_new.plot(kind='bar')"
   ]
  },
  {
   "cell_type": "code",
   "execution_count": null,
   "id": "1361c380",
   "metadata": {},
   "outputs": [],
   "source": [
    "# Recalculate the necessary components based on the 'Day Of Week ET' column from the new dataset with daylight information\n",
    "\n",
    "# Total precipitation (p01i) for each day of the week\n",
    "total_p01i_per_day_et_new = df.groupby('Day Of Week ET')['p01i'].sum()\n",
    "\n",
    "# Percentage of OVC and CLR days\n",
    "percentage_ovc_days_et_new = (df[(df['skyc1'] == 'OVC') | (df['skyc2'] == 'OVC') | (df['skyc3'] == 'OVC')].groupby('Day Of Week ET').size() / df.groupby('Day Of Week ET').size()) * 100\n",
    "percentage_clr_days_et_new = (df[df['skyc1'] == 'CLR'].groupby('Day Of Week ET').size() / df.groupby('Day Of Week ET').size()) * 100\n",
    "\n",
    "# Total number of rows (observations) for each day of the week\n",
    "total_rows_per_day_et_new = df.groupby('Day Of Week ET').size()\n",
    "\n",
    "# Combine all the data into one DataFrame\n",
    "combined_et_df_new = pd.DataFrame({\n",
    "    'Day Of Week ET': total_rows_per_day_et_new.index,\n",
    "    'Total Number of Rows ET': total_rows_per_day_et_new.values,\n",
    "    'Total p01i ET': total_p01i_per_day_et_new.values,\n",
    "    'Percentage of OVC Days ET': percentage_ovc_days_et_new.values,\n",
    "    'Percentage of CLR Days ET': percentage_clr_days_et_new.values\n",
    "})\n",
    "\n",
    "combined_et_df_new"
   ]
  },
  {
   "cell_type": "markdown",
   "id": "e600d963",
   "metadata": {},
   "source": [
    "Conclusions? BTW what is day 5 and 6? How else could you define a good/bad day? What ways could you change the question to make your desired outcome more likely? Is this statistically significant?"
   ]
  }
 ],
 "metadata": {
  "kernelspec": {
   "display_name": "Python 3 (ipykernel)",
   "language": "python",
   "name": "python3"
  },
  "language_info": {
   "codemirror_mode": {
    "name": "ipython",
    "version": 3
   },
   "file_extension": ".py",
   "mimetype": "text/x-python",
   "name": "python",
   "nbconvert_exporter": "python",
   "pygments_lexer": "ipython3",
   "version": "3.11.9"
  }
 },
 "nbformat": 4,
 "nbformat_minor": 5
}
