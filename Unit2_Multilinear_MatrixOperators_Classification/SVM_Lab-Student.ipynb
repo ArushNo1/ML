{
 "cells": [
  {
   "cell_type": "markdown",
   "id": "5035f0db-5d2d-402c-aa20-36467ebe243a",
   "metadata": {},
   "source": [
    "# SVM Lab"
   ]
  },
  {
   "cell_type": "code",
   "execution_count": 1,
   "id": "426773a3-7442-4e4c-a273-bc9c337f81e6",
   "metadata": {},
   "outputs": [],
   "source": [
    "import pandas as pd\n",
    "from sklearn.model_selection import train_test_split\n",
    "from sklearn.feature_extraction.text import TfidfVectorizer, CountVectorizer\n",
    "from sklearn.svm import SVC\n",
    "from sklearn.metrics import classification_report, accuracy_score\n",
    "from sklearn.preprocessing import OrdinalEncoder\n",
    "import numpy as np\n",
    "import matplotlib.pyplot as plt"
   ]
  },
  {
   "cell_type": "markdown",
   "id": "76327ba4-df38-4a63-81a8-c1f5d9667a44",
   "metadata": {},
   "source": [
    "## Load the Data"
   ]
  },
  {
   "cell_type": "code",
   "execution_count": 2,
   "id": "e4578c77-c525-433b-8b6c-e4c3ebe6de18",
   "metadata": {},
   "outputs": [],
   "source": [
    "# Step 1: Load the dataset (replace with the path to your dataset)\n",
    "# The dataset should have two columns: 'label' (spam/ham) and 'message' (text)\n",
    "url = \"https://aet-cs.github.io/white/ML/data/Fake_News.csv\"\n",
    "path = \"data/Fake_News.csv\"\n",
    "data = pd.read_csv(path, sep=',')"
   ]
  },
  {
   "cell_type": "code",
   "execution_count": 3,
   "id": "dc49cdc0-d6dd-4dfe-a5ff-a48541e90e60",
   "metadata": {},
   "outputs": [],
   "source": [
    "data = data.dropna()"
   ]
  },
  {
   "cell_type": "markdown",
   "id": "450d95d4-544a-4870-92b2-5ae653eea085",
   "metadata": {},
   "source": [
    "## EDA"
   ]
  },
  {
   "cell_type": "markdown",
   "id": "2ee1b471-e1f8-4a93-9871-bb026d38f124",
   "metadata": {},
   "source": [
    "Do some basic EDA here. How balanced is the data set? Data types? Etc."
   ]
  },
  {
   "cell_type": "code",
   "execution_count": 4,
   "id": "e7ca7672-d1a9-4f92-bb5c-b0fa5d8fc65a",
   "metadata": {},
   "outputs": [
    {
     "data": {
      "text/html": [
       "<div>\n",
       "<style scoped>\n",
       "    .dataframe tbody tr th:only-of-type {\n",
       "        vertical-align: middle;\n",
       "    }\n",
       "\n",
       "    .dataframe tbody tr th {\n",
       "        vertical-align: top;\n",
       "    }\n",
       "\n",
       "    .dataframe thead th {\n",
       "        text-align: right;\n",
       "    }\n",
       "</style>\n",
       "<table border=\"1\" class=\"dataframe\">\n",
       "  <thead>\n",
       "    <tr style=\"text-align: right;\">\n",
       "      <th></th>\n",
       "      <th>label</th>\n",
       "      <th>title</th>\n",
       "      <th>text</th>\n",
       "      <th>subject</th>\n",
       "      <th>date</th>\n",
       "    </tr>\n",
       "  </thead>\n",
       "  <tbody>\n",
       "    <tr>\n",
       "      <th>0</th>\n",
       "      <td>Fake</td>\n",
       "      <td>BREAKING: Cop Finally Gets His Due, Walter Sc...</td>\n",
       "      <td>In America, we have been having a conversation...</td>\n",
       "      <td>News</td>\n",
       "      <td>December 7, 2017</td>\n",
       "    </tr>\n",
       "    <tr>\n",
       "      <th>1</th>\n",
       "      <td>Fake</td>\n",
       "      <td>Watch: Trump Supporting Coal CEO Upset Trump ...</td>\n",
       "      <td>While on the campaign trail, Donald Trump prom...</td>\n",
       "      <td>News</td>\n",
       "      <td>December 6, 2017</td>\n",
       "    </tr>\n",
       "    <tr>\n",
       "      <th>2</th>\n",
       "      <td>Fake</td>\n",
       "      <td>Americans Once Elected A President After He W...</td>\n",
       "      <td>After an awful campaign filled with hateful rh...</td>\n",
       "      <td>News</td>\n",
       "      <td>November 29, 2017</td>\n",
       "    </tr>\n",
       "    <tr>\n",
       "      <th>3</th>\n",
       "      <td>Fake</td>\n",
       "      <td>Trumpsters Launch Insane Conspiracy Theory Ab...</td>\n",
       "      <td>Senator John McCain (R-AZ) was treated at Walt...</td>\n",
       "      <td>News</td>\n",
       "      <td>November 23, 2017</td>\n",
       "    </tr>\n",
       "    <tr>\n",
       "      <th>4</th>\n",
       "      <td>Fake</td>\n",
       "      <td>This Old Mike Pence Tweet Sure Is Uncomfortab...</td>\n",
       "      <td>GOP candidate Roy Moore is accused of sexually...</td>\n",
       "      <td>News</td>\n",
       "      <td>November 10, 2017</td>\n",
       "    </tr>\n",
       "    <tr>\n",
       "      <th>...</th>\n",
       "      <td>...</td>\n",
       "      <td>...</td>\n",
       "      <td>...</td>\n",
       "      <td>...</td>\n",
       "      <td>...</td>\n",
       "    </tr>\n",
       "    <tr>\n",
       "      <th>4497</th>\n",
       "      <td>True</td>\n",
       "      <td>Poland will not change its stance on EU's post...</td>\n",
       "      <td>WARSAW (Reuters) - Poland will not change its ...</td>\n",
       "      <td>worldnews</td>\n",
       "      <td>August 24, 2017</td>\n",
       "    </tr>\n",
       "    <tr>\n",
       "      <th>4498</th>\n",
       "      <td>True</td>\n",
       "      <td>'Safer than London!' North Korea opens door to...</td>\n",
       "      <td>MOSCOW (Reuters) - North Korea has opened its ...</td>\n",
       "      <td>worldnews</td>\n",
       "      <td>August 24, 2017</td>\n",
       "    </tr>\n",
       "    <tr>\n",
       "      <th>4499</th>\n",
       "      <td>True</td>\n",
       "      <td>Barcelona balances security and freedom after ...</td>\n",
       "      <td>MADRID (Reuters) - Spain s northeastern region...</td>\n",
       "      <td>worldnews</td>\n",
       "      <td>August 23, 2017</td>\n",
       "    </tr>\n",
       "    <tr>\n",
       "      <th>4500</th>\n",
       "      <td>True</td>\n",
       "      <td>Vietnam calls for Southeast Asian unity amid S...</td>\n",
       "      <td>HANOI (Reuters) - Vietnam s most powerful lead...</td>\n",
       "      <td>worldnews</td>\n",
       "      <td>August 24, 2017</td>\n",
       "    </tr>\n",
       "    <tr>\n",
       "      <th>4501</th>\n",
       "      <td>True</td>\n",
       "      <td>U.S., North Korea clash at U.N. arms forum on ...</td>\n",
       "      <td>GENEVA (Reuters) - North Korea and the United ...</td>\n",
       "      <td>worldnews</td>\n",
       "      <td>August 22, 2017</td>\n",
       "    </tr>\n",
       "  </tbody>\n",
       "</table>\n",
       "<p>4495 rows × 5 columns</p>\n",
       "</div>"
      ],
      "text/plain": [
       "     label                                              title  \\\n",
       "0     Fake   BREAKING: Cop Finally Gets His Due, Walter Sc...   \n",
       "1     Fake   Watch: Trump Supporting Coal CEO Upset Trump ...   \n",
       "2     Fake   Americans Once Elected A President After He W...   \n",
       "3     Fake   Trumpsters Launch Insane Conspiracy Theory Ab...   \n",
       "4     Fake   This Old Mike Pence Tweet Sure Is Uncomfortab...   \n",
       "...    ...                                                ...   \n",
       "4497  True  Poland will not change its stance on EU's post...   \n",
       "4498  True  'Safer than London!' North Korea opens door to...   \n",
       "4499  True  Barcelona balances security and freedom after ...   \n",
       "4500  True  Vietnam calls for Southeast Asian unity amid S...   \n",
       "4501  True  U.S., North Korea clash at U.N. arms forum on ...   \n",
       "\n",
       "                                                   text    subject  \\\n",
       "0     In America, we have been having a conversation...       News   \n",
       "1     While on the campaign trail, Donald Trump prom...       News   \n",
       "2     After an awful campaign filled with hateful rh...       News   \n",
       "3     Senator John McCain (R-AZ) was treated at Walt...       News   \n",
       "4     GOP candidate Roy Moore is accused of sexually...       News   \n",
       "...                                                 ...        ...   \n",
       "4497  WARSAW (Reuters) - Poland will not change its ...  worldnews   \n",
       "4498  MOSCOW (Reuters) - North Korea has opened its ...  worldnews   \n",
       "4499  MADRID (Reuters) - Spain s northeastern region...  worldnews   \n",
       "4500  HANOI (Reuters) - Vietnam s most powerful lead...  worldnews   \n",
       "4501  GENEVA (Reuters) - North Korea and the United ...  worldnews   \n",
       "\n",
       "                   date  \n",
       "0      December 7, 2017  \n",
       "1      December 6, 2017  \n",
       "2     November 29, 2017  \n",
       "3     November 23, 2017  \n",
       "4     November 10, 2017  \n",
       "...                 ...  \n",
       "4497   August 24, 2017   \n",
       "4498   August 24, 2017   \n",
       "4499   August 23, 2017   \n",
       "4500   August 24, 2017   \n",
       "4501   August 22, 2017   \n",
       "\n",
       "[4495 rows x 5 columns]"
      ]
     },
     "execution_count": 4,
     "metadata": {},
     "output_type": "execute_result"
    }
   ],
   "source": [
    "data"
   ]
  },
  {
   "cell_type": "code",
   "execution_count": 5,
   "id": "67c2c40e",
   "metadata": {},
   "outputs": [
    {
     "data": {
      "text/html": [
       "<div>\n",
       "<style scoped>\n",
       "    .dataframe tbody tr th:only-of-type {\n",
       "        vertical-align: middle;\n",
       "    }\n",
       "\n",
       "    .dataframe tbody tr th {\n",
       "        vertical-align: top;\n",
       "    }\n",
       "\n",
       "    .dataframe thead th {\n",
       "        text-align: right;\n",
       "    }\n",
       "</style>\n",
       "<table border=\"1\" class=\"dataframe\">\n",
       "  <thead>\n",
       "    <tr style=\"text-align: right;\">\n",
       "      <th></th>\n",
       "      <th>label</th>\n",
       "      <th>title</th>\n",
       "      <th>text</th>\n",
       "      <th>subject</th>\n",
       "      <th>date</th>\n",
       "    </tr>\n",
       "  </thead>\n",
       "  <tbody>\n",
       "    <tr>\n",
       "      <th>count</th>\n",
       "      <td>4495</td>\n",
       "      <td>4495</td>\n",
       "      <td>4495</td>\n",
       "      <td>4495</td>\n",
       "      <td>4495</td>\n",
       "    </tr>\n",
       "    <tr>\n",
       "      <th>unique</th>\n",
       "      <td>2</td>\n",
       "      <td>4429</td>\n",
       "      <td>4357</td>\n",
       "      <td>8</td>\n",
       "      <td>1762</td>\n",
       "    </tr>\n",
       "    <tr>\n",
       "      <th>top</th>\n",
       "      <td>Fake</td>\n",
       "      <td>Boiler Room EP #120 – Scorched Earth Media: Fr...</td>\n",
       "      <td></td>\n",
       "      <td>politicsNews</td>\n",
       "      <td>December 21, 2017</td>\n",
       "    </tr>\n",
       "    <tr>\n",
       "      <th>freq</th>\n",
       "      <td>2362</td>\n",
       "      <td>2</td>\n",
       "      <td>83</td>\n",
       "      <td>1149</td>\n",
       "      <td>23</td>\n",
       "    </tr>\n",
       "  </tbody>\n",
       "</table>\n",
       "</div>"
      ],
      "text/plain": [
       "       label                                              title  text  \\\n",
       "count   4495                                               4495  4495   \n",
       "unique     2                                               4429  4357   \n",
       "top     Fake  Boiler Room EP #120 – Scorched Earth Media: Fr...         \n",
       "freq    2362                                                  2    83   \n",
       "\n",
       "             subject                date  \n",
       "count           4495                4495  \n",
       "unique             8                1762  \n",
       "top     politicsNews  December 21, 2017   \n",
       "freq            1149                  23  "
      ]
     },
     "execution_count": 5,
     "metadata": {},
     "output_type": "execute_result"
    }
   ],
   "source": [
    "data.describe()"
   ]
  },
  {
   "cell_type": "code",
   "execution_count": 6,
   "id": "a65280f0",
   "metadata": {},
   "outputs": [
    {
     "data": {
      "image/png": "[encoded data removed]",
      "text/plain": [
       "<Figure size 640x480 with 1 Axes>"
      ]
     },
     "metadata": {},
     "output_type": "display_data"
    },
    {
     "name": "stdout",
     "output_type": "stream",
     "text": [
      "True fraction: 0.475 \n",
      "Fake fraction: 0.525\n"
     ]
    }
   ],
   "source": [
    "real = data[data['label'] == 'True']\n",
    "fake = data[data['label'] == 'Fake']\n",
    "\n",
    "plt.bar(['Real', 'Fake'], [len(real), len(fake)])\n",
    "plt.show()\n",
    "print(f\"True fraction: {len(real) / (len(data)):.3f} \\nFake fraction: {len(fake) / (len(data)):.3f}\")"
   ]
  },
  {
   "cell_type": "markdown",
   "id": "eb77e136",
   "metadata": {},
   "source": [
    "The data is roughly balanced between true and fake news, but it could be better."
   ]
  },
  {
   "cell_type": "markdown",
   "id": "4abbc3bf-507b-4437-b973-5df44854bb3d",
   "metadata": {},
   "source": [
    "We will ordinal encode the target column"
   ]
  },
  {
   "cell_type": "code",
   "execution_count": 7,
   "id": "98036159-e837-4bf7-ae1b-2a029349f59b",
   "metadata": {},
   "outputs": [],
   "source": [
    "# Encode labels using OrdinalEncoder into 0,1 (dont' change)\n",
    "encoder = OrdinalEncoder()\n",
    "data['label'] = encoder.fit_transform(data[['label']])"
   ]
  },
  {
   "cell_type": "code",
   "execution_count": 8,
   "id": "e861861e-e426-49ed-8b70-cedf9c5958b8",
   "metadata": {},
   "outputs": [
    {
     "name": "stdout",
     "output_type": "stream",
     "text": [
      "Label Encoding:\n",
      "'Fake' -> 0\n",
      "'True' -> 1\n"
     ]
    }
   ],
   "source": [
    "# Print the mapping from labels to numerical values (dont' change)\n",
    "label_mapping = {category: idx for idx, category in enumerate(encoder.categories_[0])}\n",
    "print(\"Label Encoding:\")\n",
    "for label, value in label_mapping.items():\n",
    "    print(f\"'{label}' -> {value}\")"
   ]
  },
  {
   "cell_type": "markdown",
   "id": "96863475-7908-42d6-89a7-19caacbb3a9e",
   "metadata": {},
   "source": [
    "Define X and y to the be title and label"
   ]
  },
  {
   "cell_type": "code",
   "execution_count": 9,
   "id": "82b1ed2f-e9a8-46c7-81b5-ce57f99f1602",
   "metadata": {},
   "outputs": [],
   "source": [
    "# define the data\n",
    "X = data['title']\n",
    "y = data['label']"
   ]
  },
  {
   "cell_type": "code",
   "execution_count": 10,
   "id": "a342cc30-983e-4e1d-8c0a-ac3cf94aa958",
   "metadata": {},
   "outputs": [],
   "source": [
    "# Step 2: Split the dataset into training and testing sets\n",
    "# Make a train/test split\n",
    "X_train, X_test, y_train, y_test = train_test_split(X, y, test_size=0.2, random_state=42)"
   ]
  },
  {
   "cell_type": "code",
   "execution_count": 11,
   "id": "c44b16cd-b447-422a-8cb4-ab8b2de52775",
   "metadata": {},
   "outputs": [],
   "source": [
    "# Step 3: Text encoding using TF-IDF\n",
    "# Don't change\n",
    "vectorizer = CountVectorizer(stop_words='english', max_features=1000)\n",
    "X_train_counts = vectorizer.fit_transform(X_train)\n",
    "X_test_counts = vectorizer.transform(X_test)"
   ]
  },
  {
   "cell_type": "code",
   "execution_count": 12,
   "id": "e70fff40-25b7-4b32-bbe8-073785c96c2b",
   "metadata": {},
   "outputs": [],
   "source": [
    "# Step 4: Train the SVM\n",
    "\n",
    "model = SVC(kernel='linear', C=1.0)\n",
    "model.fit(X_train_counts, y_train)\n",
    "y_pred = model.predict(X_test_counts)"
   ]
  },
  {
   "cell_type": "markdown",
   "id": "c733fea2-e87d-4ede-9ddc-4c82c790d0e2",
   "metadata": {},
   "source": [
    "### Print Results"
   ]
  },
  {
   "cell_type": "code",
   "execution_count": 13,
   "id": "3f536e40-6201-48d0-beb8-ddc3ac7c0d46",
   "metadata": {},
   "outputs": [
    {
     "name": "stdout",
     "output_type": "stream",
     "text": [
      "\n",
      "Misclassified Examples:\n",
      "Message: Trump adds nuance to pro-Israel approach ahead of Netanyahu visit\n",
      "True Label: True\n",
      "Predicted Label: Fake\n",
      "--------------------------------------------------\n",
      "Message: Italian man sentenced to 24 years for infecting dozens of women with HIV\n",
      "True Label: True\n",
      "Predicted Label: Fake\n",
      "--------------------------------------------------\n",
      "Message: ALARMING: NSA Refuses to Release Clinton-Lynch Tarmac Transcript with Lame Excuse\n",
      "True Label: Fake\n",
      "Predicted Label: True\n",
      "--------------------------------------------------\n",
      "Message:  Anti-Abortion Laws Collapse In Major Defeat For The Right\n",
      "True Label: Fake\n",
      "Predicted Label: True\n",
      "--------------------------------------------------\n",
      "Message: Shaquille O’Neal: “The Earth is flat. Yes, it is.”\n",
      "True Label: Fake\n",
      "Predicted Label: True\n",
      "--------------------------------------------------\n",
      "Message: THE LIST OF WHO’S WHO TAKING ADVANTAGE OF FAILED EU AUSTERITY EXPERIMENT IN GREECE\n",
      "True Label: Fake\n",
      "Predicted Label: True\n",
      "--------------------------------------------------\n",
      "Message: Obama to visit Hiroshima, will not apologize for World War Two bombing\n",
      "True Label: True\n",
      "Predicted Label: Fake\n",
      "--------------------------------------------------\n",
      "Message:  White House Staff Reportedly Went Behind Trump’s Back On HUGE Issue Because Trump Is Too Reckless\n",
      "True Label: Fake\n",
      "Predicted Label: True\n",
      "--------------------------------------------------\n",
      "Message: Israel strikes Hamas post after Gaza rocket fire\n",
      "True Label: True\n",
      "Predicted Label: Fake\n",
      "--------------------------------------------------\n",
      "Message: LOCK HIM UP! CEO Threatens To Assassinate Trump With Sniper Rifle At White House\n",
      "True Label: Fake\n",
      "Predicted Label: True\n",
      "--------------------------------------------------\n",
      "\n",
      "Accuracy: 0.8776418242491657\n"
     ]
    }
   ],
   "source": [
    "# Find misclassified examples\n",
    "y_pred = np.array(y_pred)\n",
    "y_test = np.array(y_test)\n",
    "misclassified_indices = (y_pred != y_test).nonzero()[0]  # Indices where predictions differ from true labels\n",
    "\n",
    "# Print the first few misclassified examples\n",
    "print(\"\\nMisclassified Examples:\")\n",
    "for idx in misclassified_indices[10:20]:  # Limit to 5 examples\n",
    "    print(f\"Message: {X_test.iloc[idx]}\")\n",
    "    print(f\"True Label: {encoder.inverse_transform([[y_test[idx]]])[0][0]}\")\n",
    "    print(f\"Predicted Label: {encoder.inverse_transform([[y_pred[idx]]])[0][0]}\")\n",
    "    print(\"-\" * 50)\n",
    "\n",
    "print(\"\\nAccuracy:\", accuracy_score(y_test, y_pred))"
   ]
  },
  {
   "cell_type": "markdown",
   "id": "c2fdb7b5-4f81-4e4a-9d5b-fc9e2448ece8",
   "metadata": {},
   "source": [
    "### Confusion Matrix"
   ]
  },
  {
   "cell_type": "code",
   "execution_count": 14,
   "id": "fb679128-2a9d-40ba-ad88-754d679819cb",
   "metadata": {},
   "outputs": [
    {
     "data": {
      "image/png": "[encoded data removed]",
      "text/plain": [
       "<Figure size 640x480 with 2 Axes>"
      ]
     },
     "metadata": {},
     "output_type": "display_data"
    }
   ],
   "source": [
    "# print/draw a confusion matrix\n",
    "from sklearn.metrics import ConfusionMatrixDisplay, confusion_matrix\n",
    "\n",
    "\n",
    "cm = confusion_matrix(y_test, y_pred)\n",
    "disp = ConfusionMatrixDisplay(confusion_matrix=cm, display_labels=['Fake', 'True'])\n",
    "disp.plot(cmap='Greens')\n",
    "plt.show()"
   ]
  },
  {
   "cell_type": "markdown",
   "id": "f2a9687f-4439-4c3a-9db0-347445d533ae",
   "metadata": {},
   "source": [
    "## TF-IDF"
   ]
  },
  {
   "cell_type": "markdown",
   "id": "5ef2ba30-d4bb-4de2-8091-bd891efc9bf8",
   "metadata": {},
   "source": [
    "Redo the above analysis with a TF-IDF encoding instead of a Counter (Bag of Words)"
   ]
  },
  {
   "cell_type": "code",
   "execution_count": 15,
   "id": "54506353-d230-40be-9d68-538b07dfe9c3",
   "metadata": {},
   "outputs": [
    {
     "data": {
      "image/png": "[encoded data removed]",
      "text/plain": [
       "<Figure size 640x480 with 2 Axes>"
      ]
     },
     "metadata": {},
     "output_type": "display_data"
    },
    {
     "name": "stdout",
     "output_type": "stream",
     "text": [
      "\n",
      "Accuracy: 0.8887652947719689\n"
     ]
    }
   ],
   "source": [
    "vectorizer = TfidfVectorizer(stop_words='english', max_features = 1000)\n",
    "\n",
    "X_train_counts = vectorizer.fit_transform(X_train)\n",
    "X_test_counts = vectorizer.transform(X_test)\n",
    "\n",
    "model = SVC(kernel='linear', C=1.0)\n",
    "model.fit(X_train_counts, y_train)\n",
    "y_pred = model.predict(X_test_counts)\n",
    "\n",
    "cm = confusion_matrix(y_test, y_pred)\n",
    "disp = ConfusionMatrixDisplay(confusion_matrix=cm, display_labels=['Fake', 'True'])\n",
    "disp.plot(cmap='Greens')\n",
    "plt.show()\n",
    "\n",
    "print(\"\\nAccuracy:\", accuracy_score(y_test, y_pred))"
   ]
  },
  {
   "cell_type": "markdown",
   "id": "1cf8e9cc-24cd-4059-bddb-6e088d3c6dde",
   "metadata": {},
   "source": [
    "# Optimize"
   ]
  },
  {
   "cell_type": "markdown",
   "id": "ed853b55-1f38-4718-bf75-ca8dada01546",
   "metadata": {},
   "source": [
    "There are lots of parameters to SVM/SVC. Try them out and see how good you can do!"
   ]
  },
  {
   "cell_type": "code",
   "execution_count": null,
   "id": "c2d39556-a07f-4204-afe6-3cda45c615bb",
   "metadata": {},
   "outputs": [],
   "source": [
    "def score(data, model : SVC):\n",
    "    X = data['title']\n",
    "    y = data['label']\n",
    "    X_train, X_test, y_train, y_test = train_test_split(X, y, test_size=0.2, random_state=42)\n",
    "    \n",
    "    vectorizer = TfidfVectorizer(stop_words='english', max_features = 1000)\n",
    "\n",
    "    X_train_counts = vectorizer.fit_transform(X_train)\n",
    "    X_test_counts = vectorizer.transform(X_test)\n",
    "\n",
    "    model.fit(X_train_counts, y_train)\n",
    "    y_pred = model.predict(X_test_counts)\n",
    "    \n",
    "    return accuracy_score(y_test, y_pred)"
   ]
  }
 ],
 "metadata": {
  "kernelspec": {
   "display_name": "env",
   "language": "python",
   "name": "python3"
  },
  "language_info": {
   "codemirror_mode": {
    "name": "ipython",
    "version": 3
   },
   "file_extension": ".py",
   "mimetype": "text/x-python",
   "name": "python",
   "nbconvert_exporter": "python",
   "pygments_lexer": "ipython3",
   "version": "3.11.9"
  }
 },
 "nbformat": 4,
 "nbformat_minor": 5
}
