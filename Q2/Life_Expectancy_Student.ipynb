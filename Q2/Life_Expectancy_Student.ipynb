{
 "cells": [
  {
   "cell_type": "markdown",
   "id": "7e9349d0",
   "metadata": {},
   "source": [
    "# Life Expectancy"
   ]
  },
  {
   "cell_type": "markdown",
   "id": "382f85ee",
   "metadata": {},
   "source": [
    "We are going to take a quick tour of machine learning by working on an example dataset. The mushroom dataset\n",
    "categorizes mushrooms as 'poisonous' or 'edible' and collects several descriptive properties of each mushroom example."
   ]
  },
  {
   "cell_type": "code",
   "execution_count": null,
   "id": "771ea7b9-e7de-43c7-96ae-bc3a30862715",
   "metadata": {},
   "outputs": [],
   "source": [
    "import pandas as pd\n",
    "import os\n",
    "from sklearn.linear_model import LinearRegression\n",
    "from sklearn.metrics import r2_score\n",
    "import numpy as np\n",
    "import matplotlib.pyplot as plt\n",
    "import seaborn as sns"
   ]
  },
  {
   "cell_type": "code",
   "execution_count": 3,
   "id": "f8372bbb-7f90-41b7-914c-aca8597c1f6a",
   "metadata": {},
   "outputs": [],
   "source": [
    "pd.options.display.max_rows = 20  # Shows 20 rows\n",
    "pd.options.display.max_columns = 20  # Shows 20 columns"
   ]
  },
  {
   "cell_type": "markdown",
   "id": "c1121f80",
   "metadata": {},
   "source": [
    "## Loading the dataset"
   ]
  },
  {
   "cell_type": "code",
   "execution_count": 4,
   "id": "95d691a5-1638-4953-b929-761a8095a773",
   "metadata": {},
   "outputs": [
    {
     "data": {
      "text/html": [
       "<div>\n",
       "<style scoped>\n",
       "    .dataframe tbody tr th:only-of-type {\n",
       "        vertical-align: middle;\n",
       "    }\n",
       "\n",
       "    .dataframe tbody tr th {\n",
       "        vertical-align: top;\n",
       "    }\n",
       "\n",
       "    .dataframe thead th {\n",
       "        text-align: right;\n",
       "    }\n",
       "</style>\n",
       "<table border=\"1\" class=\"dataframe\">\n",
       "  <thead>\n",
       "    <tr style=\"text-align: right;\">\n",
       "      <th></th>\n",
       "      <th>Country</th>\n",
       "      <th>Year</th>\n",
       "      <th>Status</th>\n",
       "      <th>Life expectancy</th>\n",
       "      <th>Adult Mortality</th>\n",
       "      <th>infant deaths</th>\n",
       "      <th>Alcohol</th>\n",
       "      <th>percentage expenditure</th>\n",
       "      <th>Hepatitis B</th>\n",
       "      <th>Measles</th>\n",
       "      <th>...</th>\n",
       "      <th>Polio</th>\n",
       "      <th>Total expenditure</th>\n",
       "      <th>Diphtheria</th>\n",
       "      <th>HIV/AIDS</th>\n",
       "      <th>GDP</th>\n",
       "      <th>Population</th>\n",
       "      <th>thinness 1-19 years</th>\n",
       "      <th>thinness 5-9 years</th>\n",
       "      <th>Income composition of resources</th>\n",
       "      <th>Schooling</th>\n",
       "    </tr>\n",
       "  </thead>\n",
       "  <tbody>\n",
       "    <tr>\n",
       "      <th>0</th>\n",
       "      <td>Afghanistan</td>\n",
       "      <td>2015</td>\n",
       "      <td>Developing</td>\n",
       "      <td>65.0</td>\n",
       "      <td>263.0</td>\n",
       "      <td>62</td>\n",
       "      <td>0.01</td>\n",
       "      <td>71.279624</td>\n",
       "      <td>65.0</td>\n",
       "      <td>1154</td>\n",
       "      <td>...</td>\n",
       "      <td>6.0</td>\n",
       "      <td>8.16</td>\n",
       "      <td>65.0</td>\n",
       "      <td>0.1</td>\n",
       "      <td>584.259210</td>\n",
       "      <td>33736494.0</td>\n",
       "      <td>17.2</td>\n",
       "      <td>17.3</td>\n",
       "      <td>0.479</td>\n",
       "      <td>10.1</td>\n",
       "    </tr>\n",
       "    <tr>\n",
       "      <th>1</th>\n",
       "      <td>Afghanistan</td>\n",
       "      <td>2014</td>\n",
       "      <td>Developing</td>\n",
       "      <td>59.9</td>\n",
       "      <td>271.0</td>\n",
       "      <td>64</td>\n",
       "      <td>0.01</td>\n",
       "      <td>73.523582</td>\n",
       "      <td>62.0</td>\n",
       "      <td>492</td>\n",
       "      <td>...</td>\n",
       "      <td>58.0</td>\n",
       "      <td>8.18</td>\n",
       "      <td>62.0</td>\n",
       "      <td>0.1</td>\n",
       "      <td>612.696514</td>\n",
       "      <td>327582.0</td>\n",
       "      <td>17.5</td>\n",
       "      <td>17.5</td>\n",
       "      <td>0.476</td>\n",
       "      <td>10.0</td>\n",
       "    </tr>\n",
       "    <tr>\n",
       "      <th>2</th>\n",
       "      <td>Afghanistan</td>\n",
       "      <td>2013</td>\n",
       "      <td>Developing</td>\n",
       "      <td>59.9</td>\n",
       "      <td>268.0</td>\n",
       "      <td>66</td>\n",
       "      <td>0.01</td>\n",
       "      <td>73.219243</td>\n",
       "      <td>64.0</td>\n",
       "      <td>430</td>\n",
       "      <td>...</td>\n",
       "      <td>62.0</td>\n",
       "      <td>8.13</td>\n",
       "      <td>64.0</td>\n",
       "      <td>0.1</td>\n",
       "      <td>631.744976</td>\n",
       "      <td>31731688.0</td>\n",
       "      <td>17.7</td>\n",
       "      <td>17.7</td>\n",
       "      <td>0.470</td>\n",
       "      <td>9.9</td>\n",
       "    </tr>\n",
       "    <tr>\n",
       "      <th>3</th>\n",
       "      <td>Afghanistan</td>\n",
       "      <td>2012</td>\n",
       "      <td>Developing</td>\n",
       "      <td>59.5</td>\n",
       "      <td>272.0</td>\n",
       "      <td>69</td>\n",
       "      <td>0.01</td>\n",
       "      <td>78.184215</td>\n",
       "      <td>67.0</td>\n",
       "      <td>2787</td>\n",
       "      <td>...</td>\n",
       "      <td>67.0</td>\n",
       "      <td>8.52</td>\n",
       "      <td>67.0</td>\n",
       "      <td>0.1</td>\n",
       "      <td>669.959000</td>\n",
       "      <td>3696958.0</td>\n",
       "      <td>17.9</td>\n",
       "      <td>18.0</td>\n",
       "      <td>0.463</td>\n",
       "      <td>9.8</td>\n",
       "    </tr>\n",
       "    <tr>\n",
       "      <th>4</th>\n",
       "      <td>Afghanistan</td>\n",
       "      <td>2011</td>\n",
       "      <td>Developing</td>\n",
       "      <td>59.2</td>\n",
       "      <td>275.0</td>\n",
       "      <td>71</td>\n",
       "      <td>0.01</td>\n",
       "      <td>7.097109</td>\n",
       "      <td>68.0</td>\n",
       "      <td>3013</td>\n",
       "      <td>...</td>\n",
       "      <td>68.0</td>\n",
       "      <td>7.87</td>\n",
       "      <td>68.0</td>\n",
       "      <td>0.1</td>\n",
       "      <td>63.537231</td>\n",
       "      <td>2978599.0</td>\n",
       "      <td>18.2</td>\n",
       "      <td>18.2</td>\n",
       "      <td>0.454</td>\n",
       "      <td>9.5</td>\n",
       "    </tr>\n",
       "    <tr>\n",
       "      <th>...</th>\n",
       "      <td>...</td>\n",
       "      <td>...</td>\n",
       "      <td>...</td>\n",
       "      <td>...</td>\n",
       "      <td>...</td>\n",
       "      <td>...</td>\n",
       "      <td>...</td>\n",
       "      <td>...</td>\n",
       "      <td>...</td>\n",
       "      <td>...</td>\n",
       "      <td>...</td>\n",
       "      <td>...</td>\n",
       "      <td>...</td>\n",
       "      <td>...</td>\n",
       "      <td>...</td>\n",
       "      <td>...</td>\n",
       "      <td>...</td>\n",
       "      <td>...</td>\n",
       "      <td>...</td>\n",
       "      <td>...</td>\n",
       "      <td>...</td>\n",
       "    </tr>\n",
       "    <tr>\n",
       "      <th>2933</th>\n",
       "      <td>Zimbabwe</td>\n",
       "      <td>2004</td>\n",
       "      <td>Developing</td>\n",
       "      <td>44.3</td>\n",
       "      <td>723.0</td>\n",
       "      <td>27</td>\n",
       "      <td>4.36</td>\n",
       "      <td>0.000000</td>\n",
       "      <td>68.0</td>\n",
       "      <td>31</td>\n",
       "      <td>...</td>\n",
       "      <td>67.0</td>\n",
       "      <td>7.13</td>\n",
       "      <td>65.0</td>\n",
       "      <td>33.6</td>\n",
       "      <td>454.366654</td>\n",
       "      <td>12777511.0</td>\n",
       "      <td>9.4</td>\n",
       "      <td>9.4</td>\n",
       "      <td>0.407</td>\n",
       "      <td>9.2</td>\n",
       "    </tr>\n",
       "    <tr>\n",
       "      <th>2934</th>\n",
       "      <td>Zimbabwe</td>\n",
       "      <td>2003</td>\n",
       "      <td>Developing</td>\n",
       "      <td>44.5</td>\n",
       "      <td>715.0</td>\n",
       "      <td>26</td>\n",
       "      <td>4.06</td>\n",
       "      <td>0.000000</td>\n",
       "      <td>7.0</td>\n",
       "      <td>998</td>\n",
       "      <td>...</td>\n",
       "      <td>7.0</td>\n",
       "      <td>6.52</td>\n",
       "      <td>68.0</td>\n",
       "      <td>36.7</td>\n",
       "      <td>453.351155</td>\n",
       "      <td>12633897.0</td>\n",
       "      <td>9.8</td>\n",
       "      <td>9.9</td>\n",
       "      <td>0.418</td>\n",
       "      <td>9.5</td>\n",
       "    </tr>\n",
       "    <tr>\n",
       "      <th>2935</th>\n",
       "      <td>Zimbabwe</td>\n",
       "      <td>2002</td>\n",
       "      <td>Developing</td>\n",
       "      <td>44.8</td>\n",
       "      <td>73.0</td>\n",
       "      <td>25</td>\n",
       "      <td>4.43</td>\n",
       "      <td>0.000000</td>\n",
       "      <td>73.0</td>\n",
       "      <td>304</td>\n",
       "      <td>...</td>\n",
       "      <td>73.0</td>\n",
       "      <td>6.53</td>\n",
       "      <td>71.0</td>\n",
       "      <td>39.8</td>\n",
       "      <td>57.348340</td>\n",
       "      <td>125525.0</td>\n",
       "      <td>1.2</td>\n",
       "      <td>1.3</td>\n",
       "      <td>0.427</td>\n",
       "      <td>10.0</td>\n",
       "    </tr>\n",
       "    <tr>\n",
       "      <th>2936</th>\n",
       "      <td>Zimbabwe</td>\n",
       "      <td>2001</td>\n",
       "      <td>Developing</td>\n",
       "      <td>45.3</td>\n",
       "      <td>686.0</td>\n",
       "      <td>25</td>\n",
       "      <td>1.72</td>\n",
       "      <td>0.000000</td>\n",
       "      <td>76.0</td>\n",
       "      <td>529</td>\n",
       "      <td>...</td>\n",
       "      <td>76.0</td>\n",
       "      <td>6.16</td>\n",
       "      <td>75.0</td>\n",
       "      <td>42.1</td>\n",
       "      <td>548.587312</td>\n",
       "      <td>12366165.0</td>\n",
       "      <td>1.6</td>\n",
       "      <td>1.7</td>\n",
       "      <td>0.427</td>\n",
       "      <td>9.8</td>\n",
       "    </tr>\n",
       "    <tr>\n",
       "      <th>2937</th>\n",
       "      <td>Zimbabwe</td>\n",
       "      <td>2000</td>\n",
       "      <td>Developing</td>\n",
       "      <td>46.0</td>\n",
       "      <td>665.0</td>\n",
       "      <td>24</td>\n",
       "      <td>1.68</td>\n",
       "      <td>0.000000</td>\n",
       "      <td>79.0</td>\n",
       "      <td>1483</td>\n",
       "      <td>...</td>\n",
       "      <td>78.0</td>\n",
       "      <td>7.10</td>\n",
       "      <td>78.0</td>\n",
       "      <td>43.5</td>\n",
       "      <td>547.358878</td>\n",
       "      <td>12222251.0</td>\n",
       "      <td>11.0</td>\n",
       "      <td>11.2</td>\n",
       "      <td>0.434</td>\n",
       "      <td>9.8</td>\n",
       "    </tr>\n",
       "  </tbody>\n",
       "</table>\n",
       "<p>2938 rows × 22 columns</p>\n",
       "</div>"
      ],
      "text/plain": [
       "          Country  Year      Status  Life expectancy  Adult Mortality  \\\n",
       "0     Afghanistan  2015  Developing             65.0            263.0   \n",
       "1     Afghanistan  2014  Developing             59.9            271.0   \n",
       "2     Afghanistan  2013  Developing             59.9            268.0   \n",
       "3     Afghanistan  2012  Developing             59.5            272.0   \n",
       "4     Afghanistan  2011  Developing             59.2            275.0   \n",
       "...           ...   ...         ...              ...              ...   \n",
       "2933     Zimbabwe  2004  Developing             44.3            723.0   \n",
       "2934     Zimbabwe  2003  Developing             44.5            715.0   \n",
       "2935     Zimbabwe  2002  Developing             44.8             73.0   \n",
       "2936     Zimbabwe  2001  Developing             45.3            686.0   \n",
       "2937     Zimbabwe  2000  Developing             46.0            665.0   \n",
       "\n",
       "      infant deaths  Alcohol  percentage expenditure  Hepatitis B  Measles  \\\n",
       "0                62     0.01               71.279624         65.0     1154   \n",
       "1                64     0.01               73.523582         62.0      492   \n",
       "2                66     0.01               73.219243         64.0      430   \n",
       "3                69     0.01               78.184215         67.0     2787   \n",
       "4                71     0.01                7.097109         68.0     3013   \n",
       "...             ...      ...                     ...          ...      ...   \n",
       "2933             27     4.36                0.000000         68.0       31   \n",
       "2934             26     4.06                0.000000          7.0      998   \n",
       "2935             25     4.43                0.000000         73.0      304   \n",
       "2936             25     1.72                0.000000         76.0      529   \n",
       "2937             24     1.68                0.000000         79.0     1483   \n",
       "\n",
       "      ...  Polio  Total expenditure  Diphtheria  HIV/AIDS         GDP  \\\n",
       "0     ...    6.0               8.16        65.0       0.1  584.259210   \n",
       "1     ...   58.0               8.18        62.0       0.1  612.696514   \n",
       "2     ...   62.0               8.13        64.0       0.1  631.744976   \n",
       "3     ...   67.0               8.52        67.0       0.1  669.959000   \n",
       "4     ...   68.0               7.87        68.0       0.1   63.537231   \n",
       "...   ...    ...                ...         ...       ...         ...   \n",
       "2933  ...   67.0               7.13        65.0      33.6  454.366654   \n",
       "2934  ...    7.0               6.52        68.0      36.7  453.351155   \n",
       "2935  ...   73.0               6.53        71.0      39.8   57.348340   \n",
       "2936  ...   76.0               6.16        75.0      42.1  548.587312   \n",
       "2937  ...   78.0               7.10        78.0      43.5  547.358878   \n",
       "\n",
       "      Population  thinness 1-19 years  thinness 5-9 years  \\\n",
       "0     33736494.0                 17.2                17.3   \n",
       "1       327582.0                 17.5                17.5   \n",
       "2     31731688.0                 17.7                17.7   \n",
       "3      3696958.0                 17.9                18.0   \n",
       "4      2978599.0                 18.2                18.2   \n",
       "...          ...                  ...                 ...   \n",
       "2933  12777511.0                  9.4                 9.4   \n",
       "2934  12633897.0                  9.8                 9.9   \n",
       "2935    125525.0                  1.2                 1.3   \n",
       "2936  12366165.0                  1.6                 1.7   \n",
       "2937  12222251.0                 11.0                11.2   \n",
       "\n",
       "      Income composition of resources  Schooling  \n",
       "0                               0.479       10.1  \n",
       "1                               0.476       10.0  \n",
       "2                               0.470        9.9  \n",
       "3                               0.463        9.8  \n",
       "4                               0.454        9.5  \n",
       "...                               ...        ...  \n",
       "2933                            0.407        9.2  \n",
       "2934                            0.418        9.5  \n",
       "2935                            0.427       10.0  \n",
       "2936                            0.427        9.8  \n",
       "2937                            0.434        9.8  \n",
       "\n",
       "[2938 rows x 22 columns]"
      ]
     },
     "execution_count": 4,
     "metadata": {},
     "output_type": "execute_result"
    }
   ],
   "source": [
    "# These lines would load the data locally\n",
    "# data_root = \"./\"\n",
    "filename = \"data/Life_Expectancy_Data.csv\"\n",
    "#filepath = os.path.join(data_root, filename)\n",
    "\n",
    "# We'll fetch it directly from the web\n",
    "data_url = \"https://aet-cs.github.io/white/ML/lessons/Life_Expectancy_Data.csv\"\n",
    "df = pd.read_csv(filename)\n",
    "df"
   ]
  },
  {
   "cell_type": "markdown",
   "id": "a71ed4f4-5106-4425-88cd-ab2acbc24b86",
   "metadata": {},
   "source": [
    "`describe` gives a quick overview of each feature"
   ]
  },
  {
   "cell_type": "code",
   "execution_count": null,
   "id": "a363da42-73b6-4d09-b1c6-f885b020c633",
   "metadata": {},
   "outputs": [],
   "source": [
    "df.describe()"
   ]
  },
  {
   "cell_type": "markdown",
   "id": "b7c00c5e",
   "metadata": {},
   "source": [
    "## Data Exploration"
   ]
  },
  {
   "cell_type": "markdown",
   "id": "66b733f8-c4db-41d1-8e9e-ac316c0b8ecb",
   "metadata": {},
   "source": [
    "Show all the columns. Target is 'Life expectancy'"
   ]
  },
  {
   "cell_type": "code",
   "execution_count": null,
   "id": "91eae28c-7318-4630-b527-3cb6763babeb",
   "metadata": {},
   "outputs": [],
   "source": [
    "df.columns"
   ]
  },
  {
   "cell_type": "markdown",
   "id": "b5a2457e-739c-41ca-a91e-bbabbd5686f5",
   "metadata": {},
   "source": [
    "Get the size of the dataframe. Shape returns (rows, cols)"
   ]
  },
  {
   "cell_type": "code",
   "execution_count": null,
   "id": "22e851b3-20d7-4e4b-a450-140a428a9294",
   "metadata": {},
   "outputs": [],
   "source": [
    "target = \"Life expectancy\""
   ]
  },
  {
   "cell_type": "code",
   "execution_count": null,
   "id": "7b8d5fcc-1043-427a-9264-6f0a5deeb995",
   "metadata": {},
   "outputs": [],
   "source": [
    "df.shape"
   ]
  },
  {
   "cell_type": "markdown",
   "id": "3e22afb6-b203-4542-9c36-f4910be75a60",
   "metadata": {},
   "source": [
    "Let's get all the data types"
   ]
  },
  {
   "cell_type": "code",
   "execution_count": null,
   "id": "5318a0b9-6de2-4fa9-a17d-606e6b5aa61b",
   "metadata": {},
   "outputs": [],
   "source": [
    "df.dtypes"
   ]
  },
  {
   "cell_type": "code",
   "execution_count": null,
   "id": "2c1e74a9-08b9-4e73-8855-8af51df9a2ea",
   "metadata": {},
   "outputs": [],
   "source": [
    "df.hist(target);"
   ]
  },
  {
   "cell_type": "code",
   "execution_count": null,
   "id": "192bb3f4-9107-4d6d-8f9a-83dd2e8014d5",
   "metadata": {},
   "outputs": [],
   "source": [
    "df.hist(figsize=(15,15));"
   ]
  },
  {
   "cell_type": "markdown",
   "id": "0bdfeadc-13f3-4041-a954-d46ed9ead5b2",
   "metadata": {},
   "source": [
    "### Correlation matrix heat map"
   ]
  },
  {
   "cell_type": "markdown",
   "id": "7fc020d8-adfa-48de-b9bb-9dabde9499a4",
   "metadata": {},
   "source": [
    "Let's get a quick visual representation of the relationshop between features in this dataset. First drop the categorical attributes. Use a **new name** so we don't pollute the original dataframe"
   ]
  },
  {
   "cell_type": "code",
   "execution_count": null,
   "id": "3e61caf8-98a4-4e58-bb36-7c025a0b0c1d",
   "metadata": {},
   "outputs": [],
   "source": [
    "df_heat = df.drop([\"Country\", \"Status\", \"Schooling\", \"percentage expenditure\", \"under-five deaths\", \"thinness 5-9 years\"], axis = 1)"
   ]
  },
  {
   "cell_type": "code",
   "execution_count": null,
   "id": "3cfe649b-f8cc-48c6-9ad9-3ac968bffc8f",
   "metadata": {},
   "outputs": [],
   "source": [
    "corr_matrix = df_heat.corr()"
   ]
  },
  {
   "cell_type": "code",
   "execution_count": null,
   "id": "1cd6565e-12d2-48a1-bfc1-35c44e39e22b",
   "metadata": {},
   "outputs": [],
   "source": [
    "plt.figure(figsize=(16, 6))\n",
    "# define the mask to set the values in the upper triangle to True\n",
    "mask = np.triu(np.ones_like(corr_matrix, dtype=np.bool))\n",
    "heatmap = sns.heatmap(corr_matrix, mask=mask, vmin=-1, vmax=1, annot=True, cmap='BrBG')\n",
    "heatmap.set_title('Life Expectancy Correlation Heatmap', fontdict={'fontsize':14}, pad=16);\n",
    "plt.show()"
   ]
  },
  {
   "cell_type": "markdown",
   "id": "e406b72a-e7e7-4294-853c-66ec7f36f6bc",
   "metadata": {},
   "source": [
    "Which features seem to be important?"
   ]
  },
  {
   "cell_type": "code",
   "execution_count": null,
   "id": "7ff1e04d-41dd-48b9-97e4-c17ca7351f75",
   "metadata": {},
   "outputs": [],
   "source": [
    "row_filter = abs(corr_matrix[target])>0.1\n",
    "top_features = pd.DataFrame(corr_matrix[target][row_filter])\n",
    "top_features.sort_values(by=target)"
   ]
  },
  {
   "cell_type": "markdown",
   "id": "961a4b15-dbfb-4585-86f6-5d0bddd1f444",
   "metadata": {},
   "source": [
    "## Data Modeling"
   ]
  },
  {
   "cell_type": "markdown",
   "id": "7416c6a5-a15e-4fc9-81a1-529ebdd44b6b",
   "metadata": {},
   "source": [
    "Here we will run a linear regression. First we need to clean up the data a bit. We will create a data pipeline so we can repeat this process as needed."
   ]
  },
  {
   "cell_type": "code",
   "execution_count": null,
   "id": "9ed64ed8-a168-4479-ac47-678d17e46b27",
   "metadata": {},
   "outputs": [],
   "source": [
    "import pandas as pd\n",
    "from sklearn.model_selection import train_test_split\n",
    "from sklearn.preprocessing import LabelEncoder\n",
    "from sklearn.tree import DecisionTreeClassifier\n",
    "from sklearn.metrics import accuracy_score, classification_report\n",
    "from sklearn.impute import SimpleImputer\n",
    "from sklearn.compose import ColumnTransformer\n",
    "from sklearn.impute import SimpleImputer\n",
    "from sklearn.preprocessing import OneHotEncoder\n",
    "from sklearn.pipeline import Pipeline\n",
    "from sklearn.preprocessing import OrdinalEncoder"
   ]
  },
  {
   "cell_type": "markdown",
   "id": "aed528e4-5585-4ec9-9fe6-399a1cb54256",
   "metadata": {},
   "source": [
    "### Linear Regression"
   ]
  },
  {
   "cell_type": "markdown",
   "id": "3766dfe6-c94c-4a92-b54d-c3e27ef5e324",
   "metadata": {},
   "source": [
    "Three methods will load the data, preprocess it, and create X and y datasets for training and testing."
   ]
  },
  {
   "cell_type": "code",
   "execution_count": null,
   "id": "c160ab9a-7d8d-47cf-aa39-4d1db73a75f2",
   "metadata": {},
   "outputs": [],
   "source": [
    "def get_data(filename):\n",
    "    df = pd.read_csv(filename)\n",
    "    return df    "
   ]
  },
  {
   "cell_type": "code",
   "execution_count": null,
   "id": "ecdc3219-ceee-4353-9dd4-737d0fcd1d09",
   "metadata": {},
   "outputs": [],
   "source": [
    "\n",
    "def pre_process_data(df, one_hot_encode = False):\n",
    "    target = \"Life expectancy\"    \n",
    "    simple_median = SimpleImputer(strategy='median')\n",
    "    simple_most_freq = SimpleImputer(strategy='most_frequent')\n",
    "    \n",
    "    num_cols = df.select_dtypes(include=np.number).columns\n",
    "    cat_cols = df.select_dtypes(include=object).columns\n",
    "\n",
    "    df[num_cols] = simple_median.fit_transform(df[num_cols])\n",
    "    df[cat_cols] = simple_most_freq.fit_transform(df[cat_cols])\n",
    "    \n",
    "    if one_hot_encode:\n",
    "        #O_encoder = OrdinalEncoder()\n",
    "        #df[cat_cols]= O_encoder.fit_transform(df[cat_cols])\n",
    "\n",
    "        df = pd.get_dummies(df, dtype=int)\n",
    "        \n",
    "    return df"
   ]
  },
  {
   "cell_type": "code",
   "execution_count": null,
   "id": "c6691978-8b74-41cd-83b3-339b8e4eb3c9",
   "metadata": {},
   "outputs": [],
   "source": [
    "def get_test_train(df, test_size = 0.2, random_state = 42):\n",
    "    target = \"Life expectancy\"   \n",
    "    X = df.drop(target, axis=1)\n",
    "    y = df[target]\n",
    "    X_train, X_test, y_train, y_test = train_test_split(X,y,test_size=test_size, random_state=random_state)\n",
    "    return X_train, X_test, y_train, y_test"
   ]
  },
  {
   "cell_type": "code",
   "execution_count": null,
   "id": "9c8ab8e2-0a40-4c0b-81b7-dc5d9cc2c5e2",
   "metadata": {},
   "outputs": [],
   "source": [
    "df = get_data(filename)\n",
    "df = pre_process_data(df, one_hot_encode = True)\n",
    "X_train, X_test, y_train, y_test = get_test_train(df)"
   ]
  },
  {
   "cell_type": "code",
   "execution_count": null,
   "id": "fd9ebd7b-48da-4652-a149-04bcf0bc015e",
   "metadata": {},
   "outputs": [],
   "source": [
    "lreg = LinearRegression()\n",
    "model = lreg.fit(X_train, y_train)\n",
    "\n",
    "y_pred = lreg.predict(X_test)\n",
    "print(f\"Train R-squared = {r2_score(lreg.predict(X_train), y_train):5.3}\")\n",
    "print(f\"Test R-squared  = {r2_score(y_pred, y_test):5.3}\")"
   ]
  },
  {
   "cell_type": "code",
   "execution_count": null,
   "id": "81ab732f-23ba-4d7d-aa18-582665cb549f",
   "metadata": {},
   "outputs": [],
   "source": [
    "plt.scatter(y_test, y_pred);\n",
    "plt.plot([40,90],[40,90],color='red')\n",
    "plt.title(\"Predicted LE vs. Real LE\")\n",
    "plt.xlabel(\"True Life Expectancy\")\n",
    "plt.ylabel(\"Predicted LE\")"
   ]
  },
  {
   "cell_type": "markdown",
   "id": "6fe004b8-d1e5-4d9e-9b42-a34ea0d6613c",
   "metadata": {},
   "source": [
    "## Advanced Techniques"
   ]
  },
  {
   "cell_type": "code",
   "execution_count": null,
   "id": "55e68021-ebde-4d1f-8477-2dd5f8085de9",
   "metadata": {},
   "outputs": [],
   "source": [
    "import matplotlib.pyplot as plt\n",
    "import pandas as pd\n",
    "\n",
    "# Assuming `df` is your DataFrame with 20 numerical features and 'LifeExpectancy' as the target variable\n",
    "target = 'Life expectancy'\n",
    "df = get_data(filename)\n",
    "df = pre_process_data(df)\n",
    "features = df.drop(target, axis=1).select_dtypes(include=['number']).columns\n",
    "\n",
    "# Set up a grid of subplots\n",
    "num_features = len(features)\n",
    "num_cols = 5  # Adjust this to your preference\n",
    "num_rows = (num_features + num_cols - 1) // num_cols  # Calculates rows needed\n",
    "\n",
    "plt.figure(figsize=(15, num_rows * 3))\n",
    "\n",
    "for i, feature in enumerate(features, 1):\n",
    "    plt.subplot(num_rows, num_cols, i)\n",
    "    plt.scatter(df[feature], df[target], alpha=0.5)\n",
    "    plt.title(f'{feature} vs. LE')\n",
    "    plt.xlabel(feature)\n",
    "    plt.ylabel(target)\n",
    "\n",
    "plt.tight_layout()\n",
    "plt.show()\n"
   ]
  },
  {
   "cell_type": "markdown",
   "id": "6f787cba-52e4-4245-b6d3-7e656c78f8c5",
   "metadata": {},
   "source": [
    "## Importance Analysis"
   ]
  },
  {
   "cell_type": "code",
   "execution_count": null,
   "id": "ad62d085-6abc-4ee3-a4be-43b4f41d80f2",
   "metadata": {},
   "outputs": [],
   "source": [
    "import statsmodels.api as sm\n",
    "\n",
    "df = get_data(filename)\n",
    "df = pre_process_data(df, one_hot_encode = True)\n",
    "X_train, X_test, y_train, y_test = get_test_train(df)\n",
    "X_train = sm.add_constant(X_train)\n",
    "# Fit the OLS model\n",
    "model = sm.OLS(y_train, X_train).fit()\n",
    "\n",
    "# Get a summary of the regression\n",
    "print(model.summary())"
   ]
  },
  {
   "cell_type": "code",
   "execution_count": null,
   "id": "e4d06e5b-8b58-47ab-b624-2214b0e4dd09",
   "metadata": {
    "scrolled": true
   },
   "outputs": [],
   "source": [
    "# Extract the summary table as a DataFrame\n",
    "summary_table = model.summary2().tables[1]  # tables[1] is the coefficients table in summary2()\n",
    "\n",
    "# Sort by p-values (for example)\n",
    "sorted_summary = summary_table.sort_values(by='t')\n",
    "\n",
    "\n",
    "# Set display options to prevent truncation\n",
    "pd.options.display.max_rows = None  # Shows all rows\n",
    "pd.options.display.max_columns = None  # Shows all columns\n",
    "\n",
    "sorted_summary"
   ]
  },
  {
   "cell_type": "markdown",
   "id": "a4adbdf5-57f6-4811-9c95-dbe9842d6073",
   "metadata": {},
   "source": [
    "# Exercises"
   ]
  },
  {
   "cell_type": "markdown",
   "id": "e45f2b0f-12bb-41ea-a281-9aafa6ebcf90",
   "metadata": {},
   "source": [
    "1. Notice the warning about multicollinearity in the above analysis. This can happen when two or more features in your training set are linearly related. By reading through the computations we already made, find pairs of rows are have a high correlation and drop one from each pair, then rerun the regression in 'statsmodel'. Can you get the error to go away?\n",
    "\n",
    "   deleting some of the most correlated columns didn't make the error go away. Instead, the condition number went from about $10^8$ to $10^{10}$. The $r^2$ did not change.\n",
    "\n",
    "2. The categorical variable 'country' was ordinal encoded above, even though I said that was usually not a great thing to do. Modify our preprocessor so that the data is one-hot-encoded and re-run all the subsequent analyses. What effect does this have on the $r^2$?\n",
    "\n",
    "   the $r^2$ value shoots up from 0.819 to 0.963.\n",
    "\n",
    "4. Small models generalize better than large models (generally). Experiment with this dataset and find a small subset of the features that predict the outcome as well as the full set (or *almost* as good, for an imprecise definition of *almost*). You're free to pre-process or transform the data however you'd like.\n",
    "\n",
    "    Using a regression with only the columns Schooling, Income composition, BMI, Diptheria, Polio, GDP, thinness 1-19, Status, HIV, and Adult Mortality performs almost as well as the entire model, with the accuracy only decreasing by about 4%.\n",
    "\n",
    "5. Do your own linear regression!"
   ]
  },
  {
   "cell_type": "code",
   "execution_count": null,
   "id": "01fa6921-0f90-4ab6-85fb-4e7c7dd25562",
   "metadata": {},
   "outputs": [],
   "source": []
  }
 ],
 "metadata": {
  "kernelspec": {
   "display_name": "env",
   "language": "python",
   "name": "python3"
  },
  "language_info": {
   "codemirror_mode": {
    "name": "ipython",
    "version": 3
   },
   "file_extension": ".py",
   "mimetype": "text/x-python",
   "name": "python",
   "nbconvert_exporter": "python",
   "pygments_lexer": "ipython3",
   "version": "3.11.9"
  }
 },
 "nbformat": 4,
 "nbformat_minor": 5
}
