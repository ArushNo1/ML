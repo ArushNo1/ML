{
 "cells": [
  {
   "cell_type": "markdown",
   "id": "7c0d599c-3044-43df-bebd-664dea0f66fb",
   "metadata": {},
   "source": [
    "# Linear Least Squares"
   ]
  },
  {
   "cell_type": "markdown",
   "id": "6f771ca1-2445-4dee-a601-cee4af1216d0",
   "metadata": {},
   "source": [
    "In class we derived the formula for linear least squares of one variable. In this notebook you will learn a bit of the numerical library numpy, use numpy to compute linear regression, and then compute it yourself using formulas from class"
   ]
  },
  {
   "cell_type": "markdown",
   "id": "33f580b5-4af9-41ff-98c3-49df212f6aeb",
   "metadata": {},
   "source": [
    "Begin by running the cell below. Then go back and carefully read through all the code. There is a lot of new stuff here. Note how to create numpy arrays/matrices and how to compute a linear least squares regression."
   ]
  },
  {
   "cell_type": "code",
   "execution_count": 2,
   "id": "faa2d59e-a006-4638-9352-63d3f8bf099f",
   "metadata": {
    "scrolled": true
   },
   "outputs": [
    {
     "name": "stdout",
     "output_type": "stream",
     "text": [
      "Slope (a): 0.6000\n",
      "Intercept (b): 2.2000\n"
     ]
    },
    {
     "data": {
      "image/png": "[encoded data removed]",
      "text/plain": [
       "<Figure size 640x480 with 1 Axes>"
      ]
     },
     "metadata": {},
     "output_type": "display_data"
    }
   ],
   "source": [
    "import numpy as np\n",
    "import matplotlib.pyplot as plt\n",
    "\n",
    "# Step 1: Prepare your data\n",
    "# x: Independent variable (input)\n",
    "# y: Dependent variable (output)\n",
    "x = np.array([1, 2, 3, 4, 5])\n",
    "y = np.array([2, 4, 5, 4, 5])\n",
    "\n",
    "# Step 2: Perform linear regression using the least squares method\n",
    "\n",
    "# Add a column of ones to the input data for the intercept (bias term)\n",
    "X = np.vstack([x, np.ones(len(x))]).T\n",
    "\n",
    "# Calculate the slope (m) and intercept (b)\n",
    "a, b = np.linalg.lstsq(X, y, rcond=None)[0]\n",
    "\n",
    "print(f\"Slope (a): {a:.4f}\")\n",
    "print(f\"Intercept (b): {b:.4f}\")\n",
    "\n",
    "# Step 3: Predict y values using the regression line\n",
    "y_pred = a * x + b\n",
    "\n",
    "# Optional: Plot the data and the regression line\n",
    "plt.scatter(x, y, color='blue', label='Data points')\n",
    "plt.plot(x, y_pred, color='red', label='Regression line')\n",
    "plt.xlabel('x')\n",
    "plt.ylabel('y')\n",
    "plt.legend()\n",
    "plt.show()\n"
   ]
  },
  {
   "cell_type": "markdown",
   "id": "2cb5187f-38cf-4aba-96c7-90ff3f264611",
   "metadata": {},
   "source": [
    "## An aside about numpy matrices"
   ]
  },
  {
   "cell_type": "markdown",
   "id": "520e986b-c536-4273-b1b9-3af99704aec0",
   "metadata": {},
   "source": [
    "What happened to x? Here's the original $x$, which is an array"
   ]
  },
  {
   "cell_type": "code",
   "execution_count": 3,
   "id": "d789ffd9-b199-4e2b-b449-17670e6ad230",
   "metadata": {},
   "outputs": [
    {
     "data": {
      "text/plain": [
       "array([1, 2, 3, 4, 5])"
      ]
     },
     "execution_count": 3,
     "metadata": {},
     "output_type": "execute_result"
    }
   ],
   "source": [
    "x"
   ]
  },
  {
   "cell_type": "markdown",
   "id": "2252ca85-950e-4d08-8c9f-05abf138f5ba",
   "metadata": {},
   "source": [
    "We add a row of 1s after it and take the transpose to get the input matrix $X$"
   ]
  },
  {
   "cell_type": "code",
   "execution_count": 4,
   "id": "a948b1b1-ec50-47e1-a9b1-5d737362a422",
   "metadata": {},
   "outputs": [
    {
     "data": {
      "text/plain": [
       "array([[1., 1.],\n",
       "       [2., 1.],\n",
       "       [3., 1.],\n",
       "       [4., 1.],\n",
       "       [5., 1.]])"
      ]
     },
     "execution_count": 4,
     "metadata": {},
     "output_type": "execute_result"
    }
   ],
   "source": [
    "X"
   ]
  },
  {
   "cell_type": "markdown",
   "id": "85dea91d-405b-471b-9522-183049796ec8",
   "metadata": {},
   "source": [
    "Breaking this down into pieces, first let's make a python list that contains $x$ and an array of ones"
   ]
  },
  {
   "cell_type": "code",
   "execution_count": 5,
   "id": "fa49936e-0153-44f5-8dc9-8e7d4fece5c6",
   "metadata": {},
   "outputs": [
    {
     "data": {
      "text/plain": [
       "[array([1, 2, 3, 4, 5]), array([1., 1., 1., 1., 1.])]"
      ]
     },
     "execution_count": 5,
     "metadata": {},
     "output_type": "execute_result"
    }
   ],
   "source": [
    "[x,np.ones(len(x))]"
   ]
  },
  {
   "cell_type": "markdown",
   "id": "ee511191-9e2b-4913-b54e-78e998eeed9b",
   "metadata": {},
   "source": [
    "Now let's use numpy to make a vertical stack. The first element in the list becomes the first row"
   ]
  },
  {
   "cell_type": "code",
   "execution_count": 6,
   "id": "9176d946-a689-4654-b6fd-e5191163f681",
   "metadata": {},
   "outputs": [
    {
     "data": {
      "text/plain": [
       "array([[1., 2., 3., 4., 5.],\n",
       "       [1., 1., 1., 1., 1.]])"
      ]
     },
     "execution_count": 6,
     "metadata": {},
     "output_type": "execute_result"
    }
   ],
   "source": [
    "np.vstack([x, np.ones(len(x))])"
   ]
  },
  {
   "cell_type": "markdown",
   "id": "06ed52a2-f587-4e48-8b48-71b71da48baa",
   "metadata": {},
   "source": [
    "And now take the transpose"
   ]
  },
  {
   "cell_type": "code",
   "execution_count": 7,
   "id": "14bb70f8-4b79-44ce-87e2-2aee0ce633fd",
   "metadata": {},
   "outputs": [
    {
     "data": {
      "text/plain": [
       "array([[1., 1.],\n",
       "       [2., 1.],\n",
       "       [3., 1.],\n",
       "       [4., 1.],\n",
       "       [5., 1.]])"
      ]
     },
     "execution_count": 7,
     "metadata": {},
     "output_type": "execute_result"
    }
   ],
   "source": [
    "np.vstack([x, np.ones(len(x))]).T"
   ]
  },
  {
   "cell_type": "markdown",
   "id": "2265d9cb-0bed-4192-a0a4-3542492bb469",
   "metadata": {},
   "source": [
    "### Practice with matrices"
   ]
  },
  {
   "cell_type": "markdown",
   "id": "feb4a53e-cf82-465c-99b3-0d2a7617f2ba",
   "metadata": {},
   "source": [
    "Make a numpy matrix that is a row of 5 zeros followed by a row of 5 ones, then 5 zeros, then 5 ones again. Use built in functions and `vstack` (don't just type a bunch of 0 and 1 -- can you guess the name of a function that makes an array of zeros?)"
   ]
  },
  {
   "cell_type": "code",
   "execution_count": 8,
   "id": "f84d67d5-e277-4d13-b9ca-59feb4b389bc",
   "metadata": {},
   "outputs": [
    {
     "data": {
      "text/plain": [
       "array([[0., 0., 0., 0., 0.],\n",
       "       [1., 1., 1., 1., 1.],\n",
       "       [0., 0., 0., 0., 0.],\n",
       "       [1., 1., 1., 1., 1.]])"
      ]
     },
     "execution_count": 8,
     "metadata": {},
     "output_type": "execute_result"
    }
   ],
   "source": [
    "np.vstack([np.zeros(5), np.ones(5), np.zeros(5), np.ones(5)])"
   ]
  },
  {
   "cell_type": "markdown",
   "id": "6c7c950f-3dab-4d92-a04e-1d673faea38c",
   "metadata": {},
   "source": [
    "Now make a similar matrix that is a row of all 1s followed by all 2s in the second row, then 3s then 4s. Again use built in function `np.ones`. Name this matrix `M`. Hint: $[2,2,2,2,2] = 2\\cdot[1,1,1,1,1]$"
   ]
  },
  {
   "cell_type": "code",
   "execution_count": 9,
   "id": "f96a202b-e209-4ccf-95db-7f4e022076a1",
   "metadata": {},
   "outputs": [
    {
     "data": {
      "text/plain": [
       "array([[1., 1., 1., 1., 1.],\n",
       "       [2., 2., 2., 2., 2.],\n",
       "       [3., 3., 3., 3., 3.],\n",
       "       [4., 4., 4., 4., 4.],\n",
       "       [5., 5., 5., 5., 5.]])"
      ]
     },
     "execution_count": 9,
     "metadata": {},
     "output_type": "execute_result"
    }
   ],
   "source": [
    "M = np.vstack([i * np.ones(5) for i in range(1, 6)])\n",
    "M"
   ]
  },
  {
   "cell_type": "markdown",
   "id": "78050996-3fd7-462b-aee3-ecb9ea1ef2ff",
   "metadata": {},
   "source": [
    "compute M times M transpose and M transpose times M ($MM^T$ and $M^TM$). In `numpy` $AB$ can be computed with `A @ B` for matrices `A` and `B`"
   ]
  },
  {
   "cell_type": "code",
   "execution_count": 10,
   "id": "517bc0d2-4c11-428d-833a-d23fa7db32fe",
   "metadata": {},
   "outputs": [
    {
     "data": {
      "text/plain": [
       "(array([[  5.,  10.,  15.,  20.,  25.],\n",
       "        [ 10.,  20.,  30.,  40.,  50.],\n",
       "        [ 15.,  30.,  45.,  60.,  75.],\n",
       "        [ 20.,  40.,  60.,  80., 100.],\n",
       "        [ 25.,  50.,  75., 100., 125.]]),\n",
       " array([[55., 55., 55., 55., 55.],\n",
       "        [55., 55., 55., 55., 55.],\n",
       "        [55., 55., 55., 55., 55.],\n",
       "        [55., 55., 55., 55., 55.],\n",
       "        [55., 55., 55., 55., 55.]]))"
      ]
     },
     "execution_count": 10,
     "metadata": {},
     "output_type": "execute_result"
    }
   ],
   "source": [
    "MMt = M @ M.T\n",
    "MtM = M.T @ M\n",
    "MMt, MtM"
   ]
  },
  {
   "cell_type": "markdown",
   "id": "ad79b61c-155f-486b-8f19-f1e59205c99f",
   "metadata": {},
   "source": [
    "A matrix $M$ is *symmetric* if $M = M^T$. This also implies $M_{ij} = M_{ji}$ for all indices $(i,j)$. Write a python function `is_symmetric(M)` which returns `true` if and only if $M$ is symmetric"
   ]
  },
  {
   "cell_type": "code",
   "execution_count": 11,
   "id": "72585269-b83a-4731-a004-7b408d3a2cdb",
   "metadata": {},
   "outputs": [],
   "source": [
    "def is_symmetric_np(M):\n",
    "    return np.array_equal(M, M.T)\n",
    "def is_symmetric(M):\n",
    "    for i in range(len(M)):\n",
    "        for j in range(i + 1, len(M[i])):\n",
    "            if M[i][j] != M[j][i]:\n",
    "                return False\n",
    "    return True\n",
    "            "
   ]
  },
  {
   "cell_type": "markdown",
   "id": "1656b121-a1a3-40ff-a760-487cc8491669",
   "metadata": {},
   "source": [
    "Test your function. Make a 5 by 5 random integer matrix (see `np.random.randint`) called $M$. It is a fact that $MM^T$ is always symmetric. Check that your function return `true` for $MM^T$ and `false` for $M$. Repeat this trial 100 times and verify all 100 are correct."
   ]
  },
  {
   "cell_type": "code",
   "execution_count": 12,
   "id": "3837528e-7ee2-42f1-aff2-0d1d9ecacbb4",
   "metadata": {},
   "outputs": [
    {
     "name": "stdout",
     "output_type": "stream",
     "text": [
      "M\tMMt\n",
      "False\tTrue\n",
      "False\tTrue\n",
      "False\tTrue\n",
      "False\tTrue\n",
      "False\tTrue\n",
      "False\tTrue\n",
      "False\tTrue\n",
      "False\tTrue\n",
      "False\tTrue\n",
      "False\tTrue\n",
      "False\tTrue\n",
      "False\tTrue\n",
      "False\tTrue\n",
      "False\tTrue\n",
      "False\tTrue\n",
      "False\tTrue\n",
      "False\tTrue\n",
      "False\tTrue\n",
      "False\tTrue\n",
      "False\tTrue\n",
      "False\tTrue\n",
      "False\tTrue\n",
      "False\tTrue\n",
      "False\tTrue\n",
      "False\tTrue\n",
      "False\tTrue\n",
      "False\tTrue\n",
      "False\tTrue\n",
      "False\tTrue\n",
      "False\tTrue\n",
      "False\tTrue\n",
      "False\tTrue\n",
      "False\tTrue\n",
      "False\tTrue\n",
      "False\tTrue\n",
      "False\tTrue\n",
      "False\tTrue\n",
      "False\tTrue\n",
      "False\tTrue\n",
      "False\tTrue\n",
      "False\tTrue\n",
      "False\tTrue\n",
      "False\tTrue\n",
      "False\tTrue\n",
      "False\tTrue\n",
      "False\tTrue\n",
      "False\tTrue\n",
      "False\tTrue\n",
      "False\tTrue\n",
      "False\tTrue\n",
      "False\tTrue\n",
      "False\tTrue\n",
      "False\tTrue\n",
      "False\tTrue\n",
      "False\tTrue\n",
      "False\tTrue\n",
      "False\tTrue\n",
      "False\tTrue\n",
      "False\tTrue\n",
      "False\tTrue\n",
      "False\tTrue\n",
      "False\tTrue\n",
      "False\tTrue\n",
      "False\tTrue\n",
      "False\tTrue\n",
      "False\tTrue\n",
      "False\tTrue\n",
      "False\tTrue\n",
      "False\tTrue\n",
      "False\tTrue\n",
      "False\tTrue\n",
      "False\tTrue\n",
      "False\tTrue\n",
      "False\tTrue\n",
      "False\tTrue\n",
      "False\tTrue\n",
      "False\tTrue\n",
      "False\tTrue\n",
      "False\tTrue\n",
      "False\tTrue\n",
      "False\tTrue\n",
      "False\tTrue\n",
      "False\tTrue\n",
      "False\tTrue\n",
      "False\tTrue\n",
      "False\tTrue\n",
      "False\tTrue\n",
      "False\tTrue\n",
      "False\tTrue\n",
      "False\tTrue\n",
      "False\tTrue\n",
      "False\tTrue\n",
      "False\tTrue\n",
      "False\tTrue\n",
      "False\tTrue\n",
      "False\tTrue\n",
      "False\tTrue\n",
      "False\tTrue\n",
      "False\tTrue\n",
      "False\tTrue\n"
     ]
    }
   ],
   "source": [
    "print(\"M\\tMMt\")\n",
    "for i in range(100):\n",
    "    M = np.vstack([np.random.randint(0, 100, size=5) for i in range(0, 5)])\n",
    "    print(is_symmetric(M), end = \"\\t\")\n",
    "    print(is_symmetric(M.T @ M))"
   ]
  },
  {
   "cell_type": "markdown",
   "id": "bd47cc7d-9dfb-4884-97dc-ba7542ec8ca2",
   "metadata": {},
   "source": [
    "## Linear Least Squares Regression"
   ]
  },
  {
   "cell_type": "markdown",
   "id": "1f6d4e9f-570b-4e8c-afae-b60708db3191",
   "metadata": {},
   "source": [
    "You can create a vector of normally distributed samples with mean $\\mu$ and standard deviation $\\sigma$ by using the numpy function `np.random.normal(mu, sigma, n)`. Try creating a vector with 10 random samples, with a mean of 100 and a standard deviation of 5."
   ]
  },
  {
   "cell_type": "code",
   "execution_count": 13,
   "id": "bcb096eb-72a9-4a85-ac84-9747b632a1ee",
   "metadata": {},
   "outputs": [
    {
     "data": {
      "text/plain": [
       "array([ 89.78028552, 100.47761547, 110.18920428, 104.39191637,\n",
       "        91.20143332, 100.05486254, 104.5280227 , 101.30904659,\n",
       "        96.61487429, 101.96616564])"
      ]
     },
     "execution_count": 13,
     "metadata": {},
     "output_type": "execute_result"
    }
   ],
   "source": [
    "arr = np.random.normal(100, 5, 10)\n",
    "arr"
   ]
  },
  {
   "cell_type": "markdown",
   "id": "43774f54-6ad7-426c-bda8-33ebd300e353",
   "metadata": {},
   "source": [
    "Now create some data for linear regression. Make a vector $x$ of ints over the range $[0,9]$ and let $y$ be a linear function of $x$, $y = 3x+2+\\epsilon(x)$ where $\\epsilon(x)$ is a random Gaussian noise function $\\epsilon(x) \\sim N(0,1)$. Make a scatter plot of $y$ vs. $x$ and label it"
   ]
  },
  {
   "cell_type": "code",
   "execution_count": 14,
   "id": "f9473abe-d454-40dd-9a32-fac0dca303e2",
   "metadata": {},
   "outputs": [
    {
     "data": {
      "text/plain": [
       "Text(0, 0.5, 'y + noise')"
      ]
     },
     "execution_count": 14,
     "metadata": {},
     "output_type": "execute_result"
    },
    {
     "data": {
      "image/png": "[encoded data removed]",
      "text/plain": [
       "<Figure size 640x480 with 1 Axes>"
      ]
     },
     "metadata": {},
     "output_type": "display_data"
    }
   ],
   "source": [
    "x = [i for i in range(10)]\n",
    "y = [3 * i + 2 + np.random.normal(0, 1) for i in x]\n",
    "plt.scatter(x, y)\n",
    "plt.title(\"Scatter Plot of x and y with noise\")\n",
    "plt.xlabel(\"x\")\n",
    "plt.ylabel(\"y + noise\")"
   ]
  },
  {
   "cell_type": "markdown",
   "id": "22f8ea7e-b876-459a-8eae-b6fb25058856",
   "metadata": {},
   "source": [
    "Compute the correct linear regression coefficients using numpy as above. Check they are resonable."
   ]
  },
  {
   "cell_type": "code",
   "execution_count": 15,
   "id": "e267219b-2a14-45d5-9f25-1e3de2932468",
   "metadata": {},
   "outputs": [
    {
     "data": {
      "text/plain": [
       "(np.float64(2.789878583346536), np.float64(3.246822147284955))"
      ]
     },
     "execution_count": 15,
     "metadata": {},
     "output_type": "execute_result"
    }
   ],
   "source": [
    "X = np.vstack([x, np.ones(len(x))]).T\n",
    "a, b = np.linalg.lstsq(X, y, rcond=None)[0]\n",
    "a, b"
   ]
  },
  {
   "cell_type": "code",
   "execution_count": 16,
   "id": "9bd0b931-4a14-4df5-a64b-39dbaef79cb6",
   "metadata": {},
   "outputs": [
    {
     "data": {
      "image/png": "[encoded data removed]",
      "text/plain": [
       "<Figure size 640x480 with 1 Axes>"
      ]
     },
     "metadata": {},
     "output_type": "display_data"
    }
   ],
   "source": [
    "y_pred = [a * i + b for i in x]\n",
    "plt.scatter(x, y, label = 'data', color='r')\n",
    "plt.plot(x, y_pred, label = 'trendline', color='g')\n",
    "plt.legend()\n",
    "plt.show()"
   ]
  },
  {
   "cell_type": "markdown",
   "id": "880f37cc-748d-4e90-9555-f678b5101eb6",
   "metadata": {},
   "source": [
    "Now compute the regression coefficients using the formulas from class. Begin by defining some very helpful variables: `Sx, Sy` will be $\\sum_i {x_i}$ and $\\sum_i {y_i}$ respectively. Next `Sxx` and `Syy` are the sum of squares: $\\sum_i {x_i}^2$ and $\\sum_i {y_i}^2$. Finally the inner product `Sxy` = $\\sum_i x_iy_i$. The quickest way to do this involves using comprehensions and the `sum` function, but you can use loops for now if you need to."
   ]
  },
  {
   "cell_type": "code",
   "execution_count": 17,
   "id": "b6b0ec6e-c37e-4c72-be01-a208cb3383b5",
   "metadata": {},
   "outputs": [],
   "source": [
    "n = len(x)\n",
    "Sx = sum(x)\n",
    "Sy = sum(y)\n",
    "Sxx = sum([i * i for i in x])\n",
    "Syy = sum([i * i for i in y])\n",
    "Sxy = sum([i * j for (i, j) in zip(x, y)])"
   ]
  },
  {
   "cell_type": "code",
   "execution_count": 18,
   "id": "36667f53-ab1d-4f78-b141-45f2544e63ea",
   "metadata": {},
   "outputs": [
    {
     "data": {
      "text/plain": [
       "(10, 45, 158.01275772344374, 285, 3149.5053551282576, 941.2223928815861)"
      ]
     },
     "execution_count": 18,
     "metadata": {},
     "output_type": "execute_result"
    }
   ],
   "source": [
    "# Print your results\n",
    "n, Sx, Sy, Sxx, Syy, Sxy"
   ]
  },
  {
   "cell_type": "markdown",
   "id": "1f31a4bf-1b76-4c86-9908-240a8c0f7695",
   "metadata": {},
   "source": [
    "Finally determine $a,b$ as in class. Display the absolute errors between your calculations and the ones numpy returned. (They should be close to machine precision, which is $10^{-15}$ give or take."
   ]
  },
  {
   "cell_type": "code",
   "execution_count": 19,
   "id": "a8d66864-a956-494c-ae1c-df5885f67111",
   "metadata": {},
   "outputs": [
    {
     "data": {
      "text/plain": [
       "(825, 2301.649831260892, 2678.6282715100897)"
      ]
     },
     "execution_count": 19,
     "metadata": {},
     "output_type": "execute_result"
    }
   ],
   "source": [
    "D = n * Sxx - Sx * Sx\n",
    "D_a = n * Sxy - Sx * Sy\n",
    "D_b = Sxx * Sy - Sx * Sxy\n",
    "D, D_a, D_b"
   ]
  },
  {
   "cell_type": "code",
   "execution_count": 20,
   "id": "4dad392e-1ca6-4d7f-9ff5-b879e263d534",
   "metadata": {},
   "outputs": [
    {
     "data": {
      "text/plain": [
       "(2.789878583346536,\n",
       " np.float64(0.0),\n",
       " 3.246822147284957,\n",
       " np.float64(1.7763568394002505e-15))"
      ]
     },
     "execution_count": 20,
     "metadata": {},
     "output_type": "execute_result"
    }
   ],
   "source": [
    "a_calc = D_a / D\n",
    "b_calc = D_b / D\n",
    "a_calc, abs(a_calc - a), b_calc, abs(b_calc - b)"
   ]
  },
  {
   "cell_type": "markdown",
   "id": "b2c2cebf-0f1a-4640-b211-9d2077275a3c",
   "metadata": {},
   "source": [
    "## Least squares function"
   ]
  },
  {
   "cell_type": "markdown",
   "id": "97ff4d95-8ad3-483c-8e0e-c89b1f30f144",
   "metadata": {},
   "source": [
    "Did you know python can return two values? Here's an example."
   ]
  },
  {
   "cell_type": "code",
   "execution_count": 21,
   "id": "470e12f8-8352-4e2a-ab01-3de41effe597",
   "metadata": {},
   "outputs": [],
   "source": [
    "def two_numbers():\n",
    "    a = 1\n",
    "    b = 10\n",
    "    return a,b"
   ]
  },
  {
   "cell_type": "code",
   "execution_count": 22,
   "id": "2a4ff0ab-fb6a-40af-aabf-e4ecb3c2c14f",
   "metadata": {},
   "outputs": [
    {
     "name": "stdout",
     "output_type": "stream",
     "text": [
      "1 10\n"
     ]
    }
   ],
   "source": [
    "A, B = two_numbers()\n",
    "print(A,B)"
   ]
  },
  {
   "cell_type": "markdown",
   "id": "8c1d83a1-a24f-45ae-83a4-af13ba1411b3",
   "metadata": {},
   "source": [
    "Write a function `linear_least_squares(x,y)` which takes input vectors x,y and returns a,b as above. ("
   ]
  },
  {
   "cell_type": "code",
   "execution_count": 23,
   "id": "191f01f1-bcc8-485d-af44-85b68253bde5",
   "metadata": {},
   "outputs": [],
   "source": [
    "def linear_least_squares(x,y):\n",
    "    n = len(x)\n",
    "    Sx = sum(x)\n",
    "    Sy = sum(y)\n",
    "    Sxx = sum([i * i for i in x])\n",
    "    Syy = sum([i * i for i in y])\n",
    "    Sxy = sum([i * j for (i, j) in zip(x, y)])\n",
    "    D = n * Sxx - Sx * Sx\n",
    "    D_a = n * Sxy - Sx * Sy\n",
    "    D_b = Sxx * Sy - Sx * Sxy\n",
    "    return D_a/D, D_b/D"
   ]
  },
  {
   "cell_type": "markdown",
   "id": "02fa4d14-04fd-42a4-af45-974ae21836ed",
   "metadata": {},
   "source": [
    "## Application"
   ]
  },
  {
   "cell_type": "markdown",
   "id": "f92879c6-0feb-4a49-8d70-2198e5d7cf2b",
   "metadata": {},
   "source": [
    "Now, using $a=5, b =-15$, run linear least squares 100 times on 100 vector pairs $(x,y)$, where each of the 100 $x$ are the same but the $y=ax+b+\\epsilon$ each have different amounts of Gaussian noise.  Plot the resulting best fit lines all on the same graph.\n",
    "- Use `np.arange` to make your input vector $x$ cover the domain $[-5,5]$ with a step-size of 0.01\n",
    "- Create arrays to store all the computed a and b values (you'll use this later)\n",
    "- If you call `plt.plot()` in a loop, it will keep adding to the same plot\n",
    "- Give your plot a title!"
   ]
  },
  {
   "cell_type": "code",
   "execution_count": 24,
   "id": "c4c0bbb2-65f0-4e4d-b2ef-b8515bfc1e7c",
   "metadata": {},
   "outputs": [
    {
     "data": {
      "image/png": "[encoded data removed]",
      "text/plain": [
       "<Figure size 640x480 with 1 Axes>"
      ]
     },
     "metadata": {},
     "output_type": "display_data"
    }
   ],
   "source": [
    "import colorsys\n",
    "x_values = np.arange(-5, 5.01, 0.1)\n",
    "a_values = []\n",
    "b_values = []\n",
    "for _ in range(100):\n",
    "    y = [5 * i - 15 + np.random.normal(0, 1) for i in x_values]\n",
    "    a, b = linear_least_squares(x_values, y)\n",
    "    a_values.append(a)\n",
    "    b_values.append(b)\n",
    "    y_pred = [a * i + b for i in x_values]\n",
    "    plt.plot(x_values, y_pred, color=(colorsys.hsv_to_rgb(_/100, 1, 1)))\n",
    "plt.show()"
   ]
  },
  {
   "cell_type": "markdown",
   "id": "241ebc6d-9b71-49f1-833e-a6a131fd9f4b",
   "metadata": {},
   "source": [
    "Determine the average of the $a$s and $b$s returned above. Compare these to the true $a,b$. Explain your result.(There is an `np.mean` function)"
   ]
  },
  {
   "cell_type": "code",
   "execution_count": 25,
   "id": "544ff7c5-43db-43d4-a01a-58ab80f1b173",
   "metadata": {},
   "outputs": [
    {
     "data": {
      "text/plain": [
       "(np.float64(4.998079625017331),\n",
       " np.float64(-15.01328607685803),\n",
       " np.float64(0.008238895293327886),\n",
       " np.float64(0.038659365779937005))"
      ]
     },
     "execution_count": 25,
     "metadata": {},
     "output_type": "execute_result"
    }
   ],
   "source": [
    "_a = np.mean(a_values)\n",
    "_b = np.mean(b_values)\n",
    "_a, _b, abs(_a - a), abs(_b - b)"
   ]
  },
  {
   "cell_type": "markdown",
   "id": "48898989-c65d-46a1-b919-6173167b43a5",
   "metadata": {},
   "source": [
    "The average values are close, but not exactly, the true values of a and b. This is because of the random noise introduced by the epsilon function during data generation. The a value seems significantly closer to 5 than the b value is to -15 (around 0.002 vs 0.03). This is likely because of the slope of the line being a tighter restriction on the regression compared to the y-intercept"
   ]
  },
  {
   "cell_type": "markdown",
   "id": "7b843037-ae51-423f-a97d-4814f409d826",
   "metadata": {},
   "source": [
    "Make two histogram plots of the calculated $a$ and $b$ values `plt.hist` works nicely and adding a semicolon suppressed the nasty text output (you'll see)"
   ]
  },
  {
   "cell_type": "code",
   "execution_count": 26,
   "id": "717a2009-f251-44e0-8942-44338d88d840",
   "metadata": {},
   "outputs": [
    {
     "data": {
      "image/png": "[encoded data removed]",
      "text/plain": [
       "<Figure size 640x480 with 2 Axes>"
      ]
     },
     "metadata": {},
     "output_type": "display_data"
    }
   ],
   "source": [
    "fig, (aplot, bplot) = plt.subplots(1, 2)\n",
    "aplot.hist(a_values, color='r', label=\"a values\");\n",
    "aplot.legend()\n",
    "bplot.hist(b_values, color='g', label=\"b values\");\n",
    "bplot.legend()\n",
    "plt.show()"
   ]
  },
  {
   "cell_type": "code",
   "execution_count": null,
   "id": "3e92885b-eff5-452c-a365-2c82d692c29c",
   "metadata": {},
   "outputs": [],
   "source": []
  }
 ],
 "metadata": {
  "kernelspec": {
   "display_name": "Python 3 (ipykernel)",
   "language": "python",
   "name": "python3"
  },
  "language_info": {
   "codemirror_mode": {
    "name": "ipython",
    "version": 3
   },
   "file_extension": ".py",
   "mimetype": "text/x-python",
   "name": "python",
   "nbconvert_exporter": "python",
   "pygments_lexer": "ipython3",
   "version": "3.11.9"
  }
 },
 "nbformat": 4,
 "nbformat_minor": 5
}
