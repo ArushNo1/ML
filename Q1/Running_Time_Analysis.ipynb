{
 "cells": [
  {
   "cell_type": "markdown",
   "id": "cd0b0a73-c11c-4e44-bda0-d7ca8bb0dc4c",
   "metadata": {},
   "source": [
    "# Running Time Analysis"
   ]
  },
  {
   "cell_type": "markdown",
   "id": "6c225352-2fd4-4a87-ab48-526902f042f1",
   "metadata": {},
   "source": [
    "Use numpy and pandas for this lab. Download the csv file \"matrix_multiply_times.csv\" and put it in this folder"
   ]
  },
  {
   "cell_type": "code",
   "execution_count": 1,
   "id": "b372f7e2-8fc8-4753-90a5-2e87932a43fb",
   "metadata": {},
   "outputs": [
    {
     "name": "stdout",
     "output_type": "stream",
     "text": [
      "--2024-09-23 14:59:16--  https://aet-cs.github.io/white/ML/lessons/matrix_multiply_times.csv\n",
      "Resolving aet-cs.github.io (aet-cs.github.io)... 185.199.110.153, 185.199.111.153, 185.199.108.153, ...\n",
      "Connecting to aet-cs.github.io (aet-cs.github.io)|185.199.110.153|:443... connected.\n",
      "HTTP request sent, awaiting response... 200 OK\n",
      "Length: 897 [text/csv]\n",
      "Saving to: ‘matrix_multiply_times.csv’\n",
      "\n",
      "matrix_multiply_tim 100%[===================>]     897  --.-KB/s    in 0s      \n",
      "\n",
      "2024-09-23 14:59:16 (95.6 MB/s) - ‘matrix_multiply_times.csv’ saved [897/897]\n",
      "\n"
     ]
    }
   ],
   "source": [
    "!wget https://aet-cs.github.io/white/ML/lessons/matrix_multiply_times.csv"
   ]
  },
  {
   "cell_type": "markdown",
   "id": "d616a40f-2692-4da2-bf53-e3af5a80f7a1",
   "metadata": {},
   "source": [
    "Read the csv as a DataFrame and display it (`pd.read_csv` will help)"
   ]
  },
  {
   "cell_type": "code",
   "execution_count": 2,
   "id": "5ee0b4cc-1087-4acc-be36-391059a063e8",
   "metadata": {},
   "outputs": [],
   "source": [
    "import pandas as pd\n",
    "import numpy as np\n",
    "import matplotlib.pyplot as plt"
   ]
  },
  {
   "cell_type": "code",
   "execution_count": 3,
   "id": "a910cf54-82ec-4ea1-b7a6-9a50f8ffb963",
   "metadata": {},
   "outputs": [
    {
     "data": {
      "text/html": [
       "<div>\n",
       "<style scoped>\n",
       "    .dataframe tbody tr th:only-of-type {\n",
       "        vertical-align: middle;\n",
       "    }\n",
       "\n",
       "    .dataframe tbody tr th {\n",
       "        vertical-align: top;\n",
       "    }\n",
       "\n",
       "    .dataframe thead th {\n",
       "        text-align: right;\n",
       "    }\n",
       "</style>\n",
       "<table border=\"1\" class=\"dataframe\">\n",
       "  <thead>\n",
       "    <tr style=\"text-align: right;\">\n",
       "      <th></th>\n",
       "      <th>exp</th>\n",
       "      <th>Matrix row size</th>\n",
       "      <th>Strassen Time</th>\n",
       "      <th>Multiply Time</th>\n",
       "      <th>numpy Time</th>\n",
       "      <th>cpp times</th>\n",
       "    </tr>\n",
       "  </thead>\n",
       "  <tbody>\n",
       "    <tr>\n",
       "      <th>0</th>\n",
       "      <td>2</td>\n",
       "      <td>4</td>\n",
       "      <td>0.000138</td>\n",
       "      <td>0.000042</td>\n",
       "      <td>0.000010</td>\n",
       "      <td>0.000016</td>\n",
       "    </tr>\n",
       "    <tr>\n",
       "      <th>1</th>\n",
       "      <td>3</td>\n",
       "      <td>8</td>\n",
       "      <td>0.000655</td>\n",
       "      <td>0.000312</td>\n",
       "      <td>0.000022</td>\n",
       "      <td>0.000017</td>\n",
       "    </tr>\n",
       "    <tr>\n",
       "      <th>2</th>\n",
       "      <td>4</td>\n",
       "      <td>16</td>\n",
       "      <td>0.003158</td>\n",
       "      <td>0.001751</td>\n",
       "      <td>0.000007</td>\n",
       "      <td>0.000025</td>\n",
       "    </tr>\n",
       "    <tr>\n",
       "      <th>3</th>\n",
       "      <td>5</td>\n",
       "      <td>32</td>\n",
       "      <td>0.027272</td>\n",
       "      <td>0.015435</td>\n",
       "      <td>0.000041</td>\n",
       "      <td>0.000061</td>\n",
       "    </tr>\n",
       "    <tr>\n",
       "      <th>4</th>\n",
       "      <td>6</td>\n",
       "      <td>64</td>\n",
       "      <td>0.173862</td>\n",
       "      <td>0.112081</td>\n",
       "      <td>0.000281</td>\n",
       "      <td>0.000340</td>\n",
       "    </tr>\n",
       "    <tr>\n",
       "      <th>5</th>\n",
       "      <td>7</td>\n",
       "      <td>128</td>\n",
       "      <td>1.222298</td>\n",
       "      <td>0.816329</td>\n",
       "      <td>0.001731</td>\n",
       "      <td>0.001901</td>\n",
       "    </tr>\n",
       "    <tr>\n",
       "      <th>6</th>\n",
       "      <td>8</td>\n",
       "      <td>256</td>\n",
       "      <td>9.340878</td>\n",
       "      <td>6.623963</td>\n",
       "      <td>0.019976</td>\n",
       "      <td>0.013065</td>\n",
       "    </tr>\n",
       "    <tr>\n",
       "      <th>7</th>\n",
       "      <td>9</td>\n",
       "      <td>512</td>\n",
       "      <td>77.638901</td>\n",
       "      <td>55.539424</td>\n",
       "      <td>0.175177</td>\n",
       "      <td>0.095094</td>\n",
       "    </tr>\n",
       "    <tr>\n",
       "      <th>8</th>\n",
       "      <td>10</td>\n",
       "      <td>1024</td>\n",
       "      <td>436.458083</td>\n",
       "      <td>506.821904</td>\n",
       "      <td>2.175456</td>\n",
       "      <td>1.057194</td>\n",
       "    </tr>\n",
       "    <tr>\n",
       "      <th>9</th>\n",
       "      <td>11</td>\n",
       "      <td>2048</td>\n",
       "      <td>NaN</td>\n",
       "      <td>NaN</td>\n",
       "      <td>75.134066</td>\n",
       "      <td>13.453321</td>\n",
       "    </tr>\n",
       "    <tr>\n",
       "      <th>10</th>\n",
       "      <td>12</td>\n",
       "      <td>4096</td>\n",
       "      <td>NaN</td>\n",
       "      <td>NaN</td>\n",
       "      <td>635.705370</td>\n",
       "      <td>304.208021</td>\n",
       "    </tr>\n",
       "  </tbody>\n",
       "</table>\n",
       "</div>"
      ],
      "text/plain": [
       "    exp  Matrix row size  Strassen Time  Multiply Time  numpy Time   cpp times\n",
       "0     2                4       0.000138       0.000042    0.000010    0.000016\n",
       "1     3                8       0.000655       0.000312    0.000022    0.000017\n",
       "2     4               16       0.003158       0.001751    0.000007    0.000025\n",
       "3     5               32       0.027272       0.015435    0.000041    0.000061\n",
       "4     6               64       0.173862       0.112081    0.000281    0.000340\n",
       "5     7              128       1.222298       0.816329    0.001731    0.001901\n",
       "6     8              256       9.340878       6.623963    0.019976    0.013065\n",
       "7     9              512      77.638901      55.539424    0.175177    0.095094\n",
       "8    10             1024     436.458083     506.821904    2.175456    1.057194\n",
       "9    11             2048            NaN            NaN   75.134066   13.453321\n",
       "10   12             4096            NaN            NaN  635.705370  304.208021"
      ]
     },
     "execution_count": 3,
     "metadata": {},
     "output_type": "execute_result"
    }
   ],
   "source": [
    "df = pd.read_csv(\"data/matrix_multiply_times.csv\")\n",
    "df"
   ]
  },
  {
   "cell_type": "markdown",
   "id": "aba39b6c-6486-476c-b6a7-0113770c507a",
   "metadata": {},
   "source": [
    "Drop the column \"Matrix row size\" and save it as a *new* dataframe (I like to use the names df,df2,df3,etc as I do this kind of work) (read about `df.drop`)"
   ]
  },
  {
   "cell_type": "code",
   "execution_count": 4,
   "id": "ca8836d3-4ff5-46cc-89d4-26f9b8b202ce",
   "metadata": {},
   "outputs": [
    {
     "data": {
      "text/html": [
       "<div>\n",
       "<style scoped>\n",
       "    .dataframe tbody tr th:only-of-type {\n",
       "        vertical-align: middle;\n",
       "    }\n",
       "\n",
       "    .dataframe tbody tr th {\n",
       "        vertical-align: top;\n",
       "    }\n",
       "\n",
       "    .dataframe thead th {\n",
       "        text-align: right;\n",
       "    }\n",
       "</style>\n",
       "<table border=\"1\" class=\"dataframe\">\n",
       "  <thead>\n",
       "    <tr style=\"text-align: right;\">\n",
       "      <th></th>\n",
       "      <th>exp</th>\n",
       "      <th>Strassen Time</th>\n",
       "      <th>Multiply Time</th>\n",
       "      <th>numpy Time</th>\n",
       "      <th>cpp times</th>\n",
       "    </tr>\n",
       "  </thead>\n",
       "  <tbody>\n",
       "    <tr>\n",
       "      <th>0</th>\n",
       "      <td>2</td>\n",
       "      <td>0.000138</td>\n",
       "      <td>0.000042</td>\n",
       "      <td>0.000010</td>\n",
       "      <td>0.000016</td>\n",
       "    </tr>\n",
       "    <tr>\n",
       "      <th>1</th>\n",
       "      <td>3</td>\n",
       "      <td>0.000655</td>\n",
       "      <td>0.000312</td>\n",
       "      <td>0.000022</td>\n",
       "      <td>0.000017</td>\n",
       "    </tr>\n",
       "    <tr>\n",
       "      <th>2</th>\n",
       "      <td>4</td>\n",
       "      <td>0.003158</td>\n",
       "      <td>0.001751</td>\n",
       "      <td>0.000007</td>\n",
       "      <td>0.000025</td>\n",
       "    </tr>\n",
       "    <tr>\n",
       "      <th>3</th>\n",
       "      <td>5</td>\n",
       "      <td>0.027272</td>\n",
       "      <td>0.015435</td>\n",
       "      <td>0.000041</td>\n",
       "      <td>0.000061</td>\n",
       "    </tr>\n",
       "    <tr>\n",
       "      <th>4</th>\n",
       "      <td>6</td>\n",
       "      <td>0.173862</td>\n",
       "      <td>0.112081</td>\n",
       "      <td>0.000281</td>\n",
       "      <td>0.000340</td>\n",
       "    </tr>\n",
       "    <tr>\n",
       "      <th>5</th>\n",
       "      <td>7</td>\n",
       "      <td>1.222298</td>\n",
       "      <td>0.816329</td>\n",
       "      <td>0.001731</td>\n",
       "      <td>0.001901</td>\n",
       "    </tr>\n",
       "    <tr>\n",
       "      <th>6</th>\n",
       "      <td>8</td>\n",
       "      <td>9.340878</td>\n",
       "      <td>6.623963</td>\n",
       "      <td>0.019976</td>\n",
       "      <td>0.013065</td>\n",
       "    </tr>\n",
       "    <tr>\n",
       "      <th>7</th>\n",
       "      <td>9</td>\n",
       "      <td>77.638901</td>\n",
       "      <td>55.539424</td>\n",
       "      <td>0.175177</td>\n",
       "      <td>0.095094</td>\n",
       "    </tr>\n",
       "    <tr>\n",
       "      <th>8</th>\n",
       "      <td>10</td>\n",
       "      <td>436.458083</td>\n",
       "      <td>506.821904</td>\n",
       "      <td>2.175456</td>\n",
       "      <td>1.057194</td>\n",
       "    </tr>\n",
       "    <tr>\n",
       "      <th>9</th>\n",
       "      <td>11</td>\n",
       "      <td>NaN</td>\n",
       "      <td>NaN</td>\n",
       "      <td>75.134066</td>\n",
       "      <td>13.453321</td>\n",
       "    </tr>\n",
       "    <tr>\n",
       "      <th>10</th>\n",
       "      <td>12</td>\n",
       "      <td>NaN</td>\n",
       "      <td>NaN</td>\n",
       "      <td>635.705370</td>\n",
       "      <td>304.208021</td>\n",
       "    </tr>\n",
       "  </tbody>\n",
       "</table>\n",
       "</div>"
      ],
      "text/plain": [
       "    exp  Strassen Time  Multiply Time  numpy Time   cpp times\n",
       "0     2       0.000138       0.000042    0.000010    0.000016\n",
       "1     3       0.000655       0.000312    0.000022    0.000017\n",
       "2     4       0.003158       0.001751    0.000007    0.000025\n",
       "3     5       0.027272       0.015435    0.000041    0.000061\n",
       "4     6       0.173862       0.112081    0.000281    0.000340\n",
       "5     7       1.222298       0.816329    0.001731    0.001901\n",
       "6     8       9.340878       6.623963    0.019976    0.013065\n",
       "7     9      77.638901      55.539424    0.175177    0.095094\n",
       "8    10     436.458083     506.821904    2.175456    1.057194\n",
       "9    11            NaN            NaN   75.134066   13.453321\n",
       "10   12            NaN            NaN  635.705370  304.208021"
      ]
     },
     "execution_count": 4,
     "metadata": {},
     "output_type": "execute_result"
    }
   ],
   "source": [
    "df2 = df.drop(columns=[\"Matrix row size\"])\n",
    "df2"
   ]
  },
  {
   "cell_type": "markdown",
   "id": "f8614584-78a3-41c9-acc2-a48f34f18937",
   "metadata": {},
   "source": [
    "Plot the data frame data, `x` is the 'exp' column, the `y` values are the other columns (times in seconds). Use pandas e.g.\n",
    "```python\n",
    "df2.plot(...)\n",
    "```"
   ]
  },
  {
   "cell_type": "code",
   "execution_count": 5,
   "id": "a6dac9f3-8079-4de7-b77b-1420e3ec263f",
   "metadata": {},
   "outputs": [
    {
     "data": {
      "image/png": "[encoded data removed]",
      "text/plain": [
       "<Figure size 640x480 with 1 Axes>"
      ]
     },
     "metadata": {},
     "output_type": "display_data"
    }
   ],
   "source": [
    "df2.plot(x=\"exp\", y=[\"Strassen Time\", \"Multiply Time\", \"numpy Time\", \"cpp times\"]);"
   ]
  },
  {
   "cell_type": "markdown",
   "id": "1748bde3-908b-4c93-8247-67d28806ff1b",
   "metadata": {},
   "source": [
    "Add new columns that represent the log transformations of the existing time columns, because we want a log-log analysis eventually. Here's an example\n",
    "```python\n",
    "df2['strass_log'] = np.log(df['Strassen Time']) ## PLEASE use tab-completion for this!\n",
    "```\n",
    "Then *drop* the old (non-log) columns. Store the result in a *new* data frame that has only 5 columns (one 'exp' and four log-times)"
   ]
  },
  {
   "cell_type": "code",
   "execution_count": 6,
   "id": "6b1ef558-978c-49f6-b25c-bfc4b6a1994a",
   "metadata": {},
   "outputs": [
    {
     "data": {
      "text/html": [
       "<div>\n",
       "<style scoped>\n",
       "    .dataframe tbody tr th:only-of-type {\n",
       "        vertical-align: middle;\n",
       "    }\n",
       "\n",
       "    .dataframe tbody tr th {\n",
       "        vertical-align: top;\n",
       "    }\n",
       "\n",
       "    .dataframe thead th {\n",
       "        text-align: right;\n",
       "    }\n",
       "</style>\n",
       "<table border=\"1\" class=\"dataframe\">\n",
       "  <thead>\n",
       "    <tr style=\"text-align: right;\">\n",
       "      <th></th>\n",
       "      <th>exp</th>\n",
       "      <th>Strassen Time</th>\n",
       "      <th>Multiply Time</th>\n",
       "      <th>numpy Time</th>\n",
       "      <th>cpp times</th>\n",
       "      <th>strass_log</th>\n",
       "      <th>mult_log</th>\n",
       "      <th>numpy_log</th>\n",
       "      <th>cpp_log</th>\n",
       "    </tr>\n",
       "  </thead>\n",
       "  <tbody>\n",
       "    <tr>\n",
       "      <th>0</th>\n",
       "      <td>2</td>\n",
       "      <td>0.000138</td>\n",
       "      <td>0.000042</td>\n",
       "      <td>0.000010</td>\n",
       "      <td>0.000016</td>\n",
       "      <td>-8.891552</td>\n",
       "      <td>-10.082389</td>\n",
       "      <td>-11.509302</td>\n",
       "      <td>-11.040494</td>\n",
       "    </tr>\n",
       "    <tr>\n",
       "      <th>1</th>\n",
       "      <td>3</td>\n",
       "      <td>0.000655</td>\n",
       "      <td>0.000312</td>\n",
       "      <td>0.000022</td>\n",
       "      <td>0.000017</td>\n",
       "      <td>-7.330355</td>\n",
       "      <td>-8.072213</td>\n",
       "      <td>-10.723776</td>\n",
       "      <td>-10.960029</td>\n",
       "    </tr>\n",
       "    <tr>\n",
       "      <th>2</th>\n",
       "      <td>4</td>\n",
       "      <td>0.003158</td>\n",
       "      <td>0.001751</td>\n",
       "      <td>0.000007</td>\n",
       "      <td>0.000025</td>\n",
       "      <td>-5.757700</td>\n",
       "      <td>-6.347397</td>\n",
       "      <td>-11.848063</td>\n",
       "      <td>-10.592706</td>\n",
       "    </tr>\n",
       "    <tr>\n",
       "      <th>3</th>\n",
       "      <td>5</td>\n",
       "      <td>0.027272</td>\n",
       "      <td>0.015435</td>\n",
       "      <td>0.000041</td>\n",
       "      <td>0.000061</td>\n",
       "      <td>-3.601894</td>\n",
       "      <td>-4.171087</td>\n",
       "      <td>-10.089983</td>\n",
       "      <td>-9.697773</td>\n",
       "    </tr>\n",
       "    <tr>\n",
       "      <th>4</th>\n",
       "      <td>6</td>\n",
       "      <td>0.173862</td>\n",
       "      <td>0.112081</td>\n",
       "      <td>0.000281</td>\n",
       "      <td>0.000340</td>\n",
       "      <td>-1.749492</td>\n",
       "      <td>-2.188531</td>\n",
       "      <td>-8.176565</td>\n",
       "      <td>-7.986275</td>\n",
       "    </tr>\n",
       "    <tr>\n",
       "      <th>5</th>\n",
       "      <td>7</td>\n",
       "      <td>1.222298</td>\n",
       "      <td>0.816329</td>\n",
       "      <td>0.001731</td>\n",
       "      <td>0.001901</td>\n",
       "      <td>0.200733</td>\n",
       "      <td>-0.202938</td>\n",
       "      <td>-6.359166</td>\n",
       "      <td>-6.265571</td>\n",
       "    </tr>\n",
       "    <tr>\n",
       "      <th>6</th>\n",
       "      <td>8</td>\n",
       "      <td>9.340878</td>\n",
       "      <td>6.623963</td>\n",
       "      <td>0.019976</td>\n",
       "      <td>0.013065</td>\n",
       "      <td>2.234400</td>\n",
       "      <td>1.890694</td>\n",
       "      <td>-3.913216</td>\n",
       "      <td>-4.337811</td>\n",
       "    </tr>\n",
       "    <tr>\n",
       "      <th>7</th>\n",
       "      <td>9</td>\n",
       "      <td>77.638901</td>\n",
       "      <td>55.539424</td>\n",
       "      <td>0.175177</td>\n",
       "      <td>0.095094</td>\n",
       "      <td>4.352069</td>\n",
       "      <td>4.017093</td>\n",
       "      <td>-1.741956</td>\n",
       "      <td>-2.352892</td>\n",
       "    </tr>\n",
       "    <tr>\n",
       "      <th>8</th>\n",
       "      <td>10</td>\n",
       "      <td>436.458083</td>\n",
       "      <td>506.821904</td>\n",
       "      <td>2.175456</td>\n",
       "      <td>1.057194</td>\n",
       "      <td>6.078692</td>\n",
       "      <td>6.228160</td>\n",
       "      <td>0.777238</td>\n",
       "      <td>0.055618</td>\n",
       "    </tr>\n",
       "    <tr>\n",
       "      <th>9</th>\n",
       "      <td>11</td>\n",
       "      <td>NaN</td>\n",
       "      <td>NaN</td>\n",
       "      <td>75.134066</td>\n",
       "      <td>13.453321</td>\n",
       "      <td>NaN</td>\n",
       "      <td>NaN</td>\n",
       "      <td>4.319274</td>\n",
       "      <td>2.599226</td>\n",
       "    </tr>\n",
       "    <tr>\n",
       "      <th>10</th>\n",
       "      <td>12</td>\n",
       "      <td>NaN</td>\n",
       "      <td>NaN</td>\n",
       "      <td>635.705370</td>\n",
       "      <td>304.208021</td>\n",
       "      <td>NaN</td>\n",
       "      <td>NaN</td>\n",
       "      <td>6.454735</td>\n",
       "      <td>5.717712</td>\n",
       "    </tr>\n",
       "  </tbody>\n",
       "</table>\n",
       "</div>"
      ],
      "text/plain": [
       "    exp  Strassen Time  Multiply Time  numpy Time   cpp times  strass_log  \\\n",
       "0     2       0.000138       0.000042    0.000010    0.000016   -8.891552   \n",
       "1     3       0.000655       0.000312    0.000022    0.000017   -7.330355   \n",
       "2     4       0.003158       0.001751    0.000007    0.000025   -5.757700   \n",
       "3     5       0.027272       0.015435    0.000041    0.000061   -3.601894   \n",
       "4     6       0.173862       0.112081    0.000281    0.000340   -1.749492   \n",
       "5     7       1.222298       0.816329    0.001731    0.001901    0.200733   \n",
       "6     8       9.340878       6.623963    0.019976    0.013065    2.234400   \n",
       "7     9      77.638901      55.539424    0.175177    0.095094    4.352069   \n",
       "8    10     436.458083     506.821904    2.175456    1.057194    6.078692   \n",
       "9    11            NaN            NaN   75.134066   13.453321         NaN   \n",
       "10   12            NaN            NaN  635.705370  304.208021         NaN   \n",
       "\n",
       "     mult_log  numpy_log    cpp_log  \n",
       "0  -10.082389 -11.509302 -11.040494  \n",
       "1   -8.072213 -10.723776 -10.960029  \n",
       "2   -6.347397 -11.848063 -10.592706  \n",
       "3   -4.171087 -10.089983  -9.697773  \n",
       "4   -2.188531  -8.176565  -7.986275  \n",
       "5   -0.202938  -6.359166  -6.265571  \n",
       "6    1.890694  -3.913216  -4.337811  \n",
       "7    4.017093  -1.741956  -2.352892  \n",
       "8    6.228160   0.777238   0.055618  \n",
       "9         NaN   4.319274   2.599226  \n",
       "10        NaN   6.454735   5.717712  "
      ]
     },
     "execution_count": 6,
     "metadata": {},
     "output_type": "execute_result"
    }
   ],
   "source": [
    "df2['strass_log'] = np.log(df['Strassen Time'])\n",
    "df2['mult_log'] = np.log(df['Multiply Time'])\n",
    "df2['numpy_log'] = np.log(df['numpy Time'])\n",
    "df2['cpp_log'] = np.log(df['cpp times'])\n",
    "df2"
   ]
  },
  {
   "cell_type": "code",
   "execution_count": 7,
   "id": "ead51061-9630-4d19-8049-1ed9a7383323",
   "metadata": {},
   "outputs": [
    {
     "data": {
      "text/html": [
       "<div>\n",
       "<style scoped>\n",
       "    .dataframe tbody tr th:only-of-type {\n",
       "        vertical-align: middle;\n",
       "    }\n",
       "\n",
       "    .dataframe tbody tr th {\n",
       "        vertical-align: top;\n",
       "    }\n",
       "\n",
       "    .dataframe thead th {\n",
       "        text-align: right;\n",
       "    }\n",
       "</style>\n",
       "<table border=\"1\" class=\"dataframe\">\n",
       "  <thead>\n",
       "    <tr style=\"text-align: right;\">\n",
       "      <th></th>\n",
       "      <th>exp</th>\n",
       "      <th>strass_log</th>\n",
       "      <th>mult_log</th>\n",
       "      <th>numpy_log</th>\n",
       "      <th>cpp_log</th>\n",
       "    </tr>\n",
       "  </thead>\n",
       "  <tbody>\n",
       "    <tr>\n",
       "      <th>0</th>\n",
       "      <td>2</td>\n",
       "      <td>-8.891552</td>\n",
       "      <td>-10.082389</td>\n",
       "      <td>-11.509302</td>\n",
       "      <td>-11.040494</td>\n",
       "    </tr>\n",
       "    <tr>\n",
       "      <th>1</th>\n",
       "      <td>3</td>\n",
       "      <td>-7.330355</td>\n",
       "      <td>-8.072213</td>\n",
       "      <td>-10.723776</td>\n",
       "      <td>-10.960029</td>\n",
       "    </tr>\n",
       "    <tr>\n",
       "      <th>2</th>\n",
       "      <td>4</td>\n",
       "      <td>-5.757700</td>\n",
       "      <td>-6.347397</td>\n",
       "      <td>-11.848063</td>\n",
       "      <td>-10.592706</td>\n",
       "    </tr>\n",
       "    <tr>\n",
       "      <th>3</th>\n",
       "      <td>5</td>\n",
       "      <td>-3.601894</td>\n",
       "      <td>-4.171087</td>\n",
       "      <td>-10.089983</td>\n",
       "      <td>-9.697773</td>\n",
       "    </tr>\n",
       "    <tr>\n",
       "      <th>4</th>\n",
       "      <td>6</td>\n",
       "      <td>-1.749492</td>\n",
       "      <td>-2.188531</td>\n",
       "      <td>-8.176565</td>\n",
       "      <td>-7.986275</td>\n",
       "    </tr>\n",
       "    <tr>\n",
       "      <th>5</th>\n",
       "      <td>7</td>\n",
       "      <td>0.200733</td>\n",
       "      <td>-0.202938</td>\n",
       "      <td>-6.359166</td>\n",
       "      <td>-6.265571</td>\n",
       "    </tr>\n",
       "    <tr>\n",
       "      <th>6</th>\n",
       "      <td>8</td>\n",
       "      <td>2.234400</td>\n",
       "      <td>1.890694</td>\n",
       "      <td>-3.913216</td>\n",
       "      <td>-4.337811</td>\n",
       "    </tr>\n",
       "    <tr>\n",
       "      <th>7</th>\n",
       "      <td>9</td>\n",
       "      <td>4.352069</td>\n",
       "      <td>4.017093</td>\n",
       "      <td>-1.741956</td>\n",
       "      <td>-2.352892</td>\n",
       "    </tr>\n",
       "    <tr>\n",
       "      <th>8</th>\n",
       "      <td>10</td>\n",
       "      <td>6.078692</td>\n",
       "      <td>6.228160</td>\n",
       "      <td>0.777238</td>\n",
       "      <td>0.055618</td>\n",
       "    </tr>\n",
       "    <tr>\n",
       "      <th>9</th>\n",
       "      <td>11</td>\n",
       "      <td>NaN</td>\n",
       "      <td>NaN</td>\n",
       "      <td>4.319274</td>\n",
       "      <td>2.599226</td>\n",
       "    </tr>\n",
       "    <tr>\n",
       "      <th>10</th>\n",
       "      <td>12</td>\n",
       "      <td>NaN</td>\n",
       "      <td>NaN</td>\n",
       "      <td>6.454735</td>\n",
       "      <td>5.717712</td>\n",
       "    </tr>\n",
       "  </tbody>\n",
       "</table>\n",
       "</div>"
      ],
      "text/plain": [
       "    exp  strass_log   mult_log  numpy_log    cpp_log\n",
       "0     2   -8.891552 -10.082389 -11.509302 -11.040494\n",
       "1     3   -7.330355  -8.072213 -10.723776 -10.960029\n",
       "2     4   -5.757700  -6.347397 -11.848063 -10.592706\n",
       "3     5   -3.601894  -4.171087 -10.089983  -9.697773\n",
       "4     6   -1.749492  -2.188531  -8.176565  -7.986275\n",
       "5     7    0.200733  -0.202938  -6.359166  -6.265571\n",
       "6     8    2.234400   1.890694  -3.913216  -4.337811\n",
       "7     9    4.352069   4.017093  -1.741956  -2.352892\n",
       "8    10    6.078692   6.228160   0.777238   0.055618\n",
       "9    11         NaN        NaN   4.319274   2.599226\n",
       "10   12         NaN        NaN   6.454735   5.717712"
      ]
     },
     "execution_count": 7,
     "metadata": {},
     "output_type": "execute_result"
    }
   ],
   "source": [
    "df3 = df2.drop(columns=['Strassen Time', 'Multiply Time', 'numpy Time', 'cpp times'])\n",
    "df3"
   ]
  },
  {
   "cell_type": "markdown",
   "id": "5784b499-9058-4b57-9acc-1cd1334fbd13",
   "metadata": {},
   "source": [
    "Plot the new dataframe line plots: x vs. log-times"
   ]
  },
  {
   "cell_type": "code",
   "execution_count": 8,
   "id": "dab45f07-1840-43fa-97ee-a0fa35143f30",
   "metadata": {},
   "outputs": [
    {
     "data": {
      "image/png": "[encoded data removed]",
      "text/plain": [
       "<Figure size 640x480 with 1 Axes>"
      ]
     },
     "metadata": {},
     "output_type": "display_data"
    }
   ],
   "source": [
    "df3.plot(x='exp', y=['strass_log', 'mult_log', 'numpy_log', 'cpp_log']);"
   ]
  },
  {
   "cell_type": "markdown",
   "id": "b85f343d-54c9-497f-8c7d-7719242fc9b4",
   "metadata": {},
   "source": [
    "Now we want to do a log-log regression. You will need numpy. Luckily pandas and numpy play nicely together. For example you could say\n",
    "```python\n",
    "df = #some dataframe\n",
    "x = df['x']\n",
    "y = df['y']\n",
    "coeffs = np.polyfit(x,y,1)\n",
    "```\n",
    "And you can even add in things like\n",
    "```python\n",
    "y = np.log(y)\n",
    "x = 2**x\n",
    "x = x**2\n",
    "y = y + np.sqrt(y)\n",
    "```\n",
    "for example\n",
    "\n",
    "Do the log-log regressions and print out a table in this format\n",
    "```\n",
    "   algorithm name, rate of growth (degree), corrcoeff\n",
    "```\n",
    "Recall you can get corrcoeff from\n",
    "```python\n",
    "np.corrcoeff(x,y)[0,1]\n",
    "```\n"
   ]
  },
  {
   "cell_type": "code",
   "execution_count": 9,
   "id": "3afdb7d5-0624-40e7-9be4-c005e688dd95",
   "metadata": {},
   "outputs": [],
   "source": [
    "names = ['Strassen', 'Multiply', 'Numpy', 'Cpp']\n",
    "algs = ['strass', 'mult', 'numpy', 'cpp']\n",
    "degrees = []\n",
    "coefs = []\n",
    "df3['row_log'] = np.log(2 ** df3['exp'])\n",
    "\n",
    "for name in algs:\n",
    "    dftemp = df3[df3[f'{name}_log'].notnull()]\n",
    "    k, c = np.polyfit(dftemp['row_log'], dftemp[f'{name}_log'], 1)\n",
    "    degrees.append(str(float('%.4g' % k)))\n",
    "    coefs.append(str(float('%.5g' % np.corrcoef(dftemp['row_log'], dftemp[f'{name}_log'])[0, 1])))\n",
    "\n",
    "tabletext = np.array([names, degrees, coefs]).T"
   ]
  },
  {
   "cell_type": "code",
   "execution_count": 10,
   "id": "f075bbfb-fc45-464d-b8a1-a19d3c49c9b3",
   "metadata": {},
   "outputs": [
    {
     "data": {
      "image/png": "[encoded data removed]",
      "text/plain": [
       "<Figure size 640x480 with 1 Axes>"
      ]
     },
     "metadata": {},
     "output_type": "display_data"
    }
   ],
   "source": [
    "fig, ax = plt.subplots()\n",
    "fig.tight_layout()\n",
    "ax.axis('off')\n",
    "ax.set_title(\"Comparison of matrix algorithms\", y=0.85)\n",
    "\n",
    "table = ax.table(tabletext, colLabels=['Algorithm', 'Growth Order', 'Correlation Coef'], loc='center', bbox=[0, .2, 1, 0.6])\n",
    "table.auto_set_font_size(False)\n",
    "table.set_fontsize(12)\n",
    "plt.show()"
   ]
  },
  {
   "cell_type": "markdown",
   "id": "dce73752-9b4c-4347-b185-af11518cb726",
   "metadata": {},
   "source": [
    "You should notice some problems in your results, and the problems will depend on what you did above. What did you expect and how does it compare to what you got? Now your \n",
    "job is to fix it. Here are some things to consider\n",
    "*  Some regression may not even work because it doesn't like the data\n",
    "*  Are the units of your \"x\" column in the regression correct? (They should be log of the row length)\n",
    "*  What base are you using with the logs and are you consistent?\n",
    "*  Small values of $n$ might be skewing the data. Filter them out (see below)\n",
    "*  Rows with NA value are also problematic. Drop them judiciously\n",
    "*  Make sure you understand how to interpret the regression equations and numpy results\n",
    "\n",
    "Work through the Pandas filtering tricks section and then do your analysis afterwards."
   ]
  },
  {
   "cell_type": "markdown",
   "id": "8c0272d0-e2b4-4851-8729-d20fae643d3d",
   "metadata": {},
   "source": [
    "## Pandas filtering tricks"
   ]
  },
  {
   "cell_type": "code",
   "execution_count": 11,
   "id": "7ae6640f-f561-4986-ba75-1280ef9e0c4a",
   "metadata": {},
   "outputs": [],
   "source": [
    "import pandas as pd\n",
    "import numpy as np"
   ]
  },
  {
   "cell_type": "code",
   "execution_count": 12,
   "id": "bbc42a9b-e692-40c1-8fac-11868d7bc10c",
   "metadata": {},
   "outputs": [
    {
     "name": "stderr",
     "output_type": "stream",
     "text": [
      "/home/arush/.asdf/installs/python/3.11.9/lib/python3.11/site-packages/pandas/core/arraylike.py:399: RuntimeWarning: divide by zero encountered in log2\n",
      "  result = getattr(ufunc, method)(*inputs, **kwargs)\n"
     ]
    }
   ],
   "source": [
    "df = pd.DataFrame({'x': [1,2,3,10,20,-10,np.nan], 'y':[5,4,3,4,1,0,9]})\n",
    "df['log_y'] = np.log2(df['y']);"
   ]
  },
  {
   "cell_type": "code",
   "execution_count": 13,
   "id": "2a7d2cd0-d58a-4234-9480-017aae7a031a",
   "metadata": {},
   "outputs": [
    {
     "data": {
      "text/html": [
       "<div>\n",
       "<style scoped>\n",
       "    .dataframe tbody tr th:only-of-type {\n",
       "        vertical-align: middle;\n",
       "    }\n",
       "\n",
       "    .dataframe tbody tr th {\n",
       "        vertical-align: top;\n",
       "    }\n",
       "\n",
       "    .dataframe thead th {\n",
       "        text-align: right;\n",
       "    }\n",
       "</style>\n",
       "<table border=\"1\" class=\"dataframe\">\n",
       "  <thead>\n",
       "    <tr style=\"text-align: right;\">\n",
       "      <th></th>\n",
       "      <th>x</th>\n",
       "      <th>y</th>\n",
       "      <th>log_y</th>\n",
       "    </tr>\n",
       "  </thead>\n",
       "  <tbody>\n",
       "    <tr>\n",
       "      <th>0</th>\n",
       "      <td>1.0</td>\n",
       "      <td>5</td>\n",
       "      <td>2.321928</td>\n",
       "    </tr>\n",
       "    <tr>\n",
       "      <th>1</th>\n",
       "      <td>2.0</td>\n",
       "      <td>4</td>\n",
       "      <td>2.000000</td>\n",
       "    </tr>\n",
       "    <tr>\n",
       "      <th>2</th>\n",
       "      <td>3.0</td>\n",
       "      <td>3</td>\n",
       "      <td>1.584963</td>\n",
       "    </tr>\n",
       "    <tr>\n",
       "      <th>3</th>\n",
       "      <td>10.0</td>\n",
       "      <td>4</td>\n",
       "      <td>2.000000</td>\n",
       "    </tr>\n",
       "    <tr>\n",
       "      <th>4</th>\n",
       "      <td>20.0</td>\n",
       "      <td>1</td>\n",
       "      <td>0.000000</td>\n",
       "    </tr>\n",
       "    <tr>\n",
       "      <th>5</th>\n",
       "      <td>-10.0</td>\n",
       "      <td>0</td>\n",
       "      <td>-inf</td>\n",
       "    </tr>\n",
       "    <tr>\n",
       "      <th>6</th>\n",
       "      <td>NaN</td>\n",
       "      <td>9</td>\n",
       "      <td>3.169925</td>\n",
       "    </tr>\n",
       "  </tbody>\n",
       "</table>\n",
       "</div>"
      ],
      "text/plain": [
       "      x  y     log_y\n",
       "0   1.0  5  2.321928\n",
       "1   2.0  4  2.000000\n",
       "2   3.0  3  1.584963\n",
       "3  10.0  4  2.000000\n",
       "4  20.0  1  0.000000\n",
       "5 -10.0  0      -inf\n",
       "6   NaN  9  3.169925"
      ]
     },
     "execution_count": 13,
     "metadata": {},
     "output_type": "execute_result"
    }
   ],
   "source": [
    "df"
   ]
  },
  {
   "cell_type": "markdown",
   "id": "96c9099e-05d5-49e0-8926-3fd1274de008",
   "metadata": {},
   "source": [
    "You can index columns by boolean comparisons"
   ]
  },
  {
   "cell_type": "code",
   "execution_count": 14,
   "id": "aa608327-4b79-4f79-bf12-59181f9b6f82",
   "metadata": {},
   "outputs": [
    {
     "data": {
      "text/html": [
       "<div>\n",
       "<style scoped>\n",
       "    .dataframe tbody tr th:only-of-type {\n",
       "        vertical-align: middle;\n",
       "    }\n",
       "\n",
       "    .dataframe tbody tr th {\n",
       "        vertical-align: top;\n",
       "    }\n",
       "\n",
       "    .dataframe thead th {\n",
       "        text-align: right;\n",
       "    }\n",
       "</style>\n",
       "<table border=\"1\" class=\"dataframe\">\n",
       "  <thead>\n",
       "    <tr style=\"text-align: right;\">\n",
       "      <th></th>\n",
       "      <th>x</th>\n",
       "      <th>y</th>\n",
       "      <th>log_y</th>\n",
       "    </tr>\n",
       "  </thead>\n",
       "  <tbody>\n",
       "    <tr>\n",
       "      <th>3</th>\n",
       "      <td>10.0</td>\n",
       "      <td>4</td>\n",
       "      <td>2.0</td>\n",
       "    </tr>\n",
       "    <tr>\n",
       "      <th>4</th>\n",
       "      <td>20.0</td>\n",
       "      <td>1</td>\n",
       "      <td>0.0</td>\n",
       "    </tr>\n",
       "  </tbody>\n",
       "</table>\n",
       "</div>"
      ],
      "text/plain": [
       "      x  y  log_y\n",
       "3  10.0  4    2.0\n",
       "4  20.0  1    0.0"
      ]
     },
     "execution_count": 14,
     "metadata": {},
     "output_type": "execute_result"
    }
   ],
   "source": [
    "df[df.x>5]"
   ]
  },
  {
   "cell_type": "markdown",
   "id": "93590e4b-5b32-4ec4-9ec9-3695fa363c32",
   "metadata": {},
   "source": [
    "This just returns a list of T/F values"
   ]
  },
  {
   "cell_type": "code",
   "execution_count": 15,
   "id": "52e2d2c8-a89b-48f9-a50e-fb02e3f751ff",
   "metadata": {},
   "outputs": [
    {
     "data": {
      "text/plain": [
       "0    False\n",
       "1    False\n",
       "2    False\n",
       "3     True\n",
       "4     True\n",
       "5    False\n",
       "6    False\n",
       "Name: x, dtype: bool"
      ]
     },
     "execution_count": 15,
     "metadata": {},
     "output_type": "execute_result"
    }
   ],
   "source": [
    "df.x>5"
   ]
  },
  {
   "cell_type": "markdown",
   "id": "0cbb341f-e7f0-4b6b-ab02-0708556cd057",
   "metadata": {},
   "source": [
    "Here's a different syntax"
   ]
  },
  {
   "cell_type": "code",
   "execution_count": 16,
   "id": "086e642b-835b-4ff4-bd4a-b79ad4485b5f",
   "metadata": {},
   "outputs": [
    {
     "data": {
      "text/plain": [
       "0     True\n",
       "1     True\n",
       "2     True\n",
       "3    False\n",
       "4    False\n",
       "5     True\n",
       "6    False\n",
       "Name: x, dtype: bool"
      ]
     },
     "execution_count": 16,
     "metadata": {},
     "output_type": "execute_result"
    }
   ],
   "source": [
    "df['x']<5"
   ]
  },
  {
   "cell_type": "code",
   "execution_count": 17,
   "id": "6548d9e2-9e1d-48a8-a3f1-f7b1305bfc65",
   "metadata": {},
   "outputs": [
    {
     "data": {
      "text/plain": [
       "0    False\n",
       "1    False\n",
       "2    False\n",
       "3    False\n",
       "4    False\n",
       "5     True\n",
       "6    False\n",
       "Name: log_y, dtype: bool"
      ]
     },
     "execution_count": 17,
     "metadata": {},
     "output_type": "execute_result"
    }
   ],
   "source": [
    "df['log_y']==-np.inf"
   ]
  },
  {
   "cell_type": "markdown",
   "id": "6fd835db-db80-4816-b28c-c22661202428",
   "metadata": {},
   "source": [
    "Boolean 'not' is `~` in pandas"
   ]
  },
  {
   "cell_type": "code",
   "execution_count": 18,
   "id": "a04bdf7f-3318-4073-91e8-27f61a5cdb7f",
   "metadata": {},
   "outputs": [
    {
     "data": {
      "text/html": [
       "<div>\n",
       "<style scoped>\n",
       "    .dataframe tbody tr th:only-of-type {\n",
       "        vertical-align: middle;\n",
       "    }\n",
       "\n",
       "    .dataframe tbody tr th {\n",
       "        vertical-align: top;\n",
       "    }\n",
       "\n",
       "    .dataframe thead th {\n",
       "        text-align: right;\n",
       "    }\n",
       "</style>\n",
       "<table border=\"1\" class=\"dataframe\">\n",
       "  <thead>\n",
       "    <tr style=\"text-align: right;\">\n",
       "      <th></th>\n",
       "      <th>x</th>\n",
       "      <th>y</th>\n",
       "      <th>log_y</th>\n",
       "    </tr>\n",
       "  </thead>\n",
       "  <tbody>\n",
       "    <tr>\n",
       "      <th>0</th>\n",
       "      <td>1.0</td>\n",
       "      <td>5</td>\n",
       "      <td>2.321928</td>\n",
       "    </tr>\n",
       "    <tr>\n",
       "      <th>1</th>\n",
       "      <td>2.0</td>\n",
       "      <td>4</td>\n",
       "      <td>2.000000</td>\n",
       "    </tr>\n",
       "    <tr>\n",
       "      <th>2</th>\n",
       "      <td>3.0</td>\n",
       "      <td>3</td>\n",
       "      <td>1.584963</td>\n",
       "    </tr>\n",
       "    <tr>\n",
       "      <th>3</th>\n",
       "      <td>10.0</td>\n",
       "      <td>4</td>\n",
       "      <td>2.000000</td>\n",
       "    </tr>\n",
       "    <tr>\n",
       "      <th>4</th>\n",
       "      <td>20.0</td>\n",
       "      <td>1</td>\n",
       "      <td>0.000000</td>\n",
       "    </tr>\n",
       "    <tr>\n",
       "      <th>6</th>\n",
       "      <td>NaN</td>\n",
       "      <td>9</td>\n",
       "      <td>3.169925</td>\n",
       "    </tr>\n",
       "  </tbody>\n",
       "</table>\n",
       "</div>"
      ],
      "text/plain": [
       "      x  y     log_y\n",
       "0   1.0  5  2.321928\n",
       "1   2.0  4  2.000000\n",
       "2   3.0  3  1.584963\n",
       "3  10.0  4  2.000000\n",
       "4  20.0  1  0.000000\n",
       "6   NaN  9  3.169925"
      ]
     },
     "execution_count": 18,
     "metadata": {},
     "output_type": "execute_result"
    }
   ],
   "source": [
    "df[~(df['log_y']==-np.inf)]"
   ]
  },
  {
   "cell_type": "code",
   "execution_count": 19,
   "id": "8efeca4e-65e8-491b-b52d-5679d1bc2ef9",
   "metadata": {},
   "outputs": [
    {
     "data": {
      "text/html": [
       "<div>\n",
       "<style scoped>\n",
       "    .dataframe tbody tr th:only-of-type {\n",
       "        vertical-align: middle;\n",
       "    }\n",
       "\n",
       "    .dataframe tbody tr th {\n",
       "        vertical-align: top;\n",
       "    }\n",
       "\n",
       "    .dataframe thead th {\n",
       "        text-align: right;\n",
       "    }\n",
       "</style>\n",
       "<table border=\"1\" class=\"dataframe\">\n",
       "  <thead>\n",
       "    <tr style=\"text-align: right;\">\n",
       "      <th></th>\n",
       "      <th>x</th>\n",
       "      <th>y</th>\n",
       "      <th>log_y</th>\n",
       "    </tr>\n",
       "  </thead>\n",
       "  <tbody>\n",
       "    <tr>\n",
       "      <th>0</th>\n",
       "      <td>1.0</td>\n",
       "      <td>5</td>\n",
       "      <td>2.321928</td>\n",
       "    </tr>\n",
       "    <tr>\n",
       "      <th>1</th>\n",
       "      <td>2.0</td>\n",
       "      <td>4</td>\n",
       "      <td>2.000000</td>\n",
       "    </tr>\n",
       "    <tr>\n",
       "      <th>2</th>\n",
       "      <td>3.0</td>\n",
       "      <td>3</td>\n",
       "      <td>1.584963</td>\n",
       "    </tr>\n",
       "    <tr>\n",
       "      <th>3</th>\n",
       "      <td>10.0</td>\n",
       "      <td>4</td>\n",
       "      <td>2.000000</td>\n",
       "    </tr>\n",
       "    <tr>\n",
       "      <th>4</th>\n",
       "      <td>20.0</td>\n",
       "      <td>1</td>\n",
       "      <td>0.000000</td>\n",
       "    </tr>\n",
       "    <tr>\n",
       "      <th>5</th>\n",
       "      <td>-10.0</td>\n",
       "      <td>0</td>\n",
       "      <td>-inf</td>\n",
       "    </tr>\n",
       "  </tbody>\n",
       "</table>\n",
       "</div>"
      ],
      "text/plain": [
       "      x  y     log_y\n",
       "0   1.0  5  2.321928\n",
       "1   2.0  4  2.000000\n",
       "2   3.0  3  1.584963\n",
       "3  10.0  4  2.000000\n",
       "4  20.0  1  0.000000\n",
       "5 -10.0  0      -inf"
      ]
     },
     "execution_count": 19,
     "metadata": {},
     "output_type": "execute_result"
    }
   ],
   "source": [
    "df[~df['x'].isna()]"
   ]
  },
  {
   "cell_type": "markdown",
   "id": "ed905518-e52a-420e-bbc3-c928d5945735",
   "metadata": {},
   "source": [
    "## Analysis"
   ]
  },
  {
   "cell_type": "markdown",
   "id": "948740ba-c65c-4f5b-a402-c9625751d8c1",
   "metadata": {},
   "source": [
    "Complete your final analysis here of the 4 running times by using techniques you have learned in this notebook. Print out your final table the the running time comparisons, based on your best justifiable arguments"
   ]
  },
  {
   "cell_type": "code",
   "execution_count": 20,
   "id": "1e40fc26-6f00-4914-b450-1990b86f5da7",
   "metadata": {},
   "outputs": [
    {
     "name": "stdout",
     "output_type": "stream",
     "text": [
      "    exp  strass_log  mult_log  numpy_log   cpp_log   row_log\n",
      "4     6   -1.749492 -2.188531  -8.176565 -7.986275  4.158883\n",
      "5     7    0.200733 -0.202938  -6.359166 -6.265571  4.852030\n",
      "6     8    2.234400  1.890694  -3.913216 -4.337811  5.545177\n",
      "7     9    4.352069  4.017093  -1.741956 -2.352892  6.238325\n",
      "8    10    6.078692  6.228160   0.777238  0.055618  6.931472\n",
      "9    11         NaN       NaN   4.319274  2.599226  7.624619\n",
      "10   12         NaN       NaN   6.454735  5.717712  8.317766\n"
     ]
    },
    {
     "data": {
      "image/png": "[encoded data removed]",
      "text/plain": [
       "<Figure size 640x480 with 1 Axes>"
      ]
     },
     "metadata": {},
     "output_type": "display_data"
    }
   ],
   "source": [
    "names = ['Strassen', 'Multiply', 'Numpy', 'Cpp']\n",
    "algs = ['strass', 'mult', 'numpy', 'cpp']\n",
    "degrees = []\n",
    "coefs = []\n",
    "df3['row_log'] = np.log(2 ** df3['exp'])\n",
    "\n",
    "df4 = df3.tail(7)\n",
    "print(df4)\n",
    "for name in algs:\n",
    "    dftemp = df4[df4[f'{name}_log'].notnull()]\n",
    "    k, c = np.polyfit(dftemp['row_log'], dftemp[f'{name}_log'], 1)\n",
    "    degrees.append(str(float('%.4g' % k)))\n",
    "    coefs.append(str(float('%.5g' % np.corrcoef(dftemp['row_log'], dftemp[f'{name}_log'])[0, 1])))\n",
    "\n",
    "tabletext = np.array([names, degrees, coefs]).T\n",
    "\n",
    "fig, ax = plt.subplots()\n",
    "fig.tight_layout()\n",
    "ax.axis('off')\n",
    "ax.set_title(\"Comparison of matrix algorithms\", y=0.85)\n",
    "\n",
    "table = ax.table(tabletext, colLabels=['Algorithm', 'Growth Order', 'Correlation Coef'], loc='center', bbox=[0, .2, 1, 0.6])\n",
    "table.auto_set_font_size(False)\n",
    "table.set_fontsize(12)\n",
    "plt.show()"
   ]
  },
  {
   "cell_type": "code",
   "execution_count": null,
   "id": "d4f9f43a-67af-44a5-afac-bd4cf2ad1026",
   "metadata": {},
   "outputs": [],
   "source": []
  },
  {
   "cell_type": "code",
   "execution_count": null,
   "id": "bc6f3423-203d-48c8-96ce-fc5b068b68f3",
   "metadata": {},
   "outputs": [],
   "source": []
  },
  {
   "cell_type": "code",
   "execution_count": null,
   "id": "64a19739-ea1e-4365-9c8f-3b28938b0b00",
   "metadata": {},
   "outputs": [],
   "source": []
  },
  {
   "cell_type": "code",
   "execution_count": null,
   "id": "f641e770-5c1e-43cc-a85e-e30477cf438f",
   "metadata": {},
   "outputs": [],
   "source": []
  }
 ],
 "metadata": {
  "kernelspec": {
   "display_name": "Python 3 (ipykernel)",
   "language": "python",
   "name": "python3"
  },
  "language_info": {
   "codemirror_mode": {
    "name": "ipython",
    "version": 3
   },
   "file_extension": ".py",
   "mimetype": "text/x-python",
   "name": "python",
   "nbconvert_exporter": "python",
   "pygments_lexer": "ipython3",
   "version": "3.11.9"
  }
 },
 "nbformat": 4,
 "nbformat_minor": 5
}
