{
 "cells": [
  {
   "cell_type": "markdown",
   "metadata": {},
   "source": [
    "# 2D Motion with Drag\n",
    "Arush Bodla  \n",
    "Block 2 AP Physics C"
   ]
  },
  {
   "cell_type": "code",
   "execution_count": 1,
   "metadata": {},
   "outputs": [],
   "source": [
    "import numpy as np\n",
    "import matplotlib.pyplot as plt\n",
    "from scipy.integrate import solve_ivp"
   ]
  },
  {
   "cell_type": "markdown",
   "metadata": {},
   "source": [
    "My situation is Pranav kicking a soccer ball across the field to score a goal.   \n",
    "Here are the different initial values:"
   ]
  },
  {
   "cell_type": "code",
   "execution_count": 2,
   "metadata": {},
   "outputs": [],
   "source": [
    "# Projectile info: Drag Coefficient (Cd), Radius (r), Mass (m), Cross Sectional Area (A)\n",
    "Cd = 0.5\n",
    "r = 0.11\n",
    "A = np.pi * r**2\n",
    "m = 0.5\n",
    "\n",
    "# Environment info: Air Density (rho_air), Gravity (g)\n",
    "rho_air = 1.28\n",
    "g = 9.81\n"
   ]
  },
  {
   "cell_type": "markdown",
   "metadata": {},
   "source": [
    "\n",
    "$F_d = \\frac{1}{2}\\rho_a C_d A v^2 = bv^2$  \n",
    "&nbsp;&nbsp;&nbsp;&nbsp;&nbsp;&nbsp;&nbsp;&nbsp;&nbsp;&nbsp;&nbsp;$\\frac{1}{2}\\rho_a C_d A v^2 = bv^2$  \n",
    "  \n",
    "&nbsp;&nbsp;&nbsp;$b = \\frac{1}{2} \\rho_a C_d A$\n"
   ]
  },
  {
   "cell_type": "code",
   "execution_count": 3,
   "metadata": {},
   "outputs": [],
   "source": [
    "b = 0.5 * Cd * A * rho_air\n",
    "\n",
    "v0 = 25\n",
    "theta = np.pi / 4"
   ]
  },
  {
   "cell_type": "code",
   "execution_count": 4,
   "metadata": {},
   "outputs": [],
   "source": [
    "def deriv(t, u):\n",
    "    x, vx, y, vy = u\n",
    "    speed = np.sqrt(vx**2 + vy**2)\n",
    "    ax = -b/m * speed * vx\n",
    "    ay = -b/m * speed * vy - g\n",
    "    return vx, ax, vy, ay"
   ]
  },
  {
   "cell_type": "code",
   "execution_count": 5,
   "metadata": {},
   "outputs": [],
   "source": [
    "# Initial Conditions\n",
    "u0 = 0, v0 * np.cos(theta), 0, v0 * np.sin(theta)\n",
    "\n",
    "#Time span\n",
    "t0 = 0\n",
    "tf = 10"
   ]
  },
  {
   "cell_type": "code",
   "execution_count": 6,
   "metadata": {},
   "outputs": [],
   "source": [
    "def hit_target(t, u):\n",
    "    return u[2]\n",
    "\n",
    "hit_target.terminal = True\n",
    "hit_target.direction = -1"
   ]
  },
  {
   "cell_type": "code",
   "execution_count": 7,
   "metadata": {},
   "outputs": [],
   "source": [
    "def max_height(t, u):\n",
    "    return u[3]"
   ]
  },
  {
   "cell_type": "code",
   "execution_count": 8,
   "metadata": {},
   "outputs": [],
   "source": [
    "solution = solve_ivp(deriv, [t0, tf], u0, dense_output=True, events=[hit_target, max_height])"
   ]
  },
  {
   "cell_type": "code",
   "execution_count": 9,
   "metadata": {},
   "outputs": [],
   "source": [
    "t = ((2 * v0) * np.sin(theta)) / g\n",
    "t1 = np.linspace(0, t, 1000)\n",
    "\n",
    "xnd = v0 * np.cos(theta) * t1\n",
    "ynd = v0 * np.sin(theta) * t1 - 0.5 * g * t1**2"
   ]
  },
  {
   "cell_type": "code",
   "execution_count": 10,
   "metadata": {},
   "outputs": [
    {
     "name": "stdout",
     "output_type": "stream",
     "text": [
      "  message: A termination event occurred.\n",
      "  success: True\n",
      "   status: 1\n",
      "        t: [ 0.000e+00  5.657e-05  6.222e-04  6.279e-03  6.284e-02\n",
      "             5.604e-01  1.396e+00  2.762e+00  2.885e+00]\n",
      "        y: [[ 0.000e+00  9.999e-04 ...  3.040e+01  3.126e+01]\n",
      "            [ 1.768e+01  1.768e+01 ...  7.154e+00  6.867e+00]\n",
      "            [ 0.000e+00  9.999e-04 ...  1.449e+00 -1.998e-15]\n",
      "            [ 1.768e+01  1.768e+01 ... -1.150e+01 -1.221e+01]]\n",
      "      sol: <scipy.integrate._ivp.common.OdeSolution object at 0x7f63d226c310>\n",
      " t_events: [array([ 2.885e+00]), array([ 1.330e+00])]\n",
      " y_events: [array([[ 3.126e+01,  6.867e+00, -1.998e-15, -1.221e+01]]), array([[ 1.773e+01,  1.061e+01,  1.032e+01,  1.776e-15]])]\n",
      "     nfev: 56\n",
      "     njev: 0\n",
      "      nlu: 0\n"
     ]
    }
   ],
   "source": [
    "print(solution)"
   ]
  },
  {
   "cell_type": "code",
   "execution_count": 14,
   "metadata": {},
   "outputs": [
    {
     "name": "stdout",
     "output_type": "stream",
     "text": [
      "Time to target: 3.60 s\n",
      "Time to max height: 1.33 s\n"
     ]
    }
   ],
   "source": [
    "print(f'Time to target: {t:.2f} s')\n",
    "print(f'Time to max height: {solution.t_events[1][0]:.2f} s')"
   ]
  },
  {
   "cell_type": "code",
   "execution_count": null,
   "metadata": {},
   "outputs": [],
   "source": [
    "T = np.linspace(0, solution.t_evevents[0][0], 1000)\n"
   ]
  }
 ],
 "metadata": {
  "kernelspec": {
   "display_name": "env",
   "language": "python",
   "name": "python3"
  },
  "language_info": {
   "codemirror_mode": {
    "name": "ipython",
    "version": 3
   },
   "file_extension": ".py",
   "mimetype": "text/x-python",
   "name": "python",
   "nbconvert_exporter": "python",
   "pygments_lexer": "ipython3",
   "version": "3.11.9"
  }
 },
 "nbformat": 4,
 "nbformat_minor": 2
}
