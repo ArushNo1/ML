{
 "cells": [
  {
   "cell_type": "markdown",
   "metadata": {},
   "source": [
    "# Predicting Bach Chorales"
   ]
  },
  {
   "cell_type": "markdown",
   "metadata": {},
   "source": [
    "### Data Extraction"
   ]
  },
  {
   "cell_type": "code",
   "execution_count": 64,
   "metadata": {},
   "outputs": [],
   "source": [
    "import tensorflow as tf\n",
    "from tensorflow import keras\n",
    "from tensorflow.keras import layers\n",
    "from tensorflow.keras.models import Sequential\n",
    "from tensorflow.keras.layers import *\n",
    "from tensorflow.keras.layers import Reshape\n"
   ]
  },
  {
   "cell_type": "code",
   "execution_count": 22,
   "metadata": {},
   "outputs": [],
   "source": [
    "import pandas as pd\n",
    "import pickle\n",
    "import numpy as np\n",
    "import os\n",
    "import sys\n",
    "from sklearn.model_selection import train_test_split"
   ]
  },
  {
   "cell_type": "code",
   "execution_count": null,
   "metadata": {},
   "outputs": [],
   "source": [
    "data_root = \"data/\"\n",
    "def get_data(first=False):\n",
    "    df = pd.DataFrame()\n",
    "    if not first:\n",
    "        df = pickle.load(open(data_root + \"bach.pkl\", \"rb\"))\n",
    "        return df\n",
    "    folders = [\"test\", \"train\", \"valid\"]\n",
    "    for folder in folders:\n",
    "        for file in os.listdir(data_root + \"jsb_chorales/\" + folder):\n",
    "            if file.endswith(\".csv\"):\n",
    "                df = pd.concat([df, pd.read_csv(data_root + \"jsb_chorales/\" + folder + \"/\" + file)])\n",
    "    pickle.dump(df, open(data_root + \"bach.pkl\", \"wb\"))\n",
    "    return df\n",
    "\n",
    "window_size = 48\n",
    "def get_Xy(df):\n",
    "    # 48 time steps, y: 49th\n",
    "    X = []\n",
    "    y = []\n",
    "    for i in range(len(df) - window_size):\n",
    "        X.append(df.iloc[i:i+window_size].values)\n",
    "        y.append(df.iloc[i+window_size].values)\n",
    "    return np.array(X), np.array(y)"
   ]
  },
  {
   "cell_type": "code",
   "execution_count": 31,
   "metadata": {},
   "outputs": [],
   "source": [
    "df = get_data(True)\n",
    "X, y = get_Xy(df)"
   ]
  },
  {
   "cell_type": "code",
   "execution_count": 32,
   "metadata": {},
   "outputs": [
    {
     "data": {
      "text/plain": [
       "((92488, 48, 4), (92488, 4))"
      ]
     },
     "execution_count": 32,
     "metadata": {},
     "output_type": "execute_result"
    }
   ],
   "source": [
    "X.shape, y.shape"
   ]
  },
  {
   "cell_type": "code",
   "execution_count": 33,
   "metadata": {},
   "outputs": [
    {
     "data": {
      "text/plain": [
       "((73990, 48, 4), (73990, 4), (18498, 48, 4), (18498, 4))"
      ]
     },
     "execution_count": 33,
     "metadata": {},
     "output_type": "execute_result"
    }
   ],
   "source": [
    "X_train, X_test, y_train, y_test = train_test_split(X, y, test_size=0.2, random_state=42)\n",
    "X_train.shape, y_train.shape, X_test.shape, y_test.shape"
   ]
  },
  {
   "cell_type": "code",
   "execution_count": null,
   "metadata": {},
   "outputs": [],
   "source": [
    "X_train = X_train.reshape(X_train.shape[0], X_train.shape[1], X_train.shape[2])\n",
    "X_test = X_test.reshape(X_test.shape[0], X_test.shape[1], X_test.shape[2])\n",
    "\n",
    "y_train = y_train.reshape(y_train.shape[0], y_train.shape[1], 1)\n",
    "y_test = y_test.reshape(y_test.shape[0], y_test.shape[1], 1)"
   ]
  },
  {
   "cell_type": "code",
   "execution_count": 86,
   "metadata": {},
   "outputs": [
    {
     "data": {
      "text/plain": [
       "array([[69, 66, 61, 54],\n",
       "       [71, 68, 62, 47],\n",
       "       [71, 68, 62, 47],\n",
       "       [71, 68, 62, 47],\n",
       "       [71, 68, 62, 47],\n",
       "       [68, 65, 61, 49],\n",
       "       [68, 65, 61, 49],\n",
       "       [68, 65, 61, 49],\n",
       "       [68, 65, 61, 49],\n",
       "       [68, 65, 61, 49],\n",
       "       [68, 65, 61, 49],\n",
       "       [68, 65, 61, 49],\n",
       "       [68, 65, 61, 49],\n",
       "       [69, 66, 61, 54],\n",
       "       [69, 66, 61, 54],\n",
       "       [69, 66, 61, 54],\n",
       "       [69, 66, 61, 54],\n",
       "       [71, 68, 64, 52],\n",
       "       [71, 68, 64, 52],\n",
       "       [71, 68, 64, 52],\n",
       "       [71, 68, 64, 52],\n",
       "       [73, 69, 64, 57],\n",
       "       [73, 69, 64, 57],\n",
       "       [73, 69, 64, 57],\n",
       "       [73, 69, 64, 57],\n",
       "       [71, 64, 64, 56],\n",
       "       [71, 64, 64, 56],\n",
       "       [73, 64, 64, 56],\n",
       "       [73, 64, 64, 56],\n",
       "       [74, 69, 62, 54],\n",
       "       [74, 69, 62, 54],\n",
       "       [74, 69, 62, 54],\n",
       "       [74, 69, 62, 54],\n",
       "       [73, 69, 64, 52],\n",
       "       [73, 69, 64, 52],\n",
       "       [73, 69, 64, 52],\n",
       "       [73, 69, 64, 52],\n",
       "       [71, 69, 66, 50],\n",
       "       [71, 69, 66, 50],\n",
       "       [71, 69, 66, 50],\n",
       "       [71, 69, 66, 50],\n",
       "       [71, 68, 64, 52],\n",
       "       [71, 68, 64, 52],\n",
       "       [71, 68, 62, 52],\n",
       "       [71, 68, 62, 52],\n",
       "       [69, 64, 61, 45],\n",
       "       [69, 64, 61, 45],\n",
       "       [69, 64, 61, 45]])"
      ]
     },
     "execution_count": 86,
     "metadata": {},
     "output_type": "execute_result"
    }
   ],
   "source": [
    "X_train[0]"
   ]
  },
  {
   "cell_type": "code",
   "execution_count": 68,
   "metadata": {},
   "outputs": [],
   "source": [
    "model = Sequential([\n",
    "    Input(shape=(48, 4)),\n",
    "    GRU(256, return_sequences=True),\n",
    "    GRU(256, return_sequences=False), \n",
    "    Dense(4), \n",
    "])"
   ]
  },
  {
   "cell_type": "code",
   "execution_count": 69,
   "metadata": {},
   "outputs": [
    {
     "data": {
      "text/html": [
       "<pre style=\"white-space:pre;overflow-x:auto;line-height:normal;font-family:Menlo,'DejaVu Sans Mono',consolas,'Courier New',monospace\"><span style=\"font-weight: bold\">Model: \"sequential_6\"</span>\n",
       "</pre>\n"
      ],
      "text/plain": [
       "\u001b[1mModel: \"sequential_6\"\u001b[0m\n"
      ]
     },
     "metadata": {},
     "output_type": "display_data"
    },
    {
     "data": {
      "text/html": [
       "<pre style=\"white-space:pre;overflow-x:auto;line-height:normal;font-family:Menlo,'DejaVu Sans Mono',consolas,'Courier New',monospace\">┏━━━━━━━━━━━━━━━━━━━━━━━━━━━━━━━━━┳━━━━━━━━━━━━━━━━━━━━━━━━┳━━━━━━━━━━━━━━━┓\n",
       "┃<span style=\"font-weight: bold\"> Layer (type)                    </span>┃<span style=\"font-weight: bold\"> Output Shape           </span>┃<span style=\"font-weight: bold\">       Param # </span>┃\n",
       "┡━━━━━━━━━━━━━━━━━━━━━━━━━━━━━━━━━╇━━━━━━━━━━━━━━━━━━━━━━━━╇━━━━━━━━━━━━━━━┩\n",
       "│ gru_12 (<span style=\"color: #0087ff; text-decoration-color: #0087ff\">GRU</span>)                    │ (<span style=\"color: #00d7ff; text-decoration-color: #00d7ff\">None</span>, <span style=\"color: #00af00; text-decoration-color: #00af00\">48</span>, <span style=\"color: #00af00; text-decoration-color: #00af00\">256</span>)        │       <span style=\"color: #00af00; text-decoration-color: #00af00\">201,216</span> │\n",
       "├─────────────────────────────────┼────────────────────────┼───────────────┤\n",
       "│ gru_13 (<span style=\"color: #0087ff; text-decoration-color: #0087ff\">GRU</span>)                    │ (<span style=\"color: #00d7ff; text-decoration-color: #00d7ff\">None</span>, <span style=\"color: #00af00; text-decoration-color: #00af00\">256</span>)            │       <span style=\"color: #00af00; text-decoration-color: #00af00\">394,752</span> │\n",
       "├─────────────────────────────────┼────────────────────────┼───────────────┤\n",
       "│ dense_6 (<span style=\"color: #0087ff; text-decoration-color: #0087ff\">Dense</span>)                 │ (<span style=\"color: #00d7ff; text-decoration-color: #00d7ff\">None</span>, <span style=\"color: #00af00; text-decoration-color: #00af00\">4</span>)              │         <span style=\"color: #00af00; text-decoration-color: #00af00\">1,028</span> │\n",
       "└─────────────────────────────────┴────────────────────────┴───────────────┘\n",
       "</pre>\n"
      ],
      "text/plain": [
       "┏━━━━━━━━━━━━━━━━━━━━━━━━━━━━━━━━━┳━━━━━━━━━━━━━━━━━━━━━━━━┳━━━━━━━━━━━━━━━┓\n",
       "┃\u001b[1m \u001b[0m\u001b[1mLayer (type)                   \u001b[0m\u001b[1m \u001b[0m┃\u001b[1m \u001b[0m\u001b[1mOutput Shape          \u001b[0m\u001b[1m \u001b[0m┃\u001b[1m \u001b[0m\u001b[1m      Param #\u001b[0m\u001b[1m \u001b[0m┃\n",
       "┡━━━━━━━━━━━━━━━━━━━━━━━━━━━━━━━━━╇━━━━━━━━━━━━━━━━━━━━━━━━╇━━━━━━━━━━━━━━━┩\n",
       "│ gru_12 (\u001b[38;5;33mGRU\u001b[0m)                    │ (\u001b[38;5;45mNone\u001b[0m, \u001b[38;5;34m48\u001b[0m, \u001b[38;5;34m256\u001b[0m)        │       \u001b[38;5;34m201,216\u001b[0m │\n",
       "├─────────────────────────────────┼────────────────────────┼───────────────┤\n",
       "│ gru_13 (\u001b[38;5;33mGRU\u001b[0m)                    │ (\u001b[38;5;45mNone\u001b[0m, \u001b[38;5;34m256\u001b[0m)            │       \u001b[38;5;34m394,752\u001b[0m │\n",
       "├─────────────────────────────────┼────────────────────────┼───────────────┤\n",
       "│ dense_6 (\u001b[38;5;33mDense\u001b[0m)                 │ (\u001b[38;5;45mNone\u001b[0m, \u001b[38;5;34m4\u001b[0m)              │         \u001b[38;5;34m1,028\u001b[0m │\n",
       "└─────────────────────────────────┴────────────────────────┴───────────────┘\n"
      ]
     },
     "metadata": {},
     "output_type": "display_data"
    },
    {
     "data": {
      "text/html": [
       "<pre style=\"white-space:pre;overflow-x:auto;line-height:normal;font-family:Menlo,'DejaVu Sans Mono',consolas,'Courier New',monospace\"><span style=\"font-weight: bold\"> Total params: </span><span style=\"color: #00af00; text-decoration-color: #00af00\">596,996</span> (2.28 MB)\n",
       "</pre>\n"
      ],
      "text/plain": [
       "\u001b[1m Total params: \u001b[0m\u001b[38;5;34m596,996\u001b[0m (2.28 MB)\n"
      ]
     },
     "metadata": {},
     "output_type": "display_data"
    },
    {
     "data": {
      "text/html": [
       "<pre style=\"white-space:pre;overflow-x:auto;line-height:normal;font-family:Menlo,'DejaVu Sans Mono',consolas,'Courier New',monospace\"><span style=\"font-weight: bold\"> Trainable params: </span><span style=\"color: #00af00; text-decoration-color: #00af00\">596,996</span> (2.28 MB)\n",
       "</pre>\n"
      ],
      "text/plain": [
       "\u001b[1m Trainable params: \u001b[0m\u001b[38;5;34m596,996\u001b[0m (2.28 MB)\n"
      ]
     },
     "metadata": {},
     "output_type": "display_data"
    },
    {
     "data": {
      "text/html": [
       "<pre style=\"white-space:pre;overflow-x:auto;line-height:normal;font-family:Menlo,'DejaVu Sans Mono',consolas,'Courier New',monospace\"><span style=\"font-weight: bold\"> Non-trainable params: </span><span style=\"color: #00af00; text-decoration-color: #00af00\">0</span> (0.00 B)\n",
       "</pre>\n"
      ],
      "text/plain": [
       "\u001b[1m Non-trainable params: \u001b[0m\u001b[38;5;34m0\u001b[0m (0.00 B)\n"
      ]
     },
     "metadata": {},
     "output_type": "display_data"
    }
   ],
   "source": [
    "model.summary()"
   ]
  },
  {
   "cell_type": "code",
   "execution_count": 87,
   "metadata": {},
   "outputs": [
    {
     "name": "stdout",
     "output_type": "stream",
     "text": [
      "\u001b[1m356/463\u001b[0m \u001b[32m━━━━━━━━━━━━━━━\u001b[0m\u001b[37m━━━━━\u001b[0m \u001b[1m10s\u001b[0m 99ms/step - accuracy: 0.0033 - loss: 8.2309"
     ]
    },
    {
     "ename": "KeyboardInterrupt",
     "evalue": "",
     "output_type": "error",
     "traceback": [
      "\u001b[0;31m---------------------------------------------------------------------------\u001b[0m",
      "\u001b[0;31mKeyboardInterrupt\u001b[0m                         Traceback (most recent call last)",
      "Cell \u001b[0;32mIn[87], line 2\u001b[0m\n\u001b[1;32m      1\u001b[0m model\u001b[38;5;241m.\u001b[39mcompile(optimizer\u001b[38;5;241m=\u001b[39m\u001b[38;5;124m'\u001b[39m\u001b[38;5;124madam\u001b[39m\u001b[38;5;124m'\u001b[39m, loss\u001b[38;5;241m=\u001b[39m\u001b[38;5;124m'\u001b[39m\u001b[38;5;124mmse\u001b[39m\u001b[38;5;124m'\u001b[39m, metrics\u001b[38;5;241m=\u001b[39m[\u001b[38;5;124m'\u001b[39m\u001b[38;5;124maccuracy\u001b[39m\u001b[38;5;124m'\u001b[39m])\n\u001b[0;32m----> 2\u001b[0m history \u001b[38;5;241m=\u001b[39m \u001b[43mmodel\u001b[49m\u001b[38;5;241;43m.\u001b[39;49m\u001b[43mfit\u001b[49m\u001b[43m(\u001b[49m\u001b[43mX_train\u001b[49m\u001b[43m,\u001b[49m\u001b[43m \u001b[49m\u001b[43my_train\u001b[49m\u001b[43m,\u001b[49m\u001b[43m \u001b[49m\u001b[43mepochs\u001b[49m\u001b[38;5;241;43m=\u001b[39;49m\u001b[38;5;241;43m1\u001b[39;49m\u001b[43m,\u001b[49m\u001b[43m \u001b[49m\u001b[43mbatch_size\u001b[49m\u001b[38;5;241;43m=\u001b[39;49m\u001b[38;5;241;43m128\u001b[39;49m\u001b[43m,\u001b[49m\u001b[43m \u001b[49m\u001b[43mvalidation_split\u001b[49m\u001b[38;5;241;43m=\u001b[39;49m\u001b[38;5;241;43m0.2\u001b[39;49m\u001b[43m)\u001b[49m\n",
      "File \u001b[0;32m~/ML/tf-env/lib/python3.11/site-packages/keras/src/utils/traceback_utils.py:117\u001b[0m, in \u001b[0;36mfilter_traceback.<locals>.error_handler\u001b[0;34m(*args, **kwargs)\u001b[0m\n\u001b[1;32m    115\u001b[0m filtered_tb \u001b[38;5;241m=\u001b[39m \u001b[38;5;28;01mNone\u001b[39;00m\n\u001b[1;32m    116\u001b[0m \u001b[38;5;28;01mtry\u001b[39;00m:\n\u001b[0;32m--> 117\u001b[0m     \u001b[38;5;28;01mreturn\u001b[39;00m \u001b[43mfn\u001b[49m\u001b[43m(\u001b[49m\u001b[38;5;241;43m*\u001b[39;49m\u001b[43margs\u001b[49m\u001b[43m,\u001b[49m\u001b[43m \u001b[49m\u001b[38;5;241;43m*\u001b[39;49m\u001b[38;5;241;43m*\u001b[39;49m\u001b[43mkwargs\u001b[49m\u001b[43m)\u001b[49m\n\u001b[1;32m    118\u001b[0m \u001b[38;5;28;01mexcept\u001b[39;00m \u001b[38;5;167;01mException\u001b[39;00m \u001b[38;5;28;01mas\u001b[39;00m e:\n\u001b[1;32m    119\u001b[0m     filtered_tb \u001b[38;5;241m=\u001b[39m _process_traceback_frames(e\u001b[38;5;241m.\u001b[39m__traceback__)\n",
      "File \u001b[0;32m~/ML/tf-env/lib/python3.11/site-packages/keras/src/backend/tensorflow/trainer.py:371\u001b[0m, in \u001b[0;36mTensorFlowTrainer.fit\u001b[0;34m(self, x, y, batch_size, epochs, verbose, callbacks, validation_split, validation_data, shuffle, class_weight, sample_weight, initial_epoch, steps_per_epoch, validation_steps, validation_batch_size, validation_freq)\u001b[0m\n\u001b[1;32m    369\u001b[0m \u001b[38;5;28;01mfor\u001b[39;00m step, iterator \u001b[38;5;129;01min\u001b[39;00m epoch_iterator:\n\u001b[1;32m    370\u001b[0m     callbacks\u001b[38;5;241m.\u001b[39mon_train_batch_begin(step)\n\u001b[0;32m--> 371\u001b[0m     logs \u001b[38;5;241m=\u001b[39m \u001b[38;5;28;43mself\u001b[39;49m\u001b[38;5;241;43m.\u001b[39;49m\u001b[43mtrain_function\u001b[49m\u001b[43m(\u001b[49m\u001b[43miterator\u001b[49m\u001b[43m)\u001b[49m\n\u001b[1;32m    372\u001b[0m     callbacks\u001b[38;5;241m.\u001b[39mon_train_batch_end(step, logs)\n\u001b[1;32m    373\u001b[0m     \u001b[38;5;28;01mif\u001b[39;00m \u001b[38;5;28mself\u001b[39m\u001b[38;5;241m.\u001b[39mstop_training:\n",
      "File \u001b[0;32m~/ML/tf-env/lib/python3.11/site-packages/keras/src/backend/tensorflow/trainer.py:220\u001b[0m, in \u001b[0;36mTensorFlowTrainer._make_function.<locals>.function\u001b[0;34m(iterator)\u001b[0m\n\u001b[1;32m    216\u001b[0m \u001b[38;5;28;01mif\u001b[39;00m \u001b[38;5;28misinstance\u001b[39m(\n\u001b[1;32m    217\u001b[0m     iterator, (tf\u001b[38;5;241m.\u001b[39mdata\u001b[38;5;241m.\u001b[39mIterator, tf\u001b[38;5;241m.\u001b[39mdistribute\u001b[38;5;241m.\u001b[39mDistributedIterator)\n\u001b[1;32m    218\u001b[0m ):\n\u001b[1;32m    219\u001b[0m     opt_outputs \u001b[38;5;241m=\u001b[39m multi_step_on_iterator(iterator)\n\u001b[0;32m--> 220\u001b[0m     \u001b[38;5;28;01mif\u001b[39;00m \u001b[38;5;129;01mnot\u001b[39;00m \u001b[43mopt_outputs\u001b[49m\u001b[38;5;241;43m.\u001b[39;49m\u001b[43mhas_value\u001b[49m\u001b[43m(\u001b[49m\u001b[43m)\u001b[49m:\n\u001b[1;32m    221\u001b[0m         \u001b[38;5;28;01mraise\u001b[39;00m \u001b[38;5;167;01mStopIteration\u001b[39;00m\n\u001b[1;32m    222\u001b[0m     \u001b[38;5;28;01mreturn\u001b[39;00m opt_outputs\u001b[38;5;241m.\u001b[39mget_value()\n",
      "File \u001b[0;32m~/ML/tf-env/lib/python3.11/site-packages/tensorflow/python/data/ops/optional_ops.py:176\u001b[0m, in \u001b[0;36m_OptionalImpl.has_value\u001b[0;34m(self, name)\u001b[0m\n\u001b[1;32m    174\u001b[0m \u001b[38;5;28;01mdef\u001b[39;00m\u001b[38;5;250m \u001b[39m\u001b[38;5;21mhas_value\u001b[39m(\u001b[38;5;28mself\u001b[39m, name\u001b[38;5;241m=\u001b[39m\u001b[38;5;28;01mNone\u001b[39;00m):\n\u001b[1;32m    175\u001b[0m   \u001b[38;5;28;01mwith\u001b[39;00m ops\u001b[38;5;241m.\u001b[39mcolocate_with(\u001b[38;5;28mself\u001b[39m\u001b[38;5;241m.\u001b[39m_variant_tensor):\n\u001b[0;32m--> 176\u001b[0m     \u001b[38;5;28;01mreturn\u001b[39;00m \u001b[43mgen_optional_ops\u001b[49m\u001b[38;5;241;43m.\u001b[39;49m\u001b[43moptional_has_value\u001b[49m\u001b[43m(\u001b[49m\n\u001b[1;32m    177\u001b[0m \u001b[43m        \u001b[49m\u001b[38;5;28;43mself\u001b[39;49m\u001b[38;5;241;43m.\u001b[39;49m\u001b[43m_variant_tensor\u001b[49m\u001b[43m,\u001b[49m\u001b[43m \u001b[49m\u001b[43mname\u001b[49m\u001b[38;5;241;43m=\u001b[39;49m\u001b[43mname\u001b[49m\n\u001b[1;32m    178\u001b[0m \u001b[43m    \u001b[49m\u001b[43m)\u001b[49m\n",
      "File \u001b[0;32m~/ML/tf-env/lib/python3.11/site-packages/tensorflow/python/ops/gen_optional_ops.py:172\u001b[0m, in \u001b[0;36moptional_has_value\u001b[0;34m(optional, name)\u001b[0m\n\u001b[1;32m    170\u001b[0m \u001b[38;5;28;01mif\u001b[39;00m tld\u001b[38;5;241m.\u001b[39mis_eager:\n\u001b[1;32m    171\u001b[0m   \u001b[38;5;28;01mtry\u001b[39;00m:\n\u001b[0;32m--> 172\u001b[0m     _result \u001b[38;5;241m=\u001b[39m \u001b[43mpywrap_tfe\u001b[49m\u001b[38;5;241;43m.\u001b[39;49m\u001b[43mTFE_Py_FastPathExecute\u001b[49m\u001b[43m(\u001b[49m\n\u001b[1;32m    173\u001b[0m \u001b[43m      \u001b[49m\u001b[43m_ctx\u001b[49m\u001b[43m,\u001b[49m\u001b[43m \u001b[49m\u001b[38;5;124;43m\"\u001b[39;49m\u001b[38;5;124;43mOptionalHasValue\u001b[39;49m\u001b[38;5;124;43m\"\u001b[39;49m\u001b[43m,\u001b[49m\u001b[43m \u001b[49m\u001b[43mname\u001b[49m\u001b[43m,\u001b[49m\u001b[43m \u001b[49m\u001b[43moptional\u001b[49m\u001b[43m)\u001b[49m\n\u001b[1;32m    174\u001b[0m     \u001b[38;5;28;01mreturn\u001b[39;00m _result\n\u001b[1;32m    175\u001b[0m   \u001b[38;5;28;01mexcept\u001b[39;00m _core\u001b[38;5;241m.\u001b[39m_NotOkStatusException \u001b[38;5;28;01mas\u001b[39;00m e:\n",
      "\u001b[0;31mKeyboardInterrupt\u001b[0m: "
     ]
    }
   ],
   "source": [
    "model.compile(optimizer='adam', loss='mse', metrics=['accuracy'])\n",
    "history = model.fit(X_train, y_train, epochs=1, batch_size=128, validation_split=0.2)"
   ]
  },
  {
   "cell_type": "code",
   "execution_count": 83,
   "metadata": {},
   "outputs": [
    {
     "name": "stdout",
     "output_type": "stream",
     "text": [
      "\u001b[1m1/1\u001b[0m \u001b[32m━━━━━━━━━━━━━━━━━━━━\u001b[0m\u001b[37m\u001b[0m \u001b[1m0s\u001b[0m 177ms/step\n"
     ]
    },
    {
     "data": {
      "text/plain": [
       "array([[71.2924  , 65.73276 , 60.622593, 53.837933]], dtype=float32)"
      ]
     },
     "execution_count": 83,
     "metadata": {},
     "output_type": "execute_result"
    }
   ],
   "source": [
    "model.predict(X_test[0:1])"
   ]
  },
  {
   "cell_type": "code",
   "execution_count": 111,
   "metadata": {},
   "outputs": [],
   "source": [
    "def next_chord(chord):\n",
    "    nc_unrounded = model.predict(chord.reshape(1, window_size, 4), verbose=0)\n",
    "    nc = np.round(nc_unrounded).reshape(1, 4)\n",
    "    return nc\n",
    "\n",
    "def extend_sequence(sequence, length):\n",
    "    for i in range(length):\n",
    "        next_chord_result = next_chord(sequence[-window_size:])\n",
    "        sequence = np.concatenate((sequence, next_chord_result), axis=0)\n",
    "    return sequence\n",
    "\n",
    "extended = extend_sequence(X_test[0], 100)"
   ]
  },
  {
   "cell_type": "code",
   "execution_count": 112,
   "metadata": {},
   "outputs": [
    {
     "data": {
      "text/plain": [
       "array([[69., 62., 54., 50.],\n",
       "       [69., 62., 54., 50.],\n",
       "       [69., 62., 54., 50.],\n",
       "       [69., 62., 54., 50.],\n",
       "       [69., 62., 54., 50.],\n",
       "       [69., 62., 54., 50.],\n",
       "       [69., 62., 54., 50.],\n",
       "       [67., 59., 52., 52.],\n",
       "       [67., 59., 52., 52.],\n",
       "       [67., 59., 52., 52.],\n",
       "       [67., 59., 52., 52.],\n",
       "       [66., 62., 57., 50.],\n",
       "       [66., 62., 57., 50.],\n",
       "       [66., 62., 57., 50.],\n",
       "       [66., 62., 57., 50.],\n",
       "       [66., 62., 57., 50.],\n",
       "       [66., 62., 57., 50.],\n",
       "       [66., 62., 57., 50.],\n",
       "       [66., 62., 57., 50.],\n",
       "       [67., 62., 59., 43.],\n",
       "       [67., 62., 59., 43.],\n",
       "       [67., 62., 59., 43.],\n",
       "       [67., 62., 59., 43.],\n",
       "       [67., 62., 59., 43.],\n",
       "       [67., 62., 59., 43.],\n",
       "       [67., 62., 59., 43.],\n",
       "       [67., 62., 59., 43.],\n",
       "       [67., 62., 59., 43.],\n",
       "       [67., 62., 59., 43.],\n",
       "       [67., 62., 59., 43.],\n",
       "       [67., 62., 59., 43.],\n",
       "       [67., 62., 59., 55.],\n",
       "       [67., 62., 59., 55.],\n",
       "       [67., 62., 59., 55.],\n",
       "       [67., 62., 59., 55.],\n",
       "       [67., 64., 59., 52.],\n",
       "       [67., 64., 59., 52.],\n",
       "       [67., 64., 59., 52.],\n",
       "       [67., 64., 59., 52.],\n",
       "       [69., 66., 62., 50.],\n",
       "       [69., 66., 62., 50.],\n",
       "       [69., 66., 62., 50.],\n",
       "       [69., 66., 62., 50.],\n",
       "       [71., 67., 62., 55.],\n",
       "       [71., 67., 62., 55.],\n",
       "       [71., 67., 62., 55.],\n",
       "       [71., 67., 62., 55.],\n",
       "       [71., 67., 62., 55.],\n",
       "       [71., 67., 62., 54.],\n",
       "       [71., 67., 62., 53.],\n",
       "       [70., 67., 62., 52.],\n",
       "       [70., 66., 62., 51.],\n",
       "       [70., 66., 62., 50.],\n",
       "       [70., 66., 62., 50.],\n",
       "       [70., 66., 62., 50.],\n",
       "       [70., 66., 62., 50.],\n",
       "       [70., 66., 62., 50.],\n",
       "       [70., 66., 62., 50.],\n",
       "       [70., 66., 62., 50.],\n",
       "       [70., 66., 62., 50.],\n",
       "       [70., 66., 62., 50.],\n",
       "       [70., 66., 62., 50.],\n",
       "       [70., 66., 62., 50.],\n",
       "       [70., 66., 62., 50.],\n",
       "       [70., 66., 62., 50.],\n",
       "       [70., 66., 62., 50.],\n",
       "       [70., 66., 62., 50.],\n",
       "       [70., 66., 62., 50.],\n",
       "       [70., 66., 62., 50.],\n",
       "       [70., 66., 62., 50.],\n",
       "       [70., 66., 62., 50.],\n",
       "       [70., 66., 62., 50.],\n",
       "       [70., 66., 62., 50.],\n",
       "       [70., 66., 62., 50.],\n",
       "       [70., 66., 62., 50.],\n",
       "       [70., 66., 62., 50.],\n",
       "       [70., 66., 62., 50.],\n",
       "       [70., 66., 62., 50.],\n",
       "       [70., 66., 62., 50.],\n",
       "       [70., 66., 62., 50.],\n",
       "       [70., 66., 62., 50.],\n",
       "       [70., 66., 62., 50.],\n",
       "       [70., 66., 62., 50.],\n",
       "       [70., 66., 62., 50.],\n",
       "       [70., 66., 62., 50.],\n",
       "       [70., 66., 62., 50.],\n",
       "       [70., 66., 62., 50.],\n",
       "       [70., 66., 62., 50.],\n",
       "       [70., 66., 62., 50.],\n",
       "       [70., 66., 62., 50.],\n",
       "       [70., 66., 62., 50.],\n",
       "       [70., 66., 62., 50.],\n",
       "       [70., 66., 62., 50.],\n",
       "       [70., 66., 62., 50.],\n",
       "       [70., 66., 62., 50.],\n",
       "       [70., 66., 62., 50.],\n",
       "       [70., 66., 62., 50.],\n",
       "       [70., 66., 62., 50.],\n",
       "       [70., 66., 62., 50.],\n",
       "       [70., 66., 62., 50.],\n",
       "       [70., 66., 62., 50.],\n",
       "       [70., 66., 62., 50.],\n",
       "       [70., 66., 62., 50.],\n",
       "       [70., 66., 62., 50.],\n",
       "       [70., 66., 62., 50.],\n",
       "       [70., 66., 62., 50.],\n",
       "       [70., 66., 62., 50.],\n",
       "       [70., 66., 62., 50.],\n",
       "       [70., 66., 62., 50.],\n",
       "       [70., 66., 62., 50.],\n",
       "       [70., 66., 62., 50.],\n",
       "       [70., 66., 62., 50.],\n",
       "       [70., 66., 62., 50.],\n",
       "       [70., 66., 62., 50.],\n",
       "       [70., 66., 62., 50.],\n",
       "       [70., 66., 62., 50.],\n",
       "       [70., 66., 62., 50.],\n",
       "       [70., 66., 62., 50.],\n",
       "       [70., 66., 62., 50.],\n",
       "       [70., 66., 62., 50.],\n",
       "       [70., 66., 62., 50.],\n",
       "       [70., 66., 62., 50.],\n",
       "       [70., 66., 62., 50.],\n",
       "       [70., 66., 62., 50.],\n",
       "       [70., 66., 62., 50.],\n",
       "       [70., 66., 62., 50.],\n",
       "       [70., 66., 62., 50.],\n",
       "       [70., 66., 62., 50.],\n",
       "       [70., 66., 62., 50.],\n",
       "       [70., 66., 62., 50.],\n",
       "       [70., 66., 62., 50.],\n",
       "       [70., 66., 62., 50.],\n",
       "       [70., 66., 62., 50.],\n",
       "       [70., 66., 62., 50.],\n",
       "       [70., 66., 62., 50.],\n",
       "       [70., 66., 62., 50.],\n",
       "       [70., 66., 62., 50.],\n",
       "       [70., 66., 62., 50.],\n",
       "       [70., 66., 62., 50.],\n",
       "       [70., 66., 62., 50.],\n",
       "       [70., 66., 62., 50.],\n",
       "       [70., 66., 62., 50.],\n",
       "       [70., 66., 62., 50.],\n",
       "       [70., 66., 62., 50.],\n",
       "       [70., 66., 62., 50.],\n",
       "       [70., 66., 62., 50.],\n",
       "       [70., 66., 62., 50.],\n",
       "       [70., 66., 62., 50.]])"
      ]
     },
     "execution_count": 112,
     "metadata": {},
     "output_type": "execute_result"
    }
   ],
   "source": [
    "extended"
   ]
  },
  {
   "cell_type": "code",
   "execution_count": 113,
   "metadata": {},
   "outputs": [],
   "source": [
    "#save as csv\n",
    "df = pd.DataFrame(extended)\n",
    "df.to_csv(\"extended_sequence.csv\", index=False, header=False)"
   ]
  },
  {
   "cell_type": "markdown",
   "metadata": {},
   "source": []
  }
 ],
 "metadata": {
  "kernelspec": {
   "display_name": "tf-env",
   "language": "python",
   "name": "python3"
  },
  "language_info": {
   "codemirror_mode": {
    "name": "ipython",
    "version": 3
   },
   "file_extension": ".py",
   "mimetype": "text/x-python",
   "name": "python",
   "nbconvert_exporter": "python",
   "pygments_lexer": "ipython3",
   "version": "3.11.9"
  }
 },
 "nbformat": 4,
 "nbformat_minor": 2
}
