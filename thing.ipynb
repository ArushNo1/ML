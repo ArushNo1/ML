{
 "cells": [
  {
   "cell_type": "code",
   "execution_count": 1,
   "metadata": {},
   "outputs": [],
   "source": [
    "maybe = 'Robert Frost wrote the poem \"Mending Wall\", where the neighbors meet to fix their dividing wall'\n",
    "true = 'Robe,t Frostt wroteh me poe\"gnMendi whWall\"wo ere tborneigh ofs metthe fixividir diallwng theetogrr'\n"
   ]
  },
  {
   "cell_type": "code",
   "execution_count": 2,
   "metadata": {},
   "outputs": [
    {
     "data": {
      "text/plain": [
       "     17\n",
       "직    11\n",
       "괜    11\n",
       "장     9\n",
       "찮     7\n",
       "업     6\n",
       "고     6\n",
       "네     6\n",
       "라     4\n",
       "만     4\n",
       "혼     3\n",
       "화     3\n",
       "소     3\n",
       "요     3\n",
       "종     2\n",
       "채     2\n",
       "빵     2\n",
       "기     2\n",
       "편     2\n",
       "쪽     1\n",
       "친     1\n",
       "내     1\n",
       "Name: count, dtype: int64"
      ]
     },
     "execution_count": 2,
     "metadata": {},
     "output_type": "execute_result"
    }
   ],
   "source": [
    "# Encoded message\n",
    "import pandas as pd\n",
    "\n",
    "\n",
    "encoded = \\\n",
    "    \"종화장라 업직쪽네장라 요만직괜찮직채 고괜장라기소 찮고직 종네만직괜장 괜소빵고괜친직찮 괜장채 화찮업 혼화편직 요네장업직장찮업 괜혼찮직만 찮고직 업고괜빵직 네혼 고기내괜장 편네요괜소 네만라괜장업\"\n",
    "\n",
    "pd.Series(list(encoded)).value_counts()"
   ]
  },
  {
   "cell_type": "code",
   "execution_count": 19,
   "metadata": {},
   "outputs": [
    {
     "data": {
      "text/plain": [
       "'nkch easgch miabdao fbchql dfa ngiabc blpfbtad bco kde jkra mgceacde bjdai dfa efbpa gj fqubc rgmbl gihbce'"
      ]
     },
     "execution_count": 19,
     "metadata": {},
     "output_type": "execute_result"
    }
   ],
   "source": [
    "charmap = {\n",
    "    '직':'a', \n",
    "    '괜':'b', \n",
    "    '장':'c', \n",
    "    '찮':'d', \n",
    "    '업':'e', \n",
    "    '고':'f', \n",
    "    '네':'g', \n",
    "    '라':'h', \n",
    "    '만':'i', \n",
    "    '혼':'j', \n",
    "    '화':'k', \n",
    "    '소':'l', \n",
    "    '요':'m', \n",
    "    '종':'n', \n",
    "    '채':'o', \n",
    "    '빵':'p', \n",
    "    '기':'q', \n",
    "    '편':'r', \n",
    "    '쪽':'s', \n",
    "    '친':'t', \n",
    "    '내':'u',\n",
    "    ' ': ' ',\n",
    "} \n",
    "mapped = [charmap.get(c, c) for c in encoded]\n",
    "# if the character in the charmap is blank, replace with original character\n",
    "for i in range(len(mapped)):\n",
    "    if mapped[i] == '':\n",
    "        mapped[i] = encoded[i]\n",
    "\n",
    "plaintext = ''.join(mapped)\n",
    "plaintext"
   ]
  },
  {
   "cell_type": "code",
   "execution_count": null,
   "metadata": {},
   "outputs": [],
   "source": []
  }
 ],
 "metadata": {
  "kernelspec": {
   "display_name": "env",
   "language": "python",
   "name": "python3"
  },
  "language_info": {
   "codemirror_mode": {
    "name": "ipython",
    "version": 3
   },
   "file_extension": ".py",
   "mimetype": "text/x-python",
   "name": "python",
   "nbconvert_exporter": "python",
   "pygments_lexer": "ipython3",
   "version": "3.11.9"
  }
 },
 "nbformat": 4,
 "nbformat_minor": 2
}
