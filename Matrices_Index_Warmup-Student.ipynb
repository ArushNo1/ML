{
 "cells": [
  {
   "cell_type": "markdown",
   "id": "c679f1aa-6a80-48eb-a1e5-4b42e3ca905d",
   "metadata": {},
   "source": [
    "# Matrix indices warmup"
   ]
  },
  {
   "cell_type": "code",
   "execution_count": 2,
   "id": "de0861f2-88e4-4625-81c5-c9e8aea68825",
   "metadata": {},
   "outputs": [],
   "source": [
    "import numpy as np"
   ]
  },
  {
   "cell_type": "markdown",
   "id": "ee595cf2-adcf-482a-b2ab-f70f3eeb0dc9",
   "metadata": {},
   "source": [
    "Write nested loops to create each of the following 5x5 matrices, starting from a zero matrix. Use 'c' and 'r' as the names of your index variables (this really helps your brain.) Use a counter, too!"
   ]
  },
  {
   "cell_type": "markdown",
   "id": "4ca9a1ef-fe02-4cc6-afe6-6d4f19cee894",
   "metadata": {},
   "source": [
    "$$\n",
    "\\begin{bmatrix}\n",
    "  1 &  0 &  0 &  0 &  0\\\\\n",
    "  2 &  6 &  0 &  0 &  0\\\\\n",
    "  3 &  7 &  10 &  0 &  0\\\\\n",
    "  4 &  8 &  11 &  13 &  0\\\\\n",
    "  5 &  9 &  12 &  14 &  15\n",
    "\\end{bmatrix}\n",
    "$$\n",
    "\n",
    "$$\n",
    "\\begin{bmatrix}\n",
    "  0 &  0 &  0 &  0 &  0\\\\\n",
    "  1 &  0 &  0 &  0 &  0\\\\\n",
    "  2 &  5 &  0 &  0 &  0\\\\\n",
    "  3 &  6 &  8 &  0 &  0\\\\\n",
    "  4 &  7 &  9 &  10 &  0\n",
    "\\end{bmatrix}\n",
    "$$\n",
    "\n",
    "$$\n",
    "\\begin{bmatrix}\n",
    "  15 &  14 &  12 &  9 &  5\\\\\n",
    "  0 &  13 &  11 &  8 &  4\\\\\n",
    "  0 &  0 &  10 &  7 &  3\\\\\n",
    "  0 &  0 &  0 &  6 &  2\\\\\n",
    "  0 &  0 &  0 &  0 &  1\n",
    "\\end{bmatrix}\n",
    "$$\n",
    "\n",
    "$$\n",
    "\\begin{bmatrix}\n",
    "  0 &  10 &  9 &  7 &  4\\\\\n",
    "  0 &  0 &  8 &  6 &  3\\\\\n",
    "  0 &  0 &  0 &  5 &  2\\\\\n",
    "  0 &  0 &  0 &  0 &  1\\\\\n",
    "  0 &  0 &  0 &  0 &  0\n",
    "\\end{bmatrix}\n",
    "$$"
   ]
  },
  {
   "cell_type": "code",
   "execution_count": 3,
   "id": "f6d98eb4-1d92-4bee-b227-b59b43dbd85d",
   "metadata": {},
   "outputs": [],
   "source": [
    "A = np.zeros((5,5), np.int32)"
   ]
  },
  {
   "cell_type": "code",
   "execution_count": 9,
   "id": "94b030c1-6ac8-4c70-a679-cd8d9bbb6d4d",
   "metadata": {},
   "outputs": [
    {
     "data": {
      "text/plain": [
       "array([[ 1,  0,  0,  0,  0],\n",
       "       [ 2,  6,  0,  0,  0],\n",
       "       [ 3,  7, 10,  0,  0],\n",
       "       [ 4,  8, 11, 13,  0],\n",
       "       [ 5,  9, 12, 14, 15]], dtype=int32)"
      ]
     },
     "execution_count": 9,
     "metadata": {},
     "output_type": "execute_result"
    }
   ],
   "source": [
    "# Solution 1 Here\n",
    "B = np.array(A)\n",
    "counter = 1\n",
    "for c in range(5):\n",
    "    for r in range(c, 5):\n",
    "        B[r][c] = counter\n",
    "        counter += 1\n",
    "B"
   ]
  },
  {
   "cell_type": "code",
   "execution_count": 13,
   "id": "764c8880-2ce1-4373-b43b-bb513ffa2e92",
   "metadata": {},
   "outputs": [
    {
     "data": {
      "text/plain": [
       "array([[ 0,  0,  0,  0,  0],\n",
       "       [ 4,  0,  0,  0,  0],\n",
       "       [ 3,  7,  0,  0,  0],\n",
       "       [ 2,  6,  9,  0,  0],\n",
       "       [ 1,  5,  8, 10,  0]], dtype=int32)"
      ]
     },
     "execution_count": 13,
     "metadata": {},
     "output_type": "execute_result"
    }
   ],
   "source": [
    "# Solution 2 Here\n",
    "C = np.array(A)\n",
    "counter = 1\n",
    "for c in range(5):\n",
    "    for r in range(4, c, -1):\n",
    "        C[r][c] = counter\n",
    "        counter += 1\n",
    "C"
   ]
  },
  {
   "cell_type": "code",
   "execution_count": 29,
   "id": "6d7008b1-8be9-4271-8e1d-aeea168b9a76",
   "metadata": {},
   "outputs": [
    {
     "data": {
      "text/plain": [
       "array([[15, 14, 12,  9,  5],\n",
       "       [ 0, 13, 11,  8,  4],\n",
       "       [ 0,  0, 10,  7,  3],\n",
       "       [ 0,  0,  0,  6,  2],\n",
       "       [ 0,  0,  0,  0,  1]], dtype=int32)"
      ]
     },
     "execution_count": 29,
     "metadata": {},
     "output_type": "execute_result"
    }
   ],
   "source": [
    "# Solution 3 Here\n",
    "D = np.array(A)\n",
    "counter = 1\n",
    "for c in range(4, -1, -1):\n",
    "    for r in range(c, -1, -1):\n",
    "        D[r][c] = counter\n",
    "        counter += 1\n",
    "D"
   ]
  },
  {
   "cell_type": "code",
   "execution_count": 30,
   "id": "d6d28976-809d-4d76-a66b-97dcfd7b5a52",
   "metadata": {},
   "outputs": [
    {
     "data": {
      "text/plain": [
       "array([[ 0, 10,  9,  7,  4],\n",
       "       [ 0,  0,  8,  6,  3],\n",
       "       [ 0,  0,  0,  5,  2],\n",
       "       [ 0,  0,  0,  0,  1],\n",
       "       [ 0,  0,  0,  0,  0]], dtype=int32)"
      ]
     },
     "execution_count": 30,
     "metadata": {},
     "output_type": "execute_result"
    }
   ],
   "source": [
    "# Solution 4 Here\n",
    "E = np.array(A)\n",
    "counter = 1\n",
    "for c in range(4, -1, -1):\n",
    "    for r in range(c - 1, -1, -1):\n",
    "        E[r][c] = counter\n",
    "        counter += 1\n",
    "E"
   ]
  },
  {
   "cell_type": "code",
   "execution_count": null,
   "id": "c2e51611-0a87-4ce6-91f7-d89fcd72fadf",
   "metadata": {},
   "outputs": [],
   "source": []
  }
 ],
 "metadata": {
  "kernelspec": {
   "display_name": "Python 3 (ipykernel)",
   "language": "python",
   "name": "python3"
  },
  "language_info": {
   "codemirror_mode": {
    "name": "ipython",
    "version": 3
   },
   "file_extension": ".py",
   "mimetype": "text/x-python",
   "name": "python",
   "nbconvert_exporter": "python",
   "pygments_lexer": "ipython3",
   "version": "3.11.9"
  }
 },
 "nbformat": 4,
 "nbformat_minor": 5
}
