{
 "cells": [
  {
   "cell_type": "code",
   "execution_count": 17,
   "id": "3ee73ab8-a768-461c-b189-52ce15904e0c",
   "metadata": {},
   "outputs": [],
   "source": [
    "import pandas as pd\n",
    "import numpy as np\n",
    "import matplotlib.pyplot as plt"
   ]
  },
  {
   "cell_type": "code",
   "execution_count": 37,
   "id": "a2bcbea6-0f97-436d-a973-6a690f0d2fd7",
   "metadata": {},
   "outputs": [
    {
     "data": {
      "text/plain": [
       "0     4\n",
       "1     4\n",
       "2     5\n",
       "3     5\n",
       "4     4\n",
       "5     5\n",
       "6     5\n",
       "7     4\n",
       "8     5\n",
       "9     5\n",
       "10    4\n",
       "11    5\n",
       "12    4\n",
       "13    5\n",
       "14    4\n",
       "15    4\n",
       "16    5\n",
       "17    4\n",
       "18    5\n",
       "19    5\n",
       "20    5\n",
       "21    4\n",
       "22    5\n",
       "23    4\n",
       "24    5\n",
       "25    4\n",
       "26    5\n",
       "27    4\n",
       "28    4\n",
       "29    5\n",
       "30    4\n",
       "31    5\n",
       "32    4\n",
       "33    5\n",
       "34    4\n",
       "35    4\n",
       "36    4\n",
       "37    5\n",
       "38    5\n",
       "39    4\n",
       "40    4\n",
       "41    5\n",
       "42    4\n",
       "43    5\n",
       "44    5\n",
       "45    4\n",
       "46    5\n",
       "47    5\n",
       "Name: Minimum Score Required, dtype: int64"
      ]
     },
     "execution_count": 37,
     "metadata": {},
     "output_type": "execute_result"
    }
   ],
   "source": [
    "colleges = [\"Carnegie_Mellon\", \"Cornell\", \"Georgia_Tech\", \"GMU\", \"Harvard\", \"MIT\", \"UVA\", \"VCU\", \"Virginia_Tech\", \"William_And_Mary\"]\n",
    "files = {name: open(\"./data/\" + name + \"_AP_Policy.csv\", 'r') for name in colleges}\n",
    "dfs = {name: pd.read_csv(file) for name, file in files.items()}\n",
    "\n",
    "msc = \n",
    "cm = dfs[\"Carnegie_Mellon\"]\n",
    "cm[\"Minimum Score Required\"]\n",
    "\n"
   ]
  },
  {
   "cell_type": "code",
   "execution_count": null,
   "id": "2757c67a-a673-41f5-a1ef-9466156a346c",
   "metadata": {},
   "outputs": [],
   "source": []
  },
  {
   "cell_type": "code",
   "execution_count": null,
   "id": "4d6d71f9-956e-4309-8064-edd335e416c5",
   "metadata": {},
   "outputs": [],
   "source": []
  },
  {
   "cell_type": "code",
   "execution_count": 15,
   "id": "04980f9b-e8ae-448f-afb8-13a3037561e1",
   "metadata": {},
   "outputs": [],
   "source": [
    "for file in files.values():\n",
    "    file.close()"
   ]
  },
  {
   "cell_type": "code",
   "execution_count": null,
   "id": "1441427d-0933-4383-b872-49c4c2cfcab9",
   "metadata": {},
   "outputs": [],
   "source": []
  }
 ],
 "metadata": {
  "kernelspec": {
   "display_name": "Python 3 (ipykernel)",
   "language": "python",
   "name": "python3"
  },
  "language_info": {
   "codemirror_mode": {
    "name": "ipython",
    "version": 3
   },
   "file_extension": ".py",
   "mimetype": "text/x-python",
   "name": "python",
   "nbconvert_exporter": "python",
   "pygments_lexer": "ipython3",
   "version": "3.11.9"
  }
 },
 "nbformat": 4,
 "nbformat_minor": 5
}
