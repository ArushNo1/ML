{
 "cells": [
  {
   "cell_type": "markdown",
   "metadata": {},
   "source": [
    "## How Do I ML? A Quarter 1 Summary\n",
    "\n",
    "Arush Bodla"
   ]
  },
  {
   "cell_type": "markdown",
   "metadata": {},
   "source": [
    "## Chapter 1: Setting Up an Environment"
   ]
  },
  {
   "cell_type": "markdown",
   "metadata": {},
   "source": [
    "1. What do I code in?  \n",
    "The most commonly used language is python because its easy to use and has a lot of built in functions. Some useful libraries in python include <span style='color:#f5e342'>numpy</span>, <span style='color:#f5e342'>matplotlib</span>, and <span style='color:#f5e342'>scikit-learn</span>."
   ]
  },
  {
   "cell_type": "code",
   "execution_count": 8,
   "metadata": {},
   "outputs": [
    {
     "name": "stdout",
     "output_type": "stream",
     "text": [
      "This is some python code\n"
     ]
    }
   ],
   "source": [
    "print('This is some python code')"
   ]
  },
  {
   "cell_type": "markdown",
   "metadata": {},
   "source": [
    "2. How do I use python?  \n",
    "The best way to start using python is to create a development environment using <span style='color:#ed3bea'>asdf</span> and <span style='color:orange'> WSL</span>.  \n",
    "To install WSL, look <a href='https://learn.microsoft.com/en-us/windows/wsl/install'><u> here</u></a>.\n",
    "After WSL is installed, look at getting asdf installed <a href='https://asdf-vm.com/guide/getting-started.html'><u> here</u></a>. Steps 1-3 are enough to get it working."
   ]
  },
  {
   "cell_type": "markdown",
   "metadata": {
    "vscode": {
     "languageId": "html"
    }
   },
   "source": [
    "3. Problems with WSL installation: \n",
    "- I can't run the ``wsl --install`` command\n",
    "    - Double check the command prompt you are using is <span style='color:#5396FE'>Windows PowerShell</span>. When you open the terminal, make sure you click *Run as Administrator*.\n",
    "- I'm getting an error saying Virtualization is turned off\n",
    "    - Type *Enable or disable Windows Features* in your search bar, and open the result that shows up. Make sure WSL is enabled\n",
    "    - If this still doesn't work, reboot your computer and open <span style='color:#39FF14'> BIOS</span>, enabling virtualization in there.\n",
    "- After opening WSL, make sure the prompt that appears is something like <code style='color:#39EF14'> username@AET:<span style='color:#268BD2'>~$</span></code>. If the username is <code>root</code>, run this command:  \n",
    "<code> sudo adduser \\<username\\> </code> and then fill in the information it asks you to.\n"
   ]
  },
  {
   "cell_type": "markdown",
   "metadata": {},
   "source": [
    "4. Problems with asdf:\n",
    "- What package manager do I use?\n",
    "  - The package manager for WSL is *apt(itude)*. To install packages or programs, use `` sudo apt install \\<program\\>``\n",
    "- How do I add something to my ``.bashrc``?\n",
    "  - Use `` echo text >> ~/.bashrc`` to add text to the end of the file."
   ]
  },
  {
   "cell_type": "markdown",
   "metadata": {},
   "source": [
    "Once asdf and WSL are installed, the next step is to use asdf to install <span style='color:yellow'> python </span>. To get python, run these commands:"
   ]
  },
  {
   "cell_type": "code",
   "execution_count": 6,
   "metadata": {
    "vscode": {
     "languageId": "shellscript"
    }
   },
   "outputs": [
    {
     "ename": "SyntaxError",
     "evalue": "invalid syntax (2885435243.py, line 1)",
     "output_type": "error",
     "traceback": [
      "\u001b[0;36m  Cell \u001b[0;32mIn[6], line 1\u001b[0;36m\u001b[0m\n\u001b[0;31m    asdf plugin add python\u001b[0m\n\u001b[0m         ^\u001b[0m\n\u001b[0;31mSyntaxError\u001b[0m\u001b[0;31m:\u001b[0m invalid syntax\n"
     ]
    }
   ],
   "source": [
    "asdf plugin add python\n",
    "asdf install python 3.11.9\n",
    "asdf global python 3.11.9\n",
    "# To make a machine learning folder\n",
    "mkdir ~/ML\n",
    "cd ~/ML\n",
    "# Create a virtual environment\n",
    "python -m env venv\n",
    "source env/bin/activate\n",
    "wget https://aet-cs.github.io/white/ML/requirements.txt\n",
    "pip install -r requirements.txt\n"
   ]
  },
  {
   "cell_type": "markdown",
   "metadata": {},
   "source": [
    "## Chapter 2: Using Jupyter Notebooks"
   ]
  },
  {
   "cell_type": "markdown",
   "metadata": {},
   "source": [
    "5. How do I open a Jupyter Notebook?\n",
    "  - First, have an installation of <span style='color:#007ACC'>VSCode</span> on your WSL. (<code>sudo apt install vscode</code>)\n",
    "  - Then, in your ML folder, you can open vscode using <code>code .</code>\n",
    "  - In the *Explorer* menu that appears, click *create new file* and title it <code>my_notebook.ipynb</code>\n",
    "  - Double click on the notebook in the menu to open the notebook.\n",
    "  - In the top right corner, select <code>env/bin/python</code> as the kernel to use."
   ]
  },
  {
   "cell_type": "markdown",
   "metadata": {},
   "source": [
    "6. Navigating a Jupyter Notebook:\n",
    "  - There are two modes to controlling a jupyter notebook. In *command mode*, you can add, edit, and delete cells. In *edit mode*, you write the actual code and markdown you may be using. To enter command mode, click the escape key, and for edit mode, click enter on a selected cell.  \n",
    "  - Keybinds in command mode:\n",
    "    - <code> A</code>: Insert a new cell above the currently selected one.\n",
    "    - <code> B</code>: Insert a new cell below the currently selected one.\n",
    "    - <code> Shift+Enter</code>: Run the currently selected cell and advance the cursor.\n",
    "    - <code> Ctrl+Enter</code>: Run the currently selected cell without moving the cursor.\n",
    "    "
   ]
  },
  {
   "cell_type": "markdown",
   "metadata": {},
   "source": [
    "7. What's a Cell?\n",
    "  - A cell is a group of code, text, or script that is grouped together. A cell can be run or rendered as many times as you want, without affecting other cells. \n",
    "  - Variables made in one cell continue throughout the rest of the notebook, so be careful modifying variables without resetting their values. Run the two cells below to see this in action:"
   ]
  },
  {
   "cell_type": "code",
   "execution_count": 9,
   "metadata": {},
   "outputs": [
    {
     "name": "stdout",
     "output_type": "stream",
     "text": [
      "5\n"
     ]
    }
   ],
   "source": [
    "a = 5\n",
    "print(a)"
   ]
  },
  {
   "cell_type": "code",
   "execution_count": 10,
   "metadata": {},
   "outputs": [
    {
     "name": "stdout",
     "output_type": "stream",
     "text": [
      "6\n"
     ]
    }
   ],
   "source": [
    "a += 1\n",
    "print(a)"
   ]
  },
  {
   "cell_type": "markdown",
   "metadata": {},
   "source": [
    "## Chapter 3: Writing Some Code"
   ]
  },
  {
   "cell_type": "markdown",
   "metadata": {},
   "source": [
    "8. What are the basic data structures in python?\n",
    "  - <code>lists</code>: these are built into python, and store a sequence of elements.\n",
    "  - <code>dictionaries</code>: also built in python types, dictionaries map keys to values.\n",
    "  - <code>np arrays</code>: np arrays come from the library <span style='color:#3EBB8E'>numpy</span>, and are used in nearly all of it's functions. numpy arrays are more useful than lists because you can do operations with them.\n",
    "  - <code>matrices</code> matrices are used to store multi-dimensional data, and under the hood they are just lists of lists. They have many properties that are useful for data processing and handling."
   ]
  },
  {
   "cell_type": "code",
   "execution_count": 17,
   "metadata": {},
   "outputs": [
    {
     "name": "stdout",
     "output_type": "stream",
     "text": [
      "my_list: [1, 2, 3]\n",
      "my_arr: [1 2 3]\n",
      "my_arr + 1: [2 3 4]\n",
      "my_arr * 2: [2 4 6]\n",
      "my_matrix:\n",
      " [[1 2]\n",
      " [3 4]]\n",
      "my_matrix * 2:\n",
      " [[2 4]\n",
      " [6 8]]\n"
     ]
    }
   ],
   "source": [
    "import numpy as np\n",
    "my_list = [1, 2, 3]\n",
    "print(\"my_list:\", my_list)\n",
    "\n",
    "my_arr = np.array([1, 2, 3])\n",
    "print(\"my_arr:\", my_arr)\n",
    "\n",
    "my_arr2 = my_arr + 1\n",
    "print(\"my_arr + 1:\", my_arr2)\n",
    "\n",
    "my_arr_3 = my_arr * 2\n",
    "print(\"my_arr * 2:\", my_arr_3)\n",
    "\n",
    "#a matrix is just a list of lists\n",
    "my_matrix = np.array([[1, 2], [3, 4]])\n",
    "print(\"my_matrix:\\n\", my_matrix)\n",
    "\n",
    "my_matrix_2 = my_matrix * 2\n",
    "print(\"my_matrix * 2:\\n\", my_matrix_2)"
   ]
  },
  {
   "cell_type": "markdown",
   "metadata": {},
   "source": [
    "9. What's a library, and why are they used?\n",
    "  - in python, a *library* is a collection of useful functions and libraries that are packaged together for easy use by other programs.\n",
    "  - to use a library in your code, simply type <code> import \\<library-name\\></code>. If you want to give the library a short name, you can add <code> as \\<shortname\\></code> to the import line.\n",
    "  - the most important libraries for python machine learning are numpy, matplotlib, and pandas."
   ]
  },
  {
   "cell_type": "markdown",
   "metadata": {},
   "source": []
  }
 ],
 "metadata": {
  "kernelspec": {
   "display_name": "env",
   "language": "python",
   "name": "python3"
  },
  "language_info": {
   "codemirror_mode": {
    "name": "ipython",
    "version": 3
   },
   "file_extension": ".py",
   "mimetype": "text/x-python",
   "name": "python",
   "nbconvert_exporter": "python",
   "pygments_lexer": "ipython3",
   "version": "3.11.9"
  }
 },
 "nbformat": 4,
 "nbformat_minor": 2
}
