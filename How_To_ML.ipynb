{
 "cells": [
  {
   "cell_type": "markdown",
   "metadata": {},
   "source": [
    "# How Do I ML?\n",
    "\n",
    "Arush Bodla"
   ]
  },
  {
   "cell_type": "markdown",
   "metadata": {},
   "source": [
    "## Chapter 1: Setting Up an Environment"
   ]
  },
  {
   "cell_type": "markdown",
   "metadata": {},
   "source": [
    "1. What do I code in?  \n",
    "The most commonly used language is python because its easy to use and has a lot of built in functions. Some useful libraries in python include <span style='color:#f5e342'>numpy</span>, <span style='color:#f5e342'>matplotlib</span>, and <span style='color:#f5e342'>scikit-learn</span>."
   ]
  },
  {
   "cell_type": "code",
   "execution_count": null,
   "metadata": {},
   "outputs": [],
   "source": [
    "print('This is some python code')"
   ]
  },
  {
   "cell_type": "markdown",
   "metadata": {},
   "source": [
    "2. How do I use python?  \n",
    "The best way to start using python is to create a development environment using <span style='color:#ed3bea'>asdf</span> and <span style='color:orange'> WSL</span>.  \n",
    "To install WSL, look <a href='https://learn.microsoft.com/en-us/windows/wsl/install'><u> here</u></a>.\n",
    "After WSL is installed, look at getting asdf installed <a href='https://asdf-vm.com/guide/getting-started.html'><u> here</u></a>. Steps 1-3 are enough to get it working."
   ]
  },
  {
   "cell_type": "markdown",
   "metadata": {
    "vscode": {
     "languageId": "html"
    }
   },
   "source": [
    "3. Problems with WSL installation: \n",
    "- I can't run the ``wsl --install`` command\n",
    "    - Double check the command prompt you are using is <span style='color:#5396FE'>Windows PowerShell</span>. When you open the terminal, make sure you click *Run as Administrator*.\n",
    "- I'm getting an error saying Virtualization is turned off\n",
    "    - Type *Enable or disable Windows Features* in your search bar, and open the result that shows up. Make sure WSL is enabled\n",
    "    - If this still doesn't work, reboot your computer and open <span style='color:#39FF14'> BIOS</span>, enabling virtualization in there.\n",
    "- After opening WSL, make sure the prompt that appears is something like <code style='color:#39EF14'> username@AET:<span style='color:#268BD2'>~$</span></code>. If the username is <code>root</code>, run this command:  \n",
    "<code> sudo adduser \\<username\\> </code> and then fill in the information it asks you to.\n"
   ]
  },
  {
   "cell_type": "markdown",
   "metadata": {},
   "source": [
    "4. Problems with asdf:\n",
    "- What package manager do I use?\n",
    "  - The package manager for WSL is *apt(itude)*. To install packages or programs, use `` sudo apt install \\<program\\>``\n",
    "- How do I add something to my ``.bashrc``?\n",
    "  - Use `` echo text >> ~/.bashrc`` to add text to the end of the file."
   ]
  },
  {
   "cell_type": "markdown",
   "metadata": {},
   "source": [
    "Once asdf and WSL are installed, the next step is to use asdf to install <span style='color:yellow'> python </span>. To get python, run these commands:"
   ]
  },
  {
   "cell_type": "code",
   "execution_count": null,
   "metadata": {
    "vscode": {
     "languageId": "shellscript"
    }
   },
   "outputs": [],
   "source": [
    "asdf plugin add python\n",
    "asdf install python 3.11.9\n",
    "asdf global python 3.11.9\n",
    "# To make a machine learning folder\n",
    "mkdir ~/ML\n",
    "cd ~/ML\n",
    "# Create a virtual environment\n",
    "python -m env venv\n",
    "source env/bin/activate\n",
    "wget https://aet-cs.github.io/white/ML/requirements.txt\n",
    "pip install -r requirements.txt\n"
   ]
  },
  {
   "cell_type": "markdown",
   "metadata": {},
   "source": [
    "## Chapter 2: Using Jupyter Notebooks"
   ]
  },
  {
   "cell_type": "markdown",
   "metadata": {},
   "source": [
    "5. How do I open a Jupyter Notebook?\n",
    "  - First, have an installation of <span style='color:#007ACC'>VSCode</span> on your WSL. (<code>sudo apt install vscode</code>)\n",
    "  - Then, in your ML folder, you can open vscode using <code>code .</code>\n",
    "  - In the *Explorer* menu that appears, click *create new file* and title it <code>my_notebook.ipynb</code>\n",
    "  - Double click on the notebook in the menu to open the notebook.\n",
    "  - In the top right corner, select <code>env/bin/python</code> as the kernel to use."
   ]
  },
  {
   "cell_type": "markdown",
   "metadata": {},
   "source": [
    "6. Navigating a Jupyter Notebook:\n",
    "  - There are two modes to controlling a jupyter notebook. In *command mode*, you can add, edit, and delete cells. In *edit mode*, you write the actual code and markdown you may be using. To enter command mode, click the escape key, and for edit mode, click enter on a selected cell.  \n",
    "  - Keybinds in command mode:\n",
    "    - <code> A</code>: Insert a new cell above the currently selected one.\n",
    "    - <code> B</code>: Insert a new cell below the currently selected one.\n",
    "    - <code> Shift+Enter</code>: Run the currently selected cell and advance the cursor.\n",
    "    - <code> Ctrl+Enter</code>: Run the currently selected cell without moving the cursor.\n",
    "    "
   ]
  },
  {
   "cell_type": "markdown",
   "metadata": {},
   "source": [
    "7. What's a Cell?\n",
    "  - A cell is a group of code, text, or script that is grouped together. A cell can be run or rendered as many times as you want, without affecting other cells. \n",
    "  - Variables made in one cell continue throughout the rest of the notebook, so be careful modifying variables without resetting their values. Run the two cells below to see this in action:"
   ]
  },
  {
   "cell_type": "code",
   "execution_count": null,
   "metadata": {},
   "outputs": [],
   "source": [
    "a = 5\n",
    "print(a)"
   ]
  },
  {
   "cell_type": "code",
   "execution_count": null,
   "metadata": {},
   "outputs": [],
   "source": [
    "a += 1\n",
    "print(a)"
   ]
  },
  {
   "cell_type": "markdown",
   "metadata": {},
   "source": [
    "## Chapter 3: Writing Some Code"
   ]
  },
  {
   "cell_type": "markdown",
   "metadata": {},
   "source": [
    "8. What are the basic data structures in python?\n",
    "  - <code>lists</code>: these are built into python, and store a sequence of elements.\n",
    "  - <code>dictionaries</code>: also built in python types, dictionaries map keys to values.\n",
    "  - <code>np arrays</code>: np arrays come from the library <span style='color:#3EBB8E'>numpy</span>, and are used in nearly all of it's functions. numpy arrays are more useful than lists because you can do operations with them.\n",
    "  - <code>matrices</code> matrices are used to store multi-dimensional data, and under the hood they are just lists of lists. They have many properties that are useful for data processing and handling."
   ]
  },
  {
   "cell_type": "code",
   "execution_count": null,
   "metadata": {},
   "outputs": [],
   "source": [
    "import numpy as np\n",
    "my_list = [1, 2, 3]\n",
    "print(\"my_list:\", my_list)\n",
    "\n",
    "my_arr = np.array([1, 2, 3])\n",
    "print(\"my_arr:\", my_arr)\n",
    "\n",
    "my_arr2 = my_arr + 1\n",
    "print(\"my_arr + 1:\", my_arr2)\n",
    "\n",
    "my_arr_3 = my_arr * 2\n",
    "print(\"my_arr * 2:\", my_arr_3)\n",
    "\n",
    "#a matrix is just a list of lists\n",
    "my_matrix = np.array([[1, 2], [3, 4]])\n",
    "print(\"my_matrix:\\n\", my_matrix)\n",
    "\n",
    "my_matrix_2 = my_matrix * 2\n",
    "print(\"my_matrix * 2:\\n\", my_matrix_2)"
   ]
  },
  {
   "cell_type": "markdown",
   "metadata": {},
   "source": [
    "9. What's a library, and why are they used?\n",
    "  - in python, a *library* is a collection of useful functions and variables that are packaged together for easy use by other programs.\n",
    "  - to use a library in your code, simply type <code> import \\<library-name\\></code>. If you want to give the library a short name, you can add <code> as \\<shortname\\></code> to the import line.\n",
    "  - the most important libraries for python machine learning are numpy, matplotlib, and pandas."
   ]
  },
  {
   "cell_type": "markdown",
   "metadata": {},
   "source": [
    "10. I can't import a library, what do I do?\n",
    "  - If you get an error like <code>ModuleNotFoundError: No module named 'sklearn'</code>, it means you need to install the library. To install a library, run <code>pip install \\<library-name\\></code>."
   ]
  },
  {
   "cell_type": "markdown",
   "metadata": {},
   "source": [
    "## Chapter 4: Visualizing data"
   ]
  },
  {
   "cell_type": "markdown",
   "metadata": {},
   "source": [
    "11. How do I make a scatter plot?\n",
    "  - To make a scatter plot, use <code> plt.scatter(x, y)</code>. The x and y values can be lists or arrays. Use <code> plt.show()</code> to show the plot."
   ]
  },
  {
   "cell_type": "code",
   "execution_count": null,
   "metadata": {},
   "outputs": [],
   "source": [
    "import matplotlib.pyplot as plt\n",
    "import numpy as np\n",
    "\n",
    "x = np.array(range(-5, 6))\n",
    "y = x * x\n",
    "plt.scatter(x, y)\n",
    "plt.show()"
   ]
  },
  {
   "cell_type": "markdown",
   "metadata": {},
   "source": [
    "12. What other plots can I make?\n",
    "  - Line graph : <code> plt.plot(x, y)</code>\n",
    "  - Bar graph : <code> plt.bar(x, y)</code>\n",
    "  - Histogram : <code> plt.hist(x)</code>\n",
    "  - Pie chart : <code> plt.pie(x)</code>"
   ]
  },
  {
   "cell_type": "markdown",
   "metadata": {},
   "source": [
    "## Chapter 5: Preprocessing Data"
   ]
  },
  {
   "cell_type": "markdown",
   "metadata": {},
   "source": [
    "We'll use this dataframe and perform different preprocessing operations on it:"
   ]
  },
  {
   "cell_type": "code",
   "execution_count": 15,
   "metadata": {},
   "outputs": [
    {
     "data": {
      "text/html": [
       "<div>\n",
       "<style scoped>\n",
       "    .dataframe tbody tr th:only-of-type {\n",
       "        vertical-align: middle;\n",
       "    }\n",
       "\n",
       "    .dataframe tbody tr th {\n",
       "        vertical-align: top;\n",
       "    }\n",
       "\n",
       "    .dataframe thead th {\n",
       "        text-align: right;\n",
       "    }\n",
       "</style>\n",
       "<table border=\"1\" class=\"dataframe\">\n",
       "  <thead>\n",
       "    <tr style=\"text-align: right;\">\n",
       "      <th></th>\n",
       "      <th>Color</th>\n",
       "      <th>Age</th>\n",
       "      <th>Height</th>\n",
       "    </tr>\n",
       "  </thead>\n",
       "  <tbody>\n",
       "    <tr>\n",
       "      <th>0</th>\n",
       "      <td>Red</td>\n",
       "      <td>1</td>\n",
       "      <td>5.0</td>\n",
       "    </tr>\n",
       "    <tr>\n",
       "      <th>1</th>\n",
       "      <td>Green</td>\n",
       "      <td>2</td>\n",
       "      <td>6.0</td>\n",
       "    </tr>\n",
       "    <tr>\n",
       "      <th>2</th>\n",
       "      <td>Blue</td>\n",
       "      <td>3</td>\n",
       "      <td>NaN</td>\n",
       "    </tr>\n",
       "    <tr>\n",
       "      <th>3</th>\n",
       "      <td>Red</td>\n",
       "      <td>4</td>\n",
       "      <td>8.0</td>\n",
       "    </tr>\n",
       "    <tr>\n",
       "      <th>4</th>\n",
       "      <td>Green</td>\n",
       "      <td>5</td>\n",
       "      <td>NaN</td>\n",
       "    </tr>\n",
       "    <tr>\n",
       "      <th>5</th>\n",
       "      <td>Blue</td>\n",
       "      <td>6</td>\n",
       "      <td>10.0</td>\n",
       "    </tr>\n",
       "  </tbody>\n",
       "</table>\n",
       "</div>"
      ],
      "text/plain": [
       "   Color  Age  Height\n",
       "0    Red    1     5.0\n",
       "1  Green    2     6.0\n",
       "2   Blue    3     NaN\n",
       "3    Red    4     8.0\n",
       "4  Green    5     NaN\n",
       "5   Blue    6    10.0"
      ]
     },
     "execution_count": 15,
     "metadata": {},
     "output_type": "execute_result"
    }
   ],
   "source": [
    "import numpy as np\n",
    "import pandas as pd\n",
    "\n",
    "headers = [\"Color\", \"Age\", \"Height\"]\n",
    "data = [\n",
    "    [\"Red\", 1, 5],\n",
    "    [\"Green\", 2, 6],\n",
    "    [\"Blue\", 3, np.nan],\n",
    "    [\"Red\", 4, 8],\n",
    "    [\"Green\", 5, np.nan],\n",
    "    [\"Blue\", 6, 10],\n",
    "]\n",
    "\n",
    "df = pd.DataFrame(data, columns=headers)\n",
    "df"
   ]
  },
  {
   "cell_type": "markdown",
   "metadata": {},
   "source": [
    "13. How do I ordinal encode data?\n",
    "  - For a given dataframe <code>df</code>, this performs ordinal encoding:"
   ]
  },
  {
   "cell_type": "code",
   "execution_count": null,
   "metadata": {},
   "outputs": [],
   "source": [
    "from sklearn.preprocessing import OrdinalEncoder\n",
    "\n",
    "cat_cols = df.select_dtypes(include=object).columns\n",
    "O_encoder = OrdinalEncoder()\n",
    "df[cat_cols]= O_encoder.fit_transform(df[cat_cols])"
   ]
  },
  {
   "cell_type": "markdown",
   "metadata": {},
   "source": [
    "14. How do I one-hot encode data?\n",
    "  - For a given dataframe <code>df</code>, this performs one-hot encoding:"
   ]
  },
  {
   "cell_type": "code",
   "execution_count": null,
   "metadata": {},
   "outputs": [],
   "source": [
    "df = pd.get_dummies(df, dtype=int)"
   ]
  },
  {
   "cell_type": "markdown",
   "metadata": {},
   "source": [
    "15. How do I fill in missing data?\n",
    "  - You can fill in missing data with the mode of that column using scikit learn's <code>SimpleImputer</code> class:"
   ]
  },
  {
   "cell_type": "markdown",
   "metadata": {},
   "source": []
  },
  {
   "cell_type": "markdown",
   "metadata": {},
   "source": [
    "## Chapter 6: Making Models"
   ]
  },
  {
   "cell_type": "markdown",
   "metadata": {},
   "source": [
    "## Chapter 7: Evaluating Performance"
   ]
  },
  {
   "cell_type": "markdown",
   "metadata": {},
   "source": [
    "1. How do I make a confusion matrix?\n",
    "  - To make and display a confusion matrix, use the code below"
   ]
  },
  {
   "cell_type": "code",
   "execution_count": null,
   "metadata": {},
   "outputs": [
    {
     "data": {
      "text/plain": [
       "<Axes: >"
      ]
     },
     "execution_count": 13,
     "metadata": {},
     "output_type": "execute_result"
    },
    {
     "data": {
      "image/png": "[encoded data removed]",
      "text/plain": [
       "<Figure size 640x480 with 2 Axes>"
      ]
     },
     "metadata": {},
     "output_type": "display_data"
    }
   ],
   "source": [
    "from sklearn.metrics import confusion_matrix\n",
    "import seaborn as sns\n",
    "\n",
    "cm = confusion_matrix(y_test, model.predict(X_test))\n",
    "sns.heatmap(cm, annot=True)"
   ]
  },
  {
   "cell_type": "markdown",
   "metadata": {},
   "source": [
    "## Chapter 8: Optimizing Models"
   ]
  },
  {
   "cell_type": "markdown",
   "metadata": {},
   "source": []
  }
 ],
 "metadata": {
  "kernelspec": {
   "display_name": "env",
   "language": "python",
   "name": "python3"
  },
  "language_info": {
   "codemirror_mode": {
    "name": "ipython",
    "version": 3
   },
   "file_extension": ".py",
   "mimetype": "text/x-python",
   "name": "python",
   "nbconvert_exporter": "python",
   "pygments_lexer": "ipython3",
   "version": "3.11.9"
  }
 },
 "nbformat": 4,
 "nbformat_minor": 2
}
